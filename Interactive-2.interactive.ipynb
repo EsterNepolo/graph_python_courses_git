{
 "cells": [
  {
   "cell_type": "markdown",
   "metadata": {},
   "source": [
    "Connected to .venv (Python 3.12.0)"
   ]
  },
  {
   "cell_type": "code",
   "execution_count": null,
   "metadata": {},
   "outputs": [],
   "source": []
  },
  {
   "cell_type": "code",
   "execution_count": 1,
   "id": "1d7a7c3d-c444-4b9e-9a6a-0595ea84d2e7",
   "metadata": {
    "vscode": {
     "languageId": "quarto"
    }
   },
   "outputs": [],
   "source": [
    "from openai import OpenAI\n",
    "import pandas as pd\n",
    "import numpy as np\n",
    "import plotly.express as px\n",
    "from local_settings import OPENAI_KEY # Assumes you have a local_settings.py file in your folder with your OpenAI key  \n",
    "# Initialize the OpenAI client\n",
    "client = OpenAI(api_key=OPENAI_KEY)"
   ]
  },
  {
   "cell_type": "code",
   "execution_count": 2,
   "id": "a4e2534e-dad4-46a2-be1d-fbbd530a81a1",
   "metadata": {
    "vscode": {
     "languageId": "quarto"
    }
   },
   "outputs": [],
   "source": [
    "def llm_chat(message):\n",
    "    response = client.chat.completions.create(\n",
    "        model=\"gpt-4o-mini\", messages=[{\"role\": \"user\", \"content\": message}]\n",
    "    )\n",
    "    return response.choices[0].message.content"
   ]
  },
  {
   "cell_type": "code",
   "execution_count": 3,
   "id": "b2106e30-b517-43c4-b2d2-8f82ed22ae5f",
   "metadata": {
    "vscode": {
     "languageId": "quarto"
    }
   },
   "outputs": [
    {
     "data": {
      "text/plain": [
       "'Python, the programming language, is named after \"Monty Python\\'s Flying Circus,\" a British sketch comedy television show that was popular in the 1970s. Its creator, Guido van Rossum, was a fan of the show and chose the name \"Python\" as a tribute to it. The choice reflects the language\\'s emphasis on simplicity and fun, in addition to its focus on readability and ease of use.'"
      ]
     },
     "execution_count": 3,
     "metadata": {},
     "output_type": "execute_result"
    }
   ],
   "source": [
    "llm_chat(\"What is Python (the language) named after?\")"
   ]
  },
  {
   "cell_type": "code",
   "execution_count": 4,
   "id": "c93802d8-458c-493d-b2f1-1c49790e1f44",
   "metadata": {
    "vscode": {
     "languageId": "quarto"
    }
   },
   "outputs": [
    {
     "data": {
      "text/html": [
       "<div>\n",
       "<style scoped>\n",
       "    .dataframe tbody tr th:only-of-type {\n",
       "        vertical-align: middle;\n",
       "    }\n",
       "\n",
       "    .dataframe tbody tr th {\n",
       "        vertical-align: top;\n",
       "    }\n",
       "\n",
       "    .dataframe thead th {\n",
       "        text-align: right;\n",
       "    }\n",
       "</style>\n",
       "<table border=\"1\" class=\"dataframe\">\n",
       "  <thead>\n",
       "    <tr style=\"text-align: right;\">\n",
       "      <th></th>\n",
       "      <th>job_title</th>\n",
       "      <th>salary_estimate</th>\n",
       "      <th>midpoint_salary_estimate</th>\n",
       "      <th>job_description</th>\n",
       "      <th>company_name</th>\n",
       "      <th>location</th>\n",
       "      <th>size</th>\n",
       "      <th>type_of_ownership</th>\n",
       "      <th>industry</th>\n",
       "    </tr>\n",
       "  </thead>\n",
       "  <tbody>\n",
       "    <tr>\n",
       "      <th>0</th>\n",
       "      <td>Information Security and Data Protection Analyst</td>\n",
       "      <td>$28K-$52K (Glassdoor est.)</td>\n",
       "      <td>40000</td>\n",
       "      <td>Amyx is seeking to hire an Information Securit...</td>\n",
       "      <td>Amyx, Inc.\\n4.0</td>\n",
       "      <td>Columbus, OH</td>\n",
       "      <td>501 to 1000 employees</td>\n",
       "      <td>Company - Private</td>\n",
       "      <td>IT Services</td>\n",
       "    </tr>\n",
       "    <tr>\n",
       "      <th>1</th>\n",
       "      <td>Data Analyst</td>\n",
       "      <td>$76K-$122K (Glassdoor est.)</td>\n",
       "      <td>99000</td>\n",
       "      <td>Job Description\\nThe Customer Engineering Oper...</td>\n",
       "      <td>ProMedia\\n4.4</td>\n",
       "      <td>San Diego, CA</td>\n",
       "      <td>1 to 50 employees</td>\n",
       "      <td>Company - Private</td>\n",
       "      <td>Advertising &amp; Marketing</td>\n",
       "    </tr>\n",
       "    <tr>\n",
       "      <th>2</th>\n",
       "      <td>Bilingual Senior Data Analyst (Japanese / Engl...</td>\n",
       "      <td>$55K-$101K (Glassdoor est.)</td>\n",
       "      <td>78000</td>\n",
       "      <td>Nintendo of America Inc.\\n\\nThe worldwide pion...</td>\n",
       "      <td>Nintendo\\n4.0</td>\n",
       "      <td>Redmond, WA</td>\n",
       "      <td>5001 to 10000 employees</td>\n",
       "      <td>Company - Public</td>\n",
       "      <td>Video Games</td>\n",
       "    </tr>\n",
       "    <tr>\n",
       "      <th>3</th>\n",
       "      <td>Sr. Data Analyst, Ad Operations</td>\n",
       "      <td>$57K-$103K (Glassdoor est.)</td>\n",
       "      <td>80000</td>\n",
       "      <td>System1 is looking for a driven data analyst w...</td>\n",
       "      <td>System1\\n3.8</td>\n",
       "      <td>Venice, CA</td>\n",
       "      <td>201 to 500 employees</td>\n",
       "      <td>Company - Private</td>\n",
       "      <td>Internet</td>\n",
       "    </tr>\n",
       "    <tr>\n",
       "      <th>4</th>\n",
       "      <td>Data Analyst</td>\n",
       "      <td>$43K-$69K (Glassdoor est.)</td>\n",
       "      <td>56000</td>\n",
       "      <td>Job Title: Data Analyst (1)\\n\\nPosition Type: ...</td>\n",
       "      <td>Bluemont Technology &amp; Research, Inc.\\n1.0</td>\n",
       "      <td>Norfolk, VA</td>\n",
       "      <td>1 to 50 employees</td>\n",
       "      <td>Company - Private</td>\n",
       "      <td>-1</td>\n",
       "    </tr>\n",
       "    <tr>\n",
       "      <th>...</th>\n",
       "      <td>...</td>\n",
       "      <td>...</td>\n",
       "      <td>...</td>\n",
       "      <td>...</td>\n",
       "      <td>...</td>\n",
       "      <td>...</td>\n",
       "      <td>...</td>\n",
       "      <td>...</td>\n",
       "      <td>...</td>\n",
       "    </tr>\n",
       "    <tr>\n",
       "      <th>67</th>\n",
       "      <td>Sr. Business Analyst, Data Science and Analytics</td>\n",
       "      <td>$35K-$45K (Glassdoor est.)</td>\n",
       "      <td>40000</td>\n",
       "      <td>One by one, we are leading a movement to a fut...</td>\n",
       "      <td>Beautycounter\\n3.0</td>\n",
       "      <td>Santa Monica, CA</td>\n",
       "      <td>201 to 500 employees</td>\n",
       "      <td>Company - Private</td>\n",
       "      <td>Health, Beauty, &amp; Fitness</td>\n",
       "    </tr>\n",
       "    <tr>\n",
       "      <th>68</th>\n",
       "      <td>Healthcare Data Analyst - Remote</td>\n",
       "      <td>$60K-$66K (Glassdoor est.)</td>\n",
       "      <td>63000</td>\n",
       "      <td>Overview\\n\\nAbout Pulse8, Inc.\\n\\nPulse8 is an...</td>\n",
       "      <td>Allscripts\\n3.3</td>\n",
       "      <td>Chicago, IL</td>\n",
       "      <td>5001 to 10000 employees</td>\n",
       "      <td>Company - Public</td>\n",
       "      <td>Computer Hardware &amp; Software</td>\n",
       "    </tr>\n",
       "    <tr>\n",
       "      <th>69</th>\n",
       "      <td>Sr. Process Analyst - Data Privacy Project</td>\n",
       "      <td>$47K-$74K (Glassdoor est.)</td>\n",
       "      <td>60500</td>\n",
       "      <td>Our client is a global leader in software serv...</td>\n",
       "      <td>The Ascent Services Group\\n4.6</td>\n",
       "      <td>San Rafael, CA</td>\n",
       "      <td>1001 to 5000 employees</td>\n",
       "      <td>Company - Private</td>\n",
       "      <td>Staffing &amp; Outsourcing</td>\n",
       "    </tr>\n",
       "    <tr>\n",
       "      <th>70</th>\n",
       "      <td>Data Analyst</td>\n",
       "      <td>$51K-$87K (Glassdoor est.)</td>\n",
       "      <td>69000</td>\n",
       "      <td>The Fund for Public Health in New York City (F...</td>\n",
       "      <td>Fund for Public Health</td>\n",
       "      <td>Long Island City, NY</td>\n",
       "      <td>201 to 500 employees</td>\n",
       "      <td>Nonprofit Organization</td>\n",
       "      <td>Social Assistance</td>\n",
       "    </tr>\n",
       "    <tr>\n",
       "      <th>71</th>\n",
       "      <td>Data Analyst II, Division of Gastroenterology ...</td>\n",
       "      <td>$43K-$76K (Glassdoor est.)</td>\n",
       "      <td>59500</td>\n",
       "      <td>Strength Through\\nDiversity\\n\\nGround breaking...</td>\n",
       "      <td>Mount Sinai Health System</td>\n",
       "      <td>New York, NY</td>\n",
       "      <td>10000+ employees</td>\n",
       "      <td>Hospital</td>\n",
       "      <td>Health Care Services &amp; Hospitals</td>\n",
       "    </tr>\n",
       "  </tbody>\n",
       "</table>\n",
       "<p>72 rows × 9 columns</p>\n",
       "</div>"
      ],
      "text/plain": [
       "                                            job_title  \\\n",
       "0    Information Security and Data Protection Analyst   \n",
       "1                                        Data Analyst   \n",
       "2   Bilingual Senior Data Analyst (Japanese / Engl...   \n",
       "3                     Sr. Data Analyst, Ad Operations   \n",
       "4                                        Data Analyst   \n",
       "..                                                ...   \n",
       "67   Sr. Business Analyst, Data Science and Analytics   \n",
       "68                   Healthcare Data Analyst - Remote   \n",
       "69         Sr. Process Analyst - Data Privacy Project   \n",
       "70                                       Data Analyst   \n",
       "71  Data Analyst II, Division of Gastroenterology ...   \n",
       "\n",
       "                salary_estimate  midpoint_salary_estimate  \\\n",
       "0    $28K-$52K (Glassdoor est.)                     40000   \n",
       "1   $76K-$122K (Glassdoor est.)                     99000   \n",
       "2   $55K-$101K (Glassdoor est.)                     78000   \n",
       "3   $57K-$103K (Glassdoor est.)                     80000   \n",
       "4    $43K-$69K (Glassdoor est.)                     56000   \n",
       "..                          ...                       ...   \n",
       "67   $35K-$45K (Glassdoor est.)                     40000   \n",
       "68   $60K-$66K (Glassdoor est.)                     63000   \n",
       "69   $47K-$74K (Glassdoor est.)                     60500   \n",
       "70   $51K-$87K (Glassdoor est.)                     69000   \n",
       "71   $43K-$76K (Glassdoor est.)                     59500   \n",
       "\n",
       "                                      job_description  \\\n",
       "0   Amyx is seeking to hire an Information Securit...   \n",
       "1   Job Description\\nThe Customer Engineering Oper...   \n",
       "2   Nintendo of America Inc.\\n\\nThe worldwide pion...   \n",
       "3   System1 is looking for a driven data analyst w...   \n",
       "4   Job Title: Data Analyst (1)\\n\\nPosition Type: ...   \n",
       "..                                                ...   \n",
       "67  One by one, we are leading a movement to a fut...   \n",
       "68  Overview\\n\\nAbout Pulse8, Inc.\\n\\nPulse8 is an...   \n",
       "69  Our client is a global leader in software serv...   \n",
       "70  The Fund for Public Health in New York City (F...   \n",
       "71  Strength Through\\nDiversity\\n\\nGround breaking...   \n",
       "\n",
       "                                 company_name              location  \\\n",
       "0                             Amyx, Inc.\\n4.0          Columbus, OH   \n",
       "1                               ProMedia\\n4.4         San Diego, CA   \n",
       "2                               Nintendo\\n4.0           Redmond, WA   \n",
       "3                                System1\\n3.8            Venice, CA   \n",
       "4   Bluemont Technology & Research, Inc.\\n1.0           Norfolk, VA   \n",
       "..                                        ...                   ...   \n",
       "67                         Beautycounter\\n3.0      Santa Monica, CA   \n",
       "68                            Allscripts\\n3.3           Chicago, IL   \n",
       "69             The Ascent Services Group\\n4.6        San Rafael, CA   \n",
       "70                     Fund for Public Health  Long Island City, NY   \n",
       "71                  Mount Sinai Health System          New York, NY   \n",
       "\n",
       "                       size       type_of_ownership  \\\n",
       "0     501 to 1000 employees       Company - Private   \n",
       "1         1 to 50 employees       Company - Private   \n",
       "2   5001 to 10000 employees        Company - Public   \n",
       "3      201 to 500 employees       Company - Private   \n",
       "4         1 to 50 employees       Company - Private   \n",
       "..                      ...                     ...   \n",
       "67     201 to 500 employees       Company - Private   \n",
       "68  5001 to 10000 employees        Company - Public   \n",
       "69   1001 to 5000 employees       Company - Private   \n",
       "70     201 to 500 employees  Nonprofit Organization   \n",
       "71         10000+ employees                Hospital   \n",
       "\n",
       "                            industry  \n",
       "0                        IT Services  \n",
       "1            Advertising & Marketing  \n",
       "2                        Video Games  \n",
       "3                           Internet  \n",
       "4                                 -1  \n",
       "..                               ...  \n",
       "67         Health, Beauty, & Fitness  \n",
       "68      Computer Hardware & Software  \n",
       "69            Staffing & Outsourcing  \n",
       "70                 Social Assistance  \n",
       "71  Health Care Services & Hospitals  \n",
       "\n",
       "[72 rows x 9 columns]"
      ]
     },
     "execution_count": 4,
     "metadata": {},
     "output_type": "execute_result"
    }
   ],
   "source": [
    "# Load the data into a pandas DataFrame\n",
    "jobs_data = pd.read_csv(\"data/glassdoor_jobs_sample.csv\")\n",
    "jobs_data"
   ]
  },
  {
   "cell_type": "code",
   "execution_count": 5,
   "id": "fcfda595-3dee-4bbb-8432-43a032921710",
   "metadata": {
    "vscode": {
     "languageId": "quarto"
    }
   },
   "outputs": [
    {
     "ename": "NameError",
     "evalue": "name 'years_of_exp' is not defined",
     "output_type": "error",
     "traceback": [
      "\u001b[1;31m---------------------------------------------------------------------------\u001b[0m",
      "\u001b[1;31mNameError\u001b[0m                                 Traceback (most recent call last)",
      "File \u001b[1;32mc:\\Users\\ester.nepolo.GFP-PMU\\Desktop\\Desktop 2024\\My Courses\\Python\\graph_courses_python\\week_07_workshop_instructions.qmd:13\u001b[0m\n\u001b[0;32m     11\u001b[0m \u001b[39m# Vectorize the function and test it on the first few rows\u001b[39;00m\n\u001b[0;32m     12\u001b[0m yrs_exp_vec \u001b[39m=\u001b[39m np\u001b[39m.\u001b[39mvectorize(yrs_exp)\n\u001b[1;32m---> 13\u001b[0m years_of_exp[\u001b[39m\"\u001b[39m\u001b[39myear_experience\u001b[39m\u001b[39m\"\u001b[39m] \u001b[39m=\u001b[39m yrs_exp_vec(years_of_exp[\u001b[39m\"\u001b[39m\u001b[39mjob_description\u001b[39m\u001b[39m\"\u001b[39m])\n\u001b[0;32m     14\u001b[0m years_of_exp\u001b[39m.\u001b[39mhead()\n",
      "\u001b[1;31mNameError\u001b[0m: name 'years_of_exp' is not defined"
     ]
    }
   ],
   "source": [
    "def yrs_exp(description):\n",
    "    prompt = f\"\"\"\n",
    "    Extract the minimum years of experience required from this job description. \n",
    "    Return ONLY a number. If a range is given, return the lower number.\n",
    "    If no years of experience are explicitly mentioned, return 'NA'.\n",
    "    Here's the job description:\n",
    "    {description}\n",
    "    \"\"\"\n",
    "    return llm_chat(prompt)\n",
    "\n",
    "# Vectorize the function and test it on the first few rows\n",
    "yrs_exp_vec = np.vectorize(yrs_exp)\n",
    "years_of_exp[\"year_experience\"] = yrs_exp_vec(years_of_exp[\"job_description\"])\n",
    "years_of_exp.head()"
   ]
  },
  {
   "cell_type": "code",
   "execution_count": 6,
   "id": "1f66a060-6a43-4b18-9963-ca5dc66aabbe",
   "metadata": {
    "vscode": {
     "languageId": "quarto"
    }
   },
   "outputs": [
    {
     "ename": "KeyError",
     "evalue": "\"['year_experience'] not in index\"",
     "output_type": "error",
     "traceback": [
      "\u001b[1;31m---------------------------------------------------------------------------\u001b[0m",
      "\u001b[1;31mKeyError\u001b[0m                                  Traceback (most recent call last)",
      "File \u001b[1;32mc:\\Users\\ester.nepolo.GFP-PMU\\Desktop\\Desktop 2024\\My Courses\\Python\\graph_courses_python\\week_07_workshop_instructions.qmd:1\u001b[0m\n\u001b[1;32m----> 1\u001b[0m years_of_exp \u001b[39m=\u001b[39m jobs_data[[\u001b[39m\"\u001b[39;49m\u001b[39mjob_description\u001b[39;49m\u001b[39m\"\u001b[39;49m, \u001b[39m\"\u001b[39;49m\u001b[39myear_experience\u001b[39;49m\u001b[39m\"\u001b[39;49m]]\n\u001b[0;32m      2\u001b[0m years_of_exp\n",
      "File \u001b[1;32mc:\\Users\\ester.nepolo.GFP-PMU\\Desktop\\Desktop 2024\\My Courses\\Python\\graph_courses_python\\.venv\\Lib\\site-packages\\pandas\\core\\frame.py:4108\u001b[0m, in \u001b[0;36mDataFrame.__getitem__\u001b[1;34m(self, key)\u001b[0m\n\u001b[0;32m   4106\u001b[0m     \u001b[39mif\u001b[39;00m is_iterator(key):\n\u001b[0;32m   4107\u001b[0m         key \u001b[39m=\u001b[39m \u001b[39mlist\u001b[39m(key)\n\u001b[1;32m-> 4108\u001b[0m     indexer \u001b[39m=\u001b[39m \u001b[39mself\u001b[39;49m\u001b[39m.\u001b[39;49mcolumns\u001b[39m.\u001b[39;49m_get_indexer_strict(key, \u001b[39m\"\u001b[39;49m\u001b[39mcolumns\u001b[39;49m\u001b[39m\"\u001b[39;49m)[\u001b[39m1\u001b[39m]\n\u001b[0;32m   4110\u001b[0m \u001b[39m# take() does not accept boolean indexers\u001b[39;00m\n\u001b[0;32m   4111\u001b[0m \u001b[39mif\u001b[39;00m \u001b[39mgetattr\u001b[39m(indexer, \u001b[39m\"\u001b[39m\u001b[39mdtype\u001b[39m\u001b[39m\"\u001b[39m, \u001b[39mNone\u001b[39;00m) \u001b[39m==\u001b[39m \u001b[39mbool\u001b[39m:\n",
      "File \u001b[1;32mc:\\Users\\ester.nepolo.GFP-PMU\\Desktop\\Desktop 2024\\My Courses\\Python\\graph_courses_python\\.venv\\Lib\\site-packages\\pandas\\core\\indexes\\base.py:6200\u001b[0m, in \u001b[0;36mIndex._get_indexer_strict\u001b[1;34m(self, key, axis_name)\u001b[0m\n\u001b[0;32m   6197\u001b[0m \u001b[39melse\u001b[39;00m:\n\u001b[0;32m   6198\u001b[0m     keyarr, indexer, new_indexer \u001b[39m=\u001b[39m \u001b[39mself\u001b[39m\u001b[39m.\u001b[39m_reindex_non_unique(keyarr)\n\u001b[1;32m-> 6200\u001b[0m \u001b[39mself\u001b[39;49m\u001b[39m.\u001b[39;49m_raise_if_missing(keyarr, indexer, axis_name)\n\u001b[0;32m   6202\u001b[0m keyarr \u001b[39m=\u001b[39m \u001b[39mself\u001b[39m\u001b[39m.\u001b[39mtake(indexer)\n\u001b[0;32m   6203\u001b[0m \u001b[39mif\u001b[39;00m \u001b[39misinstance\u001b[39m(key, Index):\n\u001b[0;32m   6204\u001b[0m     \u001b[39m# GH 42790 - Preserve name from an Index\u001b[39;00m\n",
      "File \u001b[1;32mc:\\Users\\ester.nepolo.GFP-PMU\\Desktop\\Desktop 2024\\My Courses\\Python\\graph_courses_python\\.venv\\Lib\\site-packages\\pandas\\core\\indexes\\base.py:6252\u001b[0m, in \u001b[0;36mIndex._raise_if_missing\u001b[1;34m(self, key, indexer, axis_name)\u001b[0m\n\u001b[0;32m   6249\u001b[0m     \u001b[39mraise\u001b[39;00m \u001b[39mKeyError\u001b[39;00m(\u001b[39mf\u001b[39m\u001b[39m\"\u001b[39m\u001b[39mNone of [\u001b[39m\u001b[39m{\u001b[39;00mkey\u001b[39m}\u001b[39;00m\u001b[39m] are in the [\u001b[39m\u001b[39m{\u001b[39;00maxis_name\u001b[39m}\u001b[39;00m\u001b[39m]\u001b[39m\u001b[39m\"\u001b[39m)\n\u001b[0;32m   6251\u001b[0m not_found \u001b[39m=\u001b[39m \u001b[39mlist\u001b[39m(ensure_index(key)[missing_mask\u001b[39m.\u001b[39mnonzero()[\u001b[39m0\u001b[39m]]\u001b[39m.\u001b[39munique())\n\u001b[1;32m-> 6252\u001b[0m \u001b[39mraise\u001b[39;00m \u001b[39mKeyError\u001b[39;00m(\u001b[39mf\u001b[39m\u001b[39m\"\u001b[39m\u001b[39m{\u001b[39;00mnot_found\u001b[39m}\u001b[39;00m\u001b[39m not in index\u001b[39m\u001b[39m\"\u001b[39m)\n",
      "\u001b[1;31mKeyError\u001b[0m: \"['year_experience'] not in index\""
     ]
    }
   ],
   "source": [
    "years_of_exp = jobs_data[[\"job_description\", \"year_experience\"]]\n",
    "years_of_exp"
   ]
  },
  {
   "cell_type": "code",
   "execution_count": 7,
   "id": "929a4a66-d9ce-47e5-887b-8a43cb2dfd5c",
   "metadata": {
    "vscode": {
     "languageId": "quarto"
    }
   },
   "outputs": [
    {
     "ename": "KeyError",
     "evalue": "\"['year_experience'] not in index\"",
     "output_type": "error",
     "traceback": [
      "\u001b[1;31m---------------------------------------------------------------------------\u001b[0m",
      "\u001b[1;31mKeyError\u001b[0m                                  Traceback (most recent call last)",
      "File \u001b[1;32mc:\\Users\\ester.nepolo.GFP-PMU\\Desktop\\Desktop 2024\\My Courses\\Python\\graph_courses_python\\week_07_workshop_instructions.qmd:1\u001b[0m\n\u001b[1;32m----> 1\u001b[0m years_of_exp \u001b[39m=\u001b[39m jobs_data[[\u001b[39m\"\u001b[39;49m\u001b[39mjob_description\u001b[39;49m\u001b[39m\"\u001b[39;49m, \u001b[39m\"\u001b[39;49m\u001b[39myear_experience\u001b[39;49m\u001b[39m\"\u001b[39;49m]]\n\u001b[0;32m      2\u001b[0m years_of_exp\n",
      "File \u001b[1;32mc:\\Users\\ester.nepolo.GFP-PMU\\Desktop\\Desktop 2024\\My Courses\\Python\\graph_courses_python\\.venv\\Lib\\site-packages\\pandas\\core\\frame.py:4108\u001b[0m, in \u001b[0;36mDataFrame.__getitem__\u001b[1;34m(self, key)\u001b[0m\n\u001b[0;32m   4106\u001b[0m     \u001b[39mif\u001b[39;00m is_iterator(key):\n\u001b[0;32m   4107\u001b[0m         key \u001b[39m=\u001b[39m \u001b[39mlist\u001b[39m(key)\n\u001b[1;32m-> 4108\u001b[0m     indexer \u001b[39m=\u001b[39m \u001b[39mself\u001b[39;49m\u001b[39m.\u001b[39;49mcolumns\u001b[39m.\u001b[39;49m_get_indexer_strict(key, \u001b[39m\"\u001b[39;49m\u001b[39mcolumns\u001b[39;49m\u001b[39m\"\u001b[39;49m)[\u001b[39m1\u001b[39m]\n\u001b[0;32m   4110\u001b[0m \u001b[39m# take() does not accept boolean indexers\u001b[39;00m\n\u001b[0;32m   4111\u001b[0m \u001b[39mif\u001b[39;00m \u001b[39mgetattr\u001b[39m(indexer, \u001b[39m\"\u001b[39m\u001b[39mdtype\u001b[39m\u001b[39m\"\u001b[39m, \u001b[39mNone\u001b[39;00m) \u001b[39m==\u001b[39m \u001b[39mbool\u001b[39m:\n",
      "File \u001b[1;32mc:\\Users\\ester.nepolo.GFP-PMU\\Desktop\\Desktop 2024\\My Courses\\Python\\graph_courses_python\\.venv\\Lib\\site-packages\\pandas\\core\\indexes\\base.py:6200\u001b[0m, in \u001b[0;36mIndex._get_indexer_strict\u001b[1;34m(self, key, axis_name)\u001b[0m\n\u001b[0;32m   6197\u001b[0m \u001b[39melse\u001b[39;00m:\n\u001b[0;32m   6198\u001b[0m     keyarr, indexer, new_indexer \u001b[39m=\u001b[39m \u001b[39mself\u001b[39m\u001b[39m.\u001b[39m_reindex_non_unique(keyarr)\n\u001b[1;32m-> 6200\u001b[0m \u001b[39mself\u001b[39;49m\u001b[39m.\u001b[39;49m_raise_if_missing(keyarr, indexer, axis_name)\n\u001b[0;32m   6202\u001b[0m keyarr \u001b[39m=\u001b[39m \u001b[39mself\u001b[39m\u001b[39m.\u001b[39mtake(indexer)\n\u001b[0;32m   6203\u001b[0m \u001b[39mif\u001b[39;00m \u001b[39misinstance\u001b[39m(key, Index):\n\u001b[0;32m   6204\u001b[0m     \u001b[39m# GH 42790 - Preserve name from an Index\u001b[39;00m\n",
      "File \u001b[1;32mc:\\Users\\ester.nepolo.GFP-PMU\\Desktop\\Desktop 2024\\My Courses\\Python\\graph_courses_python\\.venv\\Lib\\site-packages\\pandas\\core\\indexes\\base.py:6252\u001b[0m, in \u001b[0;36mIndex._raise_if_missing\u001b[1;34m(self, key, indexer, axis_name)\u001b[0m\n\u001b[0;32m   6249\u001b[0m     \u001b[39mraise\u001b[39;00m \u001b[39mKeyError\u001b[39;00m(\u001b[39mf\u001b[39m\u001b[39m\"\u001b[39m\u001b[39mNone of [\u001b[39m\u001b[39m{\u001b[39;00mkey\u001b[39m}\u001b[39;00m\u001b[39m] are in the [\u001b[39m\u001b[39m{\u001b[39;00maxis_name\u001b[39m}\u001b[39;00m\u001b[39m]\u001b[39m\u001b[39m\"\u001b[39m)\n\u001b[0;32m   6251\u001b[0m not_found \u001b[39m=\u001b[39m \u001b[39mlist\u001b[39m(ensure_index(key)[missing_mask\u001b[39m.\u001b[39mnonzero()[\u001b[39m0\u001b[39m]]\u001b[39m.\u001b[39munique())\n\u001b[1;32m-> 6252\u001b[0m \u001b[39mraise\u001b[39;00m \u001b[39mKeyError\u001b[39;00m(\u001b[39mf\u001b[39m\u001b[39m\"\u001b[39m\u001b[39m{\u001b[39;00mnot_found\u001b[39m}\u001b[39;00m\u001b[39m not in index\u001b[39m\u001b[39m\"\u001b[39m)\n",
      "\u001b[1;31mKeyError\u001b[0m: \"['year_experience'] not in index\""
     ]
    }
   ],
   "source": [
    "years_of_exp = jobs_data[[\"job_description\", \"year_experience\"]]\n",
    "years_of_exp"
   ]
  },
  {
   "cell_type": "code",
   "execution_count": 8,
   "id": "cabd524b-582d-429e-b79d-74fd3c884594",
   "metadata": {
    "vscode": {
     "languageId": "quarto"
    }
   },
   "outputs": [
    {
     "ename": "NameError",
     "evalue": "name 'years_of_exp' is not defined",
     "output_type": "error",
     "traceback": [
      "\u001b[1;31m---------------------------------------------------------------------------\u001b[0m",
      "\u001b[1;31mNameError\u001b[0m                                 Traceback (most recent call last)",
      "File \u001b[1;32mc:\\Users\\ester.nepolo.GFP-PMU\\Desktop\\Desktop 2024\\My Courses\\Python\\graph_courses_python\\week_07_workshop_instructions.qmd:13\u001b[0m\n\u001b[0;32m     11\u001b[0m \u001b[39m# Vectorize the function and test it on the first few rows\u001b[39;00m\n\u001b[0;32m     12\u001b[0m yrs_exp_vec \u001b[39m=\u001b[39m np\u001b[39m.\u001b[39mvectorize(yrs_exp)\n\u001b[1;32m---> 13\u001b[0m years_of_exp[\u001b[39m\"\u001b[39m\u001b[39myear_experience\u001b[39m\u001b[39m\"\u001b[39m] \u001b[39m=\u001b[39m yrs_exp_vec(years_of_exp[\u001b[39m\"\u001b[39m\u001b[39mjob_description\u001b[39m\u001b[39m\"\u001b[39m])\n\u001b[0;32m     14\u001b[0m years_of_exp\u001b[39m.\u001b[39mhead()\n",
      "\u001b[1;31mNameError\u001b[0m: name 'years_of_exp' is not defined"
     ]
    }
   ],
   "source": [
    "def yrs_exp(description):\n",
    "    prompt = f\"\"\"\n",
    "    Extract the minimum years of experience required from this job description. \n",
    "    Return ONLY a number. If a range is given, return the lower number.\n",
    "    If no years of experience are explicitly mentioned, return 'NA'.\n",
    "    Here's the job description:\n",
    "    {description}\n",
    "    \"\"\"\n",
    "    return llm_chat(prompt)\n",
    "\n",
    "# Vectorize the function and test it on the first few rows\n",
    "yrs_exp_vec = np.vectorize(yrs_exp)\n",
    "years_of_exp[\"year_experience\"] = yrs_exp_vec(years_of_exp[\"job_description\"])\n",
    "years_of_exp.head()"
   ]
  },
  {
   "cell_type": "code",
   "execution_count": 9,
   "id": "1b012c74-c9b7-464c-9a99-e159cddc43ae",
   "metadata": {
    "vscode": {
     "languageId": "quarto"
    }
   },
   "outputs": [
    {
     "ename": "NameError",
     "evalue": "name 'years_of_exp' is not defined",
     "output_type": "error",
     "traceback": [
      "\u001b[1;31m---------------------------------------------------------------------------\u001b[0m",
      "\u001b[1;31mNameError\u001b[0m                                 Traceback (most recent call last)",
      "File \u001b[1;32mc:\\Users\\ester.nepolo.GFP-PMU\\Desktop\\Desktop 2024\\My Courses\\Python\\graph_courses_python\\week_07_workshop_instructions.qmd:1\u001b[0m\n\u001b[1;32m----> 1\u001b[0m years_of_exp\u001b[39m.\u001b[39mto_csv(\u001b[39m\"\u001b[39m\u001b[39moutputs/years_of_exp.csv\u001b[39m\u001b[39m\"\u001b[39m)\n",
      "\u001b[1;31mNameError\u001b[0m: name 'years_of_exp' is not defined"
     ]
    }
   ],
   "source": [
    "years_of_exp.to_csv(\"outputs/years_of_exp.csv\")"
   ]
  },
  {
   "cell_type": "code",
   "execution_count": 10,
   "id": "cba4e847-1fb2-471c-99aa-165d364b889b",
   "metadata": {
    "vscode": {
     "languageId": "quarto"
    }
   },
   "outputs": [
    {
     "data": {
      "text/html": [
       "<div>\n",
       "<style scoped>\n",
       "    .dataframe tbody tr th:only-of-type {\n",
       "        vertical-align: middle;\n",
       "    }\n",
       "\n",
       "    .dataframe tbody tr th {\n",
       "        vertical-align: top;\n",
       "    }\n",
       "\n",
       "    .dataframe thead th {\n",
       "        text-align: right;\n",
       "    }\n",
       "</style>\n",
       "<table border=\"1\" class=\"dataframe\">\n",
       "  <thead>\n",
       "    <tr style=\"text-align: right;\">\n",
       "      <th></th>\n",
       "      <th>job_title</th>\n",
       "      <th>salary_estimate</th>\n",
       "      <th>midpoint_salary_estimate</th>\n",
       "      <th>job_description</th>\n",
       "      <th>company_name</th>\n",
       "      <th>location</th>\n",
       "      <th>size</th>\n",
       "      <th>type_of_ownership</th>\n",
       "      <th>industry</th>\n",
       "      <th>year_experience</th>\n",
       "    </tr>\n",
       "  </thead>\n",
       "  <tbody>\n",
       "    <tr>\n",
       "      <th>0</th>\n",
       "      <td>Information Security and Data Protection Analyst</td>\n",
       "      <td>$28K-$52K (Glassdoor est.)</td>\n",
       "      <td>40000</td>\n",
       "      <td>Amyx is seeking to hire an Information Securit...</td>\n",
       "      <td>Amyx, Inc.\\n4.0</td>\n",
       "      <td>Columbus, OH</td>\n",
       "      <td>501 to 1000 employees</td>\n",
       "      <td>Company - Private</td>\n",
       "      <td>IT Services</td>\n",
       "      <td>5</td>\n",
       "    </tr>\n",
       "    <tr>\n",
       "      <th>1</th>\n",
       "      <td>Data Analyst</td>\n",
       "      <td>$76K-$122K (Glassdoor est.)</td>\n",
       "      <td>99000</td>\n",
       "      <td>Job Description\\nThe Customer Engineering Oper...</td>\n",
       "      <td>ProMedia\\n4.4</td>\n",
       "      <td>San Diego, CA</td>\n",
       "      <td>1 to 50 employees</td>\n",
       "      <td>Company - Private</td>\n",
       "      <td>Advertising &amp; Marketing</td>\n",
       "      <td>NA</td>\n",
       "    </tr>\n",
       "    <tr>\n",
       "      <th>2</th>\n",
       "      <td>Bilingual Senior Data Analyst (Japanese / Engl...</td>\n",
       "      <td>$55K-$101K (Glassdoor est.)</td>\n",
       "      <td>78000</td>\n",
       "      <td>Nintendo of America Inc.\\n\\nThe worldwide pion...</td>\n",
       "      <td>Nintendo\\n4.0</td>\n",
       "      <td>Redmond, WA</td>\n",
       "      <td>5001 to 10000 employees</td>\n",
       "      <td>Company - Public</td>\n",
       "      <td>Video Games</td>\n",
       "      <td>5</td>\n",
       "    </tr>\n",
       "    <tr>\n",
       "      <th>3</th>\n",
       "      <td>Sr. Data Analyst, Ad Operations</td>\n",
       "      <td>$57K-$103K (Glassdoor est.)</td>\n",
       "      <td>80000</td>\n",
       "      <td>System1 is looking for a driven data analyst w...</td>\n",
       "      <td>System1\\n3.8</td>\n",
       "      <td>Venice, CA</td>\n",
       "      <td>201 to 500 employees</td>\n",
       "      <td>Company - Private</td>\n",
       "      <td>Internet</td>\n",
       "      <td>3</td>\n",
       "    </tr>\n",
       "    <tr>\n",
       "      <th>4</th>\n",
       "      <td>Data Analyst</td>\n",
       "      <td>$43K-$69K (Glassdoor est.)</td>\n",
       "      <td>56000</td>\n",
       "      <td>Job Title: Data Analyst (1)\\n\\nPosition Type: ...</td>\n",
       "      <td>Bluemont Technology &amp; Research, Inc.\\n1.0</td>\n",
       "      <td>Norfolk, VA</td>\n",
       "      <td>1 to 50 employees</td>\n",
       "      <td>Company - Private</td>\n",
       "      <td>-1</td>\n",
       "      <td>5</td>\n",
       "    </tr>\n",
       "  </tbody>\n",
       "</table>\n",
       "</div>"
      ],
      "text/plain": [
       "                                           job_title  \\\n",
       "0   Information Security and Data Protection Analyst   \n",
       "1                                       Data Analyst   \n",
       "2  Bilingual Senior Data Analyst (Japanese / Engl...   \n",
       "3                    Sr. Data Analyst, Ad Operations   \n",
       "4                                       Data Analyst   \n",
       "\n",
       "               salary_estimate  midpoint_salary_estimate  \\\n",
       "0   $28K-$52K (Glassdoor est.)                     40000   \n",
       "1  $76K-$122K (Glassdoor est.)                     99000   \n",
       "2  $55K-$101K (Glassdoor est.)                     78000   \n",
       "3  $57K-$103K (Glassdoor est.)                     80000   \n",
       "4   $43K-$69K (Glassdoor est.)                     56000   \n",
       "\n",
       "                                     job_description  \\\n",
       "0  Amyx is seeking to hire an Information Securit...   \n",
       "1  Job Description\\nThe Customer Engineering Oper...   \n",
       "2  Nintendo of America Inc.\\n\\nThe worldwide pion...   \n",
       "3  System1 is looking for a driven data analyst w...   \n",
       "4  Job Title: Data Analyst (1)\\n\\nPosition Type: ...   \n",
       "\n",
       "                                company_name       location  \\\n",
       "0                            Amyx, Inc.\\n4.0   Columbus, OH   \n",
       "1                              ProMedia\\n4.4  San Diego, CA   \n",
       "2                              Nintendo\\n4.0    Redmond, WA   \n",
       "3                               System1\\n3.8     Venice, CA   \n",
       "4  Bluemont Technology & Research, Inc.\\n1.0    Norfolk, VA   \n",
       "\n",
       "                      size  type_of_ownership                 industry  \\\n",
       "0    501 to 1000 employees  Company - Private              IT Services   \n",
       "1        1 to 50 employees  Company - Private  Advertising & Marketing   \n",
       "2  5001 to 10000 employees   Company - Public              Video Games   \n",
       "3     201 to 500 employees  Company - Private                 Internet   \n",
       "4        1 to 50 employees  Company - Private                       -1   \n",
       "\n",
       "  year_experience  \n",
       "0               5  \n",
       "1              NA  \n",
       "2               5  \n",
       "3               3  \n",
       "4               5  "
      ]
     },
     "execution_count": 10,
     "metadata": {},
     "output_type": "execute_result"
    }
   ],
   "source": [
    "# Apply the vectorized function to the full dataset\n",
    "jobs_data[\"year_experience\"] = yrs_exp_vec(jobs_data[\"job_description\"])\n",
    "jobs_data.head()"
   ]
  },
  {
   "cell_type": "code",
   "execution_count": 11,
   "id": "bb976ec5-7dcb-4118-b47b-5c4829f67614",
   "metadata": {
    "vscode": {
     "languageId": "quarto"
    }
   },
   "outputs": [
    {
     "data": {
      "text/html": [
       "<div>\n",
       "<style scoped>\n",
       "    .dataframe tbody tr th:only-of-type {\n",
       "        vertical-align: middle;\n",
       "    }\n",
       "\n",
       "    .dataframe tbody tr th {\n",
       "        vertical-align: top;\n",
       "    }\n",
       "\n",
       "    .dataframe thead th {\n",
       "        text-align: right;\n",
       "    }\n",
       "</style>\n",
       "<table border=\"1\" class=\"dataframe\">\n",
       "  <thead>\n",
       "    <tr style=\"text-align: right;\">\n",
       "      <th></th>\n",
       "      <th>job_title</th>\n",
       "      <th>salary_estimate</th>\n",
       "      <th>midpoint_salary_estimate</th>\n",
       "      <th>job_description</th>\n",
       "      <th>company_name</th>\n",
       "      <th>location</th>\n",
       "      <th>size</th>\n",
       "      <th>type_of_ownership</th>\n",
       "      <th>industry</th>\n",
       "      <th>year_experience</th>\n",
       "    </tr>\n",
       "  </thead>\n",
       "  <tbody>\n",
       "    <tr>\n",
       "      <th>0</th>\n",
       "      <td>Information Security and Data Protection Analyst</td>\n",
       "      <td>$28K-$52K (Glassdoor est.)</td>\n",
       "      <td>40000</td>\n",
       "      <td>Amyx is seeking to hire an Information Securit...</td>\n",
       "      <td>Amyx, Inc.\\n4.0</td>\n",
       "      <td>Columbus, OH</td>\n",
       "      <td>501 to 1000 employees</td>\n",
       "      <td>Company - Private</td>\n",
       "      <td>IT Services</td>\n",
       "      <td>5</td>\n",
       "    </tr>\n",
       "    <tr>\n",
       "      <th>1</th>\n",
       "      <td>Data Analyst</td>\n",
       "      <td>$76K-$122K (Glassdoor est.)</td>\n",
       "      <td>99000</td>\n",
       "      <td>Job Description\\nThe Customer Engineering Oper...</td>\n",
       "      <td>ProMedia\\n4.4</td>\n",
       "      <td>San Diego, CA</td>\n",
       "      <td>1 to 50 employees</td>\n",
       "      <td>Company - Private</td>\n",
       "      <td>Advertising &amp; Marketing</td>\n",
       "      <td>NA</td>\n",
       "    </tr>\n",
       "    <tr>\n",
       "      <th>2</th>\n",
       "      <td>Bilingual Senior Data Analyst (Japanese / Engl...</td>\n",
       "      <td>$55K-$101K (Glassdoor est.)</td>\n",
       "      <td>78000</td>\n",
       "      <td>Nintendo of America Inc.\\n\\nThe worldwide pion...</td>\n",
       "      <td>Nintendo\\n4.0</td>\n",
       "      <td>Redmond, WA</td>\n",
       "      <td>5001 to 10000 employees</td>\n",
       "      <td>Company - Public</td>\n",
       "      <td>Video Games</td>\n",
       "      <td>3</td>\n",
       "    </tr>\n",
       "    <tr>\n",
       "      <th>3</th>\n",
       "      <td>Sr. Data Analyst, Ad Operations</td>\n",
       "      <td>$57K-$103K (Glassdoor est.)</td>\n",
       "      <td>80000</td>\n",
       "      <td>System1 is looking for a driven data analyst w...</td>\n",
       "      <td>System1\\n3.8</td>\n",
       "      <td>Venice, CA</td>\n",
       "      <td>201 to 500 employees</td>\n",
       "      <td>Company - Private</td>\n",
       "      <td>Internet</td>\n",
       "      <td>3</td>\n",
       "    </tr>\n",
       "    <tr>\n",
       "      <th>4</th>\n",
       "      <td>Data Analyst</td>\n",
       "      <td>$43K-$69K (Glassdoor est.)</td>\n",
       "      <td>56000</td>\n",
       "      <td>Job Title: Data Analyst (1)\\n\\nPosition Type: ...</td>\n",
       "      <td>Bluemont Technology &amp; Research, Inc.\\n1.0</td>\n",
       "      <td>Norfolk, VA</td>\n",
       "      <td>1 to 50 employees</td>\n",
       "      <td>Company - Private</td>\n",
       "      <td>-1</td>\n",
       "      <td>5</td>\n",
       "    </tr>\n",
       "  </tbody>\n",
       "</table>\n",
       "</div>"
      ],
      "text/plain": [
       "                                           job_title  \\\n",
       "0   Information Security and Data Protection Analyst   \n",
       "1                                       Data Analyst   \n",
       "2  Bilingual Senior Data Analyst (Japanese / Engl...   \n",
       "3                    Sr. Data Analyst, Ad Operations   \n",
       "4                                       Data Analyst   \n",
       "\n",
       "               salary_estimate  midpoint_salary_estimate  \\\n",
       "0   $28K-$52K (Glassdoor est.)                     40000   \n",
       "1  $76K-$122K (Glassdoor est.)                     99000   \n",
       "2  $55K-$101K (Glassdoor est.)                     78000   \n",
       "3  $57K-$103K (Glassdoor est.)                     80000   \n",
       "4   $43K-$69K (Glassdoor est.)                     56000   \n",
       "\n",
       "                                     job_description  \\\n",
       "0  Amyx is seeking to hire an Information Securit...   \n",
       "1  Job Description\\nThe Customer Engineering Oper...   \n",
       "2  Nintendo of America Inc.\\n\\nThe worldwide pion...   \n",
       "3  System1 is looking for a driven data analyst w...   \n",
       "4  Job Title: Data Analyst (1)\\n\\nPosition Type: ...   \n",
       "\n",
       "                                company_name       location  \\\n",
       "0                            Amyx, Inc.\\n4.0   Columbus, OH   \n",
       "1                              ProMedia\\n4.4  San Diego, CA   \n",
       "2                              Nintendo\\n4.0    Redmond, WA   \n",
       "3                               System1\\n3.8     Venice, CA   \n",
       "4  Bluemont Technology & Research, Inc.\\n1.0    Norfolk, VA   \n",
       "\n",
       "                      size  type_of_ownership                 industry  \\\n",
       "0    501 to 1000 employees  Company - Private              IT Services   \n",
       "1        1 to 50 employees  Company - Private  Advertising & Marketing   \n",
       "2  5001 to 10000 employees   Company - Public              Video Games   \n",
       "3     201 to 500 employees  Company - Private                 Internet   \n",
       "4        1 to 50 employees  Company - Private                       -1   \n",
       "\n",
       "  year_experience  \n",
       "0               5  \n",
       "1              NA  \n",
       "2               3  \n",
       "3               3  \n",
       "4               5  "
      ]
     },
     "execution_count": 11,
     "metadata": {},
     "output_type": "execute_result"
    }
   ],
   "source": [
    "# Apply the vectorized function to the full dataset\n",
    "jobs_data[\"year_experience\"] = yrs_exp_vec(jobs_data[\"job_description\"])\n",
    "jobs_data.head()"
   ]
  },
  {
   "cell_type": "code",
   "execution_count": 12,
   "id": "05d331e1-006e-4147-86c3-02b7765e7705",
   "metadata": {
    "vscode": {
     "languageId": "quarto"
    }
   },
   "outputs": [
    {
     "name": "stdout",
     "output_type": "stream",
     "text": [
      "<class 'pandas.core.frame.DataFrame'>\n",
      "RangeIndex: 72 entries, 0 to 71\n",
      "Data columns (total 10 columns):\n",
      " #   Column                    Non-Null Count  Dtype  \n",
      "---  ------                    --------------  -----  \n",
      " 0   job_title                 72 non-null     object \n",
      " 1   salary_estimate           72 non-null     object \n",
      " 2   midpoint_salary_estimate  72 non-null     int64  \n",
      " 3   job_description           72 non-null     object \n",
      " 4   company_name              72 non-null     object \n",
      " 5   location                  72 non-null     object \n",
      " 6   size                      72 non-null     object \n",
      " 7   type_of_ownership         72 non-null     object \n",
      " 8   industry                  72 non-null     object \n",
      " 9   years_required            56 non-null     float64\n",
      "dtypes: float64(1), int64(1), object(8)\n",
      "memory usage: 5.8+ KB\n"
     ]
    }
   ],
   "source": [
    "# Convert 'years_required' to numeric\n",
    "## First rename the variable\n",
    "jobs_data = jobs_data.rename(columns = {\"year_experience\": \"years_required\"})\n",
    "jobs_data[\"years_required\"] = pd.to_numeric(jobs_data[\"years_required\"], errors=\"coerce\")\n",
    "\n",
    "jobs_data.info()"
   ]
  },
  {
   "cell_type": "code",
   "execution_count": 13,
   "id": "018e01f2-ce59-4693-8c27-b9a7324991b2",
   "metadata": {
    "vscode": {
     "languageId": "quarto"
    }
   },
   "outputs": [
    {
     "ename": "ValueError",
     "evalue": "Value of 'x' is not the name of a column in 'data_frame'. Expected one of ['job_title', 'salary_estimate', 'midpoint_salary_estimate', 'job_description', 'company_name', 'location', 'size', 'type_of_ownership', 'industry', 'years_required'] but received: year_experience",
     "output_type": "error",
     "traceback": [
      "\u001b[1;31m---------------------------------------------------------------------------\u001b[0m",
      "\u001b[1;31mValueError\u001b[0m                                Traceback (most recent call last)",
      "File \u001b[1;32mc:\\Users\\ester.nepolo.GFP-PMU\\Desktop\\Desktop 2024\\My Courses\\Python\\graph_courses_python\\week_07_workshop_instructions.qmd:2\u001b[0m\n\u001b[0;32m      1\u001b[0m \u001b[39m# Create a scatter plot\u001b[39;00m\n\u001b[1;32m----> 2\u001b[0m plot \u001b[39m=\u001b[39m px\u001b[39m.\u001b[39;49mscatter(jobs_data, x \u001b[39m=\u001b[39;49m \u001b[39m\"\u001b[39;49m\u001b[39myear_experience\u001b[39;49m\u001b[39m\"\u001b[39;49m, y \u001b[39m=\u001b[39;49m \u001b[39m\"\u001b[39;49m\u001b[39mmidpoint_salary_estimate\u001b[39;49m\u001b[39m\"\u001b[39;49m,\n\u001b[0;32m      3\u001b[0m labels\u001b[39m=\u001b[39;49m {\u001b[39m\"\u001b[39;49m\u001b[39myear_experience\u001b[39;49m\u001b[39m\"\u001b[39;49m : \u001b[39m\"\u001b[39;49m\u001b[39mYears of Experience\u001b[39;49m\u001b[39m\"\u001b[39;49m,\n\u001b[0;32m      4\u001b[0m \u001b[39m\"\u001b[39;49m\u001b[39mmidpoint_salary_estimate\u001b[39;49m\u001b[39m\"\u001b[39;49m: \u001b[39m\"\u001b[39;49m\u001b[39mSalary estimate\u001b[39;49m\u001b[39m\"\u001b[39;49m})\n\u001b[0;32m      5\u001b[0m plot\u001b[39m.\u001b[39mshow()\n",
      "File \u001b[1;32mc:\\Users\\ester.nepolo.GFP-PMU\\Desktop\\Desktop 2024\\My Courses\\Python\\graph_courses_python\\.venv\\Lib\\site-packages\\plotly\\express\\_chart_types.py:66\u001b[0m, in \u001b[0;36mscatter\u001b[1;34m(data_frame, x, y, color, symbol, size, hover_name, hover_data, custom_data, text, facet_row, facet_col, facet_col_wrap, facet_row_spacing, facet_col_spacing, error_x, error_x_minus, error_y, error_y_minus, animation_frame, animation_group, category_orders, labels, orientation, color_discrete_sequence, color_discrete_map, color_continuous_scale, range_color, color_continuous_midpoint, symbol_sequence, symbol_map, opacity, size_max, marginal_x, marginal_y, trendline, trendline_options, trendline_color_override, trendline_scope, log_x, log_y, range_x, range_y, render_mode, title, template, width, height)\u001b[0m\n\u001b[0;32m     12\u001b[0m \u001b[39mdef\u001b[39;00m \u001b[39mscatter\u001b[39m(\n\u001b[0;32m     13\u001b[0m     data_frame\u001b[39m=\u001b[39m\u001b[39mNone\u001b[39;00m,\n\u001b[0;32m     14\u001b[0m     x\u001b[39m=\u001b[39m\u001b[39mNone\u001b[39;00m,\n\u001b[1;32m   (...)\u001b[0m\n\u001b[0;32m     60\u001b[0m     height\u001b[39m=\u001b[39m\u001b[39mNone\u001b[39;00m,\n\u001b[0;32m     61\u001b[0m ) \u001b[39m-\u001b[39m\u001b[39m>\u001b[39m go\u001b[39m.\u001b[39mFigure:\n\u001b[0;32m     62\u001b[0m \u001b[39m    \u001b[39m\u001b[39m\"\"\"\u001b[39;00m\n\u001b[0;32m     63\u001b[0m \u001b[39m    In a scatter plot, each row of `data_frame` is represented by a symbol\u001b[39;00m\n\u001b[0;32m     64\u001b[0m \u001b[39m    mark in 2D space.\u001b[39;00m\n\u001b[0;32m     65\u001b[0m \u001b[39m    \"\"\"\u001b[39;00m\n\u001b[1;32m---> 66\u001b[0m     \u001b[39mreturn\u001b[39;00m make_figure(args\u001b[39m=\u001b[39;49m\u001b[39mlocals\u001b[39;49m(), constructor\u001b[39m=\u001b[39;49mgo\u001b[39m.\u001b[39;49mScatter)\n",
      "File \u001b[1;32mc:\\Users\\ester.nepolo.GFP-PMU\\Desktop\\Desktop 2024\\My Courses\\Python\\graph_courses_python\\.venv\\Lib\\site-packages\\plotly\\express\\_core.py:2117\u001b[0m, in \u001b[0;36mmake_figure\u001b[1;34m(args, constructor, trace_patch, layout_patch)\u001b[0m\n\u001b[0;32m   2114\u001b[0m layout_patch \u001b[39m=\u001b[39m layout_patch \u001b[39mor\u001b[39;00m {}\n\u001b[0;32m   2115\u001b[0m apply_default_cascade(args)\n\u001b[1;32m-> 2117\u001b[0m args \u001b[39m=\u001b[39m build_dataframe(args, constructor)\n\u001b[0;32m   2118\u001b[0m \u001b[39mif\u001b[39;00m constructor \u001b[39min\u001b[39;00m [go\u001b[39m.\u001b[39mTreemap, go\u001b[39m.\u001b[39mSunburst, go\u001b[39m.\u001b[39mIcicle] \u001b[39mand\u001b[39;00m args[\u001b[39m\"\u001b[39m\u001b[39mpath\u001b[39m\u001b[39m\"\u001b[39m] \u001b[39mis\u001b[39;00m \u001b[39mnot\u001b[39;00m \u001b[39mNone\u001b[39;00m:\n\u001b[0;32m   2119\u001b[0m     args \u001b[39m=\u001b[39m process_dataframe_hierarchy(args)\n",
      "File \u001b[1;32mc:\\Users\\ester.nepolo.GFP-PMU\\Desktop\\Desktop 2024\\My Courses\\Python\\graph_courses_python\\.venv\\Lib\\site-packages\\plotly\\express\\_core.py:1513\u001b[0m, in \u001b[0;36mbuild_dataframe\u001b[1;34m(args, constructor)\u001b[0m\n\u001b[0;32m   1510\u001b[0m     args[\u001b[39m\"\u001b[39m\u001b[39mcolor\u001b[39m\u001b[39m\"\u001b[39m] \u001b[39m=\u001b[39m \u001b[39mNone\u001b[39;00m\n\u001b[0;32m   1511\u001b[0m \u001b[39m# now that things have been prepped, we do the systematic rewriting of `args`\u001b[39;00m\n\u001b[1;32m-> 1513\u001b[0m df_output, wide_id_vars \u001b[39m=\u001b[39m process_args_into_dataframe(\n\u001b[0;32m   1514\u001b[0m     args, wide_mode, var_name, value_name\n\u001b[0;32m   1515\u001b[0m )\n\u001b[0;32m   1517\u001b[0m \u001b[39m# now that `df_output` exists and `args` contains only references, we complete\u001b[39;00m\n\u001b[0;32m   1518\u001b[0m \u001b[39m# the special-case and wide-mode handling by further rewriting args and/or mutating\u001b[39;00m\n\u001b[0;32m   1519\u001b[0m \u001b[39m# df_output\u001b[39;00m\n\u001b[0;32m   1521\u001b[0m count_name \u001b[39m=\u001b[39m _escape_col_name(df_output, \u001b[39m\"\u001b[39m\u001b[39mcount\u001b[39m\u001b[39m\"\u001b[39m, [var_name, value_name])\n",
      "File \u001b[1;32mc:\\Users\\ester.nepolo.GFP-PMU\\Desktop\\Desktop 2024\\My Courses\\Python\\graph_courses_python\\.venv\\Lib\\site-packages\\plotly\\express\\_core.py:1234\u001b[0m, in \u001b[0;36mprocess_args_into_dataframe\u001b[1;34m(args, wide_mode, var_name, value_name)\u001b[0m\n\u001b[0;32m   1232\u001b[0m         \u001b[39mif\u001b[39;00m argument \u001b[39m==\u001b[39m \u001b[39m\"\u001b[39m\u001b[39mindex\u001b[39m\u001b[39m\"\u001b[39m:\n\u001b[0;32m   1233\u001b[0m             err_msg \u001b[39m+\u001b[39m\u001b[39m=\u001b[39m \u001b[39m\"\u001b[39m\u001b[39m\\n\u001b[39;00m\u001b[39m To use the index, pass it in directly as `df.index`.\u001b[39m\u001b[39m\"\u001b[39m\n\u001b[1;32m-> 1234\u001b[0m         \u001b[39mraise\u001b[39;00m \u001b[39mValueError\u001b[39;00m(err_msg)\n\u001b[0;32m   1235\u001b[0m \u001b[39melif\u001b[39;00m length \u001b[39mand\u001b[39;00m \u001b[39mlen\u001b[39m(df_input[argument]) \u001b[39m!=\u001b[39m length:\n\u001b[0;32m   1236\u001b[0m     \u001b[39mraise\u001b[39;00m \u001b[39mValueError\u001b[39;00m(\n\u001b[0;32m   1237\u001b[0m         \u001b[39m\"\u001b[39m\u001b[39mAll arguments should have the same length. \u001b[39m\u001b[39m\"\u001b[39m\n\u001b[0;32m   1238\u001b[0m         \u001b[39m\"\u001b[39m\u001b[39mThe length of column argument `df[\u001b[39m\u001b[39m%s\u001b[39;00m\u001b[39m]` is \u001b[39m\u001b[39m%d\u001b[39;00m\u001b[39m, whereas the \u001b[39m\u001b[39m\"\u001b[39m\n\u001b[1;32m   (...)\u001b[0m\n\u001b[0;32m   1245\u001b[0m         )\n\u001b[0;32m   1246\u001b[0m     )\n",
      "\u001b[1;31mValueError\u001b[0m: Value of 'x' is not the name of a column in 'data_frame'. Expected one of ['job_title', 'salary_estimate', 'midpoint_salary_estimate', 'job_description', 'company_name', 'location', 'size', 'type_of_ownership', 'industry', 'years_required'] but received: year_experience"
     ]
    }
   ],
   "source": [
    "# Create a scatter plot\n",
    "plot = px.scatter(jobs_data, x = \"year_experience\", y = \"midpoint_salary_estimate\",\n",
    "labels= {\"year_experience\" : \"Years of Experience\",\n",
    "\"midpoint_salary_estimate\": \"Salary estimate\"})\n",
    "plot.show()"
   ]
  },
  {
   "cell_type": "code",
   "execution_count": 14,
   "id": "f7c6ef36-a27b-4b76-a63f-cfd534b91c06",
   "metadata": {
    "vscode": {
     "languageId": "quarto"
    }
   },
   "outputs": [
    {
     "data": {
      "text/html": [
       "<div>\n",
       "<style scoped>\n",
       "    .dataframe tbody tr th:only-of-type {\n",
       "        vertical-align: middle;\n",
       "    }\n",
       "\n",
       "    .dataframe tbody tr th {\n",
       "        vertical-align: top;\n",
       "    }\n",
       "\n",
       "    .dataframe thead th {\n",
       "        text-align: right;\n",
       "    }\n",
       "</style>\n",
       "<table border=\"1\" class=\"dataframe\">\n",
       "  <thead>\n",
       "    <tr style=\"text-align: right;\">\n",
       "      <th></th>\n",
       "      <th>job_description</th>\n",
       "      <th>years_required</th>\n",
       "    </tr>\n",
       "  </thead>\n",
       "  <tbody>\n",
       "    <tr>\n",
       "      <th>0</th>\n",
       "      <td>Amyx is seeking to hire an Information Securit...</td>\n",
       "      <td>5.0</td>\n",
       "    </tr>\n",
       "    <tr>\n",
       "      <th>1</th>\n",
       "      <td>Job Description\\nThe Customer Engineering Oper...</td>\n",
       "      <td>NaN</td>\n",
       "    </tr>\n",
       "    <tr>\n",
       "      <th>2</th>\n",
       "      <td>Nintendo of America Inc.\\n\\nThe worldwide pion...</td>\n",
       "      <td>3.0</td>\n",
       "    </tr>\n",
       "    <tr>\n",
       "      <th>3</th>\n",
       "      <td>System1 is looking for a driven data analyst w...</td>\n",
       "      <td>3.0</td>\n",
       "    </tr>\n",
       "    <tr>\n",
       "      <th>4</th>\n",
       "      <td>Job Title: Data Analyst (1)\\n\\nPosition Type: ...</td>\n",
       "      <td>5.0</td>\n",
       "    </tr>\n",
       "    <tr>\n",
       "      <th>...</th>\n",
       "      <td>...</td>\n",
       "      <td>...</td>\n",
       "    </tr>\n",
       "    <tr>\n",
       "      <th>67</th>\n",
       "      <td>One by one, we are leading a movement to a fut...</td>\n",
       "      <td>3.0</td>\n",
       "    </tr>\n",
       "    <tr>\n",
       "      <th>68</th>\n",
       "      <td>Overview\\n\\nAbout Pulse8, Inc.\\n\\nPulse8 is an...</td>\n",
       "      <td>4.0</td>\n",
       "    </tr>\n",
       "    <tr>\n",
       "      <th>69</th>\n",
       "      <td>Our client is a global leader in software serv...</td>\n",
       "      <td>NaN</td>\n",
       "    </tr>\n",
       "    <tr>\n",
       "      <th>70</th>\n",
       "      <td>The Fund for Public Health in New York City (F...</td>\n",
       "      <td>NaN</td>\n",
       "    </tr>\n",
       "    <tr>\n",
       "      <th>71</th>\n",
       "      <td>Strength Through\\nDiversity\\n\\nGround breaking...</td>\n",
       "      <td>3.0</td>\n",
       "    </tr>\n",
       "  </tbody>\n",
       "</table>\n",
       "<p>72 rows × 2 columns</p>\n",
       "</div>"
      ],
      "text/plain": [
       "                                      job_description  years_required\n",
       "0   Amyx is seeking to hire an Information Securit...             5.0\n",
       "1   Job Description\\nThe Customer Engineering Oper...             NaN\n",
       "2   Nintendo of America Inc.\\n\\nThe worldwide pion...             3.0\n",
       "3   System1 is looking for a driven data analyst w...             3.0\n",
       "4   Job Title: Data Analyst (1)\\n\\nPosition Type: ...             5.0\n",
       "..                                                ...             ...\n",
       "67  One by one, we are leading a movement to a fut...             3.0\n",
       "68  Overview\\n\\nAbout Pulse8, Inc.\\n\\nPulse8 is an...             4.0\n",
       "69  Our client is a global leader in software serv...             NaN\n",
       "70  The Fund for Public Health in New York City (F...             NaN\n",
       "71  Strength Through\\nDiversity\\n\\nGround breaking...             3.0\n",
       "\n",
       "[72 rows x 2 columns]"
      ]
     },
     "execution_count": 14,
     "metadata": {},
     "output_type": "execute_result"
    }
   ],
   "source": [
    "years_of_exp = jobs_data[[\"job_description\", \"years_required\"]]\n",
    "years_of_exp"
   ]
  },
  {
   "cell_type": "code",
   "execution_count": 15,
   "id": "272a2af1-9ade-4476-8b5f-116173177596",
   "metadata": {
    "vscode": {
     "languageId": "quarto"
    }
   },
   "outputs": [
    {
     "data": {
      "text/html": [
       "<div>\n",
       "<style scoped>\n",
       "    .dataframe tbody tr th:only-of-type {\n",
       "        vertical-align: middle;\n",
       "    }\n",
       "\n",
       "    .dataframe tbody tr th {\n",
       "        vertical-align: top;\n",
       "    }\n",
       "\n",
       "    .dataframe thead th {\n",
       "        text-align: right;\n",
       "    }\n",
       "</style>\n",
       "<table border=\"1\" class=\"dataframe\">\n",
       "  <thead>\n",
       "    <tr style=\"text-align: right;\">\n",
       "      <th></th>\n",
       "      <th>job_title</th>\n",
       "      <th>salary_estimate</th>\n",
       "      <th>midpoint_salary_estimate</th>\n",
       "      <th>job_description</th>\n",
       "      <th>company_name</th>\n",
       "      <th>location</th>\n",
       "      <th>size</th>\n",
       "      <th>type_of_ownership</th>\n",
       "      <th>industry</th>\n",
       "    </tr>\n",
       "  </thead>\n",
       "  <tbody>\n",
       "    <tr>\n",
       "      <th>0</th>\n",
       "      <td>Information Security and Data Protection Analyst</td>\n",
       "      <td>$28K-$52K (Glassdoor est.)</td>\n",
       "      <td>40000</td>\n",
       "      <td>Amyx is seeking to hire an Information Securit...</td>\n",
       "      <td>Amyx, Inc.\\n4.0</td>\n",
       "      <td>Columbus, OH</td>\n",
       "      <td>501 to 1000 employees</td>\n",
       "      <td>Company - Private</td>\n",
       "      <td>IT Services</td>\n",
       "    </tr>\n",
       "    <tr>\n",
       "      <th>1</th>\n",
       "      <td>Data Analyst</td>\n",
       "      <td>$76K-$122K (Glassdoor est.)</td>\n",
       "      <td>99000</td>\n",
       "      <td>Job Description\\nThe Customer Engineering Oper...</td>\n",
       "      <td>ProMedia\\n4.4</td>\n",
       "      <td>San Diego, CA</td>\n",
       "      <td>1 to 50 employees</td>\n",
       "      <td>Company - Private</td>\n",
       "      <td>Advertising &amp; Marketing</td>\n",
       "    </tr>\n",
       "    <tr>\n",
       "      <th>2</th>\n",
       "      <td>Bilingual Senior Data Analyst (Japanese / Engl...</td>\n",
       "      <td>$55K-$101K (Glassdoor est.)</td>\n",
       "      <td>78000</td>\n",
       "      <td>Nintendo of America Inc.\\n\\nThe worldwide pion...</td>\n",
       "      <td>Nintendo\\n4.0</td>\n",
       "      <td>Redmond, WA</td>\n",
       "      <td>5001 to 10000 employees</td>\n",
       "      <td>Company - Public</td>\n",
       "      <td>Video Games</td>\n",
       "    </tr>\n",
       "    <tr>\n",
       "      <th>3</th>\n",
       "      <td>Sr. Data Analyst, Ad Operations</td>\n",
       "      <td>$57K-$103K (Glassdoor est.)</td>\n",
       "      <td>80000</td>\n",
       "      <td>System1 is looking for a driven data analyst w...</td>\n",
       "      <td>System1\\n3.8</td>\n",
       "      <td>Venice, CA</td>\n",
       "      <td>201 to 500 employees</td>\n",
       "      <td>Company - Private</td>\n",
       "      <td>Internet</td>\n",
       "    </tr>\n",
       "    <tr>\n",
       "      <th>4</th>\n",
       "      <td>Data Analyst</td>\n",
       "      <td>$43K-$69K (Glassdoor est.)</td>\n",
       "      <td>56000</td>\n",
       "      <td>Job Title: Data Analyst (1)\\n\\nPosition Type: ...</td>\n",
       "      <td>Bluemont Technology &amp; Research, Inc.\\n1.0</td>\n",
       "      <td>Norfolk, VA</td>\n",
       "      <td>1 to 50 employees</td>\n",
       "      <td>Company - Private</td>\n",
       "      <td>-1</td>\n",
       "    </tr>\n",
       "    <tr>\n",
       "      <th>...</th>\n",
       "      <td>...</td>\n",
       "      <td>...</td>\n",
       "      <td>...</td>\n",
       "      <td>...</td>\n",
       "      <td>...</td>\n",
       "      <td>...</td>\n",
       "      <td>...</td>\n",
       "      <td>...</td>\n",
       "      <td>...</td>\n",
       "    </tr>\n",
       "    <tr>\n",
       "      <th>67</th>\n",
       "      <td>Sr. Business Analyst, Data Science and Analytics</td>\n",
       "      <td>$35K-$45K (Glassdoor est.)</td>\n",
       "      <td>40000</td>\n",
       "      <td>One by one, we are leading a movement to a fut...</td>\n",
       "      <td>Beautycounter\\n3.0</td>\n",
       "      <td>Santa Monica, CA</td>\n",
       "      <td>201 to 500 employees</td>\n",
       "      <td>Company - Private</td>\n",
       "      <td>Health, Beauty, &amp; Fitness</td>\n",
       "    </tr>\n",
       "    <tr>\n",
       "      <th>68</th>\n",
       "      <td>Healthcare Data Analyst - Remote</td>\n",
       "      <td>$60K-$66K (Glassdoor est.)</td>\n",
       "      <td>63000</td>\n",
       "      <td>Overview\\n\\nAbout Pulse8, Inc.\\n\\nPulse8 is an...</td>\n",
       "      <td>Allscripts\\n3.3</td>\n",
       "      <td>Chicago, IL</td>\n",
       "      <td>5001 to 10000 employees</td>\n",
       "      <td>Company - Public</td>\n",
       "      <td>Computer Hardware &amp; Software</td>\n",
       "    </tr>\n",
       "    <tr>\n",
       "      <th>69</th>\n",
       "      <td>Sr. Process Analyst - Data Privacy Project</td>\n",
       "      <td>$47K-$74K (Glassdoor est.)</td>\n",
       "      <td>60500</td>\n",
       "      <td>Our client is a global leader in software serv...</td>\n",
       "      <td>The Ascent Services Group\\n4.6</td>\n",
       "      <td>San Rafael, CA</td>\n",
       "      <td>1001 to 5000 employees</td>\n",
       "      <td>Company - Private</td>\n",
       "      <td>Staffing &amp; Outsourcing</td>\n",
       "    </tr>\n",
       "    <tr>\n",
       "      <th>70</th>\n",
       "      <td>Data Analyst</td>\n",
       "      <td>$51K-$87K (Glassdoor est.)</td>\n",
       "      <td>69000</td>\n",
       "      <td>The Fund for Public Health in New York City (F...</td>\n",
       "      <td>Fund for Public Health</td>\n",
       "      <td>Long Island City, NY</td>\n",
       "      <td>201 to 500 employees</td>\n",
       "      <td>Nonprofit Organization</td>\n",
       "      <td>Social Assistance</td>\n",
       "    </tr>\n",
       "    <tr>\n",
       "      <th>71</th>\n",
       "      <td>Data Analyst II, Division of Gastroenterology ...</td>\n",
       "      <td>$43K-$76K (Glassdoor est.)</td>\n",
       "      <td>59500</td>\n",
       "      <td>Strength Through\\nDiversity\\n\\nGround breaking...</td>\n",
       "      <td>Mount Sinai Health System</td>\n",
       "      <td>New York, NY</td>\n",
       "      <td>10000+ employees</td>\n",
       "      <td>Hospital</td>\n",
       "      <td>Health Care Services &amp; Hospitals</td>\n",
       "    </tr>\n",
       "  </tbody>\n",
       "</table>\n",
       "<p>72 rows × 9 columns</p>\n",
       "</div>"
      ],
      "text/plain": [
       "                                            job_title  \\\n",
       "0    Information Security and Data Protection Analyst   \n",
       "1                                        Data Analyst   \n",
       "2   Bilingual Senior Data Analyst (Japanese / Engl...   \n",
       "3                     Sr. Data Analyst, Ad Operations   \n",
       "4                                        Data Analyst   \n",
       "..                                                ...   \n",
       "67   Sr. Business Analyst, Data Science and Analytics   \n",
       "68                   Healthcare Data Analyst - Remote   \n",
       "69         Sr. Process Analyst - Data Privacy Project   \n",
       "70                                       Data Analyst   \n",
       "71  Data Analyst II, Division of Gastroenterology ...   \n",
       "\n",
       "                salary_estimate  midpoint_salary_estimate  \\\n",
       "0    $28K-$52K (Glassdoor est.)                     40000   \n",
       "1   $76K-$122K (Glassdoor est.)                     99000   \n",
       "2   $55K-$101K (Glassdoor est.)                     78000   \n",
       "3   $57K-$103K (Glassdoor est.)                     80000   \n",
       "4    $43K-$69K (Glassdoor est.)                     56000   \n",
       "..                          ...                       ...   \n",
       "67   $35K-$45K (Glassdoor est.)                     40000   \n",
       "68   $60K-$66K (Glassdoor est.)                     63000   \n",
       "69   $47K-$74K (Glassdoor est.)                     60500   \n",
       "70   $51K-$87K (Glassdoor est.)                     69000   \n",
       "71   $43K-$76K (Glassdoor est.)                     59500   \n",
       "\n",
       "                                      job_description  \\\n",
       "0   Amyx is seeking to hire an Information Securit...   \n",
       "1   Job Description\\nThe Customer Engineering Oper...   \n",
       "2   Nintendo of America Inc.\\n\\nThe worldwide pion...   \n",
       "3   System1 is looking for a driven data analyst w...   \n",
       "4   Job Title: Data Analyst (1)\\n\\nPosition Type: ...   \n",
       "..                                                ...   \n",
       "67  One by one, we are leading a movement to a fut...   \n",
       "68  Overview\\n\\nAbout Pulse8, Inc.\\n\\nPulse8 is an...   \n",
       "69  Our client is a global leader in software serv...   \n",
       "70  The Fund for Public Health in New York City (F...   \n",
       "71  Strength Through\\nDiversity\\n\\nGround breaking...   \n",
       "\n",
       "                                 company_name              location  \\\n",
       "0                             Amyx, Inc.\\n4.0          Columbus, OH   \n",
       "1                               ProMedia\\n4.4         San Diego, CA   \n",
       "2                               Nintendo\\n4.0           Redmond, WA   \n",
       "3                                System1\\n3.8            Venice, CA   \n",
       "4   Bluemont Technology & Research, Inc.\\n1.0           Norfolk, VA   \n",
       "..                                        ...                   ...   \n",
       "67                         Beautycounter\\n3.0      Santa Monica, CA   \n",
       "68                            Allscripts\\n3.3           Chicago, IL   \n",
       "69             The Ascent Services Group\\n4.6        San Rafael, CA   \n",
       "70                     Fund for Public Health  Long Island City, NY   \n",
       "71                  Mount Sinai Health System          New York, NY   \n",
       "\n",
       "                       size       type_of_ownership  \\\n",
       "0     501 to 1000 employees       Company - Private   \n",
       "1         1 to 50 employees       Company - Private   \n",
       "2   5001 to 10000 employees        Company - Public   \n",
       "3      201 to 500 employees       Company - Private   \n",
       "4         1 to 50 employees       Company - Private   \n",
       "..                      ...                     ...   \n",
       "67     201 to 500 employees       Company - Private   \n",
       "68  5001 to 10000 employees        Company - Public   \n",
       "69   1001 to 5000 employees       Company - Private   \n",
       "70     201 to 500 employees  Nonprofit Organization   \n",
       "71         10000+ employees                Hospital   \n",
       "\n",
       "                            industry  \n",
       "0                        IT Services  \n",
       "1            Advertising & Marketing  \n",
       "2                        Video Games  \n",
       "3                           Internet  \n",
       "4                                 -1  \n",
       "..                               ...  \n",
       "67         Health, Beauty, & Fitness  \n",
       "68      Computer Hardware & Software  \n",
       "69            Staffing & Outsourcing  \n",
       "70                 Social Assistance  \n",
       "71  Health Care Services & Hospitals  \n",
       "\n",
       "[72 rows x 9 columns]"
      ]
     },
     "execution_count": 15,
     "metadata": {},
     "output_type": "execute_result"
    }
   ],
   "source": [
    "# Load the data into a pandas DataFrame\n",
    "jobs_data = pd.read_csv(\"data/glassdoor_jobs_sample.csv\")\n",
    "jobs_data"
   ]
  },
  {
   "cell_type": "code",
   "execution_count": 16,
   "id": "a1fbcd70-ecf9-471e-bf25-fae0e44c646f",
   "metadata": {
    "vscode": {
     "languageId": "quarto"
    }
   },
   "outputs": [
    {
     "ename": "KeyError",
     "evalue": "'years_required'",
     "output_type": "error",
     "traceback": [
      "\u001b[1;31m---------------------------------------------------------------------------\u001b[0m",
      "\u001b[1;31mKeyError\u001b[0m                                  Traceback (most recent call last)",
      "File \u001b[1;32mc:\\Users\\ester.nepolo.GFP-PMU\\Desktop\\Desktop 2024\\My Courses\\Python\\graph_courses_python\\.venv\\Lib\\site-packages\\pandas\\core\\indexes\\base.py:3805\u001b[0m, in \u001b[0;36mIndex.get_loc\u001b[1;34m(self, key)\u001b[0m\n\u001b[0;32m   3804\u001b[0m \u001b[39mtry\u001b[39;00m:\n\u001b[1;32m-> 3805\u001b[0m     \u001b[39mreturn\u001b[39;00m \u001b[39mself\u001b[39;49m\u001b[39m.\u001b[39;49m_engine\u001b[39m.\u001b[39;49mget_loc(casted_key)\n\u001b[0;32m   3806\u001b[0m \u001b[39mexcept\u001b[39;00m \u001b[39mKeyError\u001b[39;00m \u001b[39mas\u001b[39;00m err:\n",
      "File \u001b[1;32mindex.pyx:167\u001b[0m, in \u001b[0;36mpandas._libs.index.IndexEngine.get_loc\u001b[1;34m()\u001b[0m\n",
      "File \u001b[1;32mindex.pyx:196\u001b[0m, in \u001b[0;36mpandas._libs.index.IndexEngine.get_loc\u001b[1;34m()\u001b[0m\n",
      "File \u001b[1;32mpandas\\\\_libs\\\\hashtable_class_helper.pxi:7081\u001b[0m, in \u001b[0;36mpandas._libs.hashtable.PyObjectHashTable.get_item\u001b[1;34m()\u001b[0m\n",
      "File \u001b[1;32mpandas\\\\_libs\\\\hashtable_class_helper.pxi:7089\u001b[0m, in \u001b[0;36mpandas._libs.hashtable.PyObjectHashTable.get_item\u001b[1;34m()\u001b[0m\n",
      "\u001b[1;31mKeyError\u001b[0m: 'years_required'",
      "\nThe above exception was the direct cause of the following exception:\n",
      "\u001b[1;31mKeyError\u001b[0m                                  Traceback (most recent call last)",
      "File \u001b[1;32mc:\\Users\\ester.nepolo.GFP-PMU\\Desktop\\Desktop 2024\\My Courses\\Python\\graph_courses_python\\week_07_workshop_instructions.qmd:4\u001b[0m\n\u001b[0;32m      1\u001b[0m \u001b[39m# Convert 'years_required' to numeric\u001b[39;00m\n\u001b[0;32m      2\u001b[0m \u001b[39m## First rename the variable\u001b[39;00m\n\u001b[0;32m      3\u001b[0m jobs_data \u001b[39m=\u001b[39m jobs_data\u001b[39m.\u001b[39mrename(columns \u001b[39m=\u001b[39m {\u001b[39m\"\u001b[39m\u001b[39myear_experience\u001b[39m\u001b[39m\"\u001b[39m: \u001b[39m\"\u001b[39m\u001b[39myears_required\u001b[39m\u001b[39m\"\u001b[39m})\n\u001b[1;32m----> 4\u001b[0m jobs_data[\u001b[39m\"\u001b[39m\u001b[39myears_required\u001b[39m\u001b[39m\"\u001b[39m] \u001b[39m=\u001b[39m pd\u001b[39m.\u001b[39mto_numeric(jobs_data[\u001b[39m\"\u001b[39;49m\u001b[39myears_required\u001b[39;49m\u001b[39m\"\u001b[39;49m], errors\u001b[39m=\u001b[39m\u001b[39m\"\u001b[39m\u001b[39mcoerce\u001b[39m\u001b[39m\"\u001b[39m)\n\u001b[0;32m      6\u001b[0m jobs_data\u001b[39m.\u001b[39minfo()\n",
      "File \u001b[1;32mc:\\Users\\ester.nepolo.GFP-PMU\\Desktop\\Desktop 2024\\My Courses\\Python\\graph_courses_python\\.venv\\Lib\\site-packages\\pandas\\core\\frame.py:4102\u001b[0m, in \u001b[0;36mDataFrame.__getitem__\u001b[1;34m(self, key)\u001b[0m\n\u001b[0;32m   4100\u001b[0m \u001b[39mif\u001b[39;00m \u001b[39mself\u001b[39m\u001b[39m.\u001b[39mcolumns\u001b[39m.\u001b[39mnlevels \u001b[39m>\u001b[39m \u001b[39m1\u001b[39m:\n\u001b[0;32m   4101\u001b[0m     \u001b[39mreturn\u001b[39;00m \u001b[39mself\u001b[39m\u001b[39m.\u001b[39m_getitem_multilevel(key)\n\u001b[1;32m-> 4102\u001b[0m indexer \u001b[39m=\u001b[39m \u001b[39mself\u001b[39;49m\u001b[39m.\u001b[39;49mcolumns\u001b[39m.\u001b[39;49mget_loc(key)\n\u001b[0;32m   4103\u001b[0m \u001b[39mif\u001b[39;00m is_integer(indexer):\n\u001b[0;32m   4104\u001b[0m     indexer \u001b[39m=\u001b[39m [indexer]\n",
      "File \u001b[1;32mc:\\Users\\ester.nepolo.GFP-PMU\\Desktop\\Desktop 2024\\My Courses\\Python\\graph_courses_python\\.venv\\Lib\\site-packages\\pandas\\core\\indexes\\base.py:3812\u001b[0m, in \u001b[0;36mIndex.get_loc\u001b[1;34m(self, key)\u001b[0m\n\u001b[0;32m   3807\u001b[0m     \u001b[39mif\u001b[39;00m \u001b[39misinstance\u001b[39m(casted_key, \u001b[39mslice\u001b[39m) \u001b[39mor\u001b[39;00m (\n\u001b[0;32m   3808\u001b[0m         \u001b[39misinstance\u001b[39m(casted_key, abc\u001b[39m.\u001b[39mIterable)\n\u001b[0;32m   3809\u001b[0m         \u001b[39mand\u001b[39;00m \u001b[39many\u001b[39m(\u001b[39misinstance\u001b[39m(x, \u001b[39mslice\u001b[39m) \u001b[39mfor\u001b[39;00m x \u001b[39min\u001b[39;00m casted_key)\n\u001b[0;32m   3810\u001b[0m     ):\n\u001b[0;32m   3811\u001b[0m         \u001b[39mraise\u001b[39;00m InvalidIndexError(key)\n\u001b[1;32m-> 3812\u001b[0m     \u001b[39mraise\u001b[39;00m \u001b[39mKeyError\u001b[39;00m(key) \u001b[39mfrom\u001b[39;00m \u001b[39merr\u001b[39;00m\n\u001b[0;32m   3813\u001b[0m \u001b[39mexcept\u001b[39;00m \u001b[39mTypeError\u001b[39;00m:\n\u001b[0;32m   3814\u001b[0m     \u001b[39m# If we have a listlike key, _check_indexing_error will raise\u001b[39;00m\n\u001b[0;32m   3815\u001b[0m     \u001b[39m#  InvalidIndexError. Otherwise we fall through and re-raise\u001b[39;00m\n\u001b[0;32m   3816\u001b[0m     \u001b[39m#  the TypeError.\u001b[39;00m\n\u001b[0;32m   3817\u001b[0m     \u001b[39mself\u001b[39m\u001b[39m.\u001b[39m_check_indexing_error(key)\n",
      "\u001b[1;31mKeyError\u001b[0m: 'years_required'"
     ]
    }
   ],
   "source": [
    "# Convert 'years_required' to numeric\n",
    "## First rename the variable\n",
    "jobs_data = jobs_data.rename(columns = {\"year_experience\": \"years_required\"})\n",
    "jobs_data[\"years_required\"] = pd.to_numeric(jobs_data[\"years_required\"], errors=\"coerce\")\n",
    "\n",
    "jobs_data.info()"
   ]
  },
  {
   "cell_type": "code",
   "execution_count": 17,
   "id": "6e87f01d-4865-4f9c-88bf-3a1d93104380",
   "metadata": {
    "vscode": {
     "languageId": "quarto"
    }
   },
   "outputs": [
    {
     "name": "stderr",
     "output_type": "stream",
     "text": [
      "<ipython-input-17-827295213484>:13: SettingWithCopyWarning: \n",
      "A value is trying to be set on a copy of a slice from a DataFrame.\n",
      "Try using .loc[row_indexer,col_indexer] = value instead\n",
      "\n",
      "See the caveats in the documentation: https://pandas.pydata.org/pandas-docs/stable/user_guide/indexing.html#returning-a-view-versus-a-copy\n",
      "  years_of_exp[\"years_required\"] = yrs_exp_vec(years_of_exp[\"job_description\"])\n"
     ]
    },
    {
     "data": {
      "text/html": [
       "<div>\n",
       "<style scoped>\n",
       "    .dataframe tbody tr th:only-of-type {\n",
       "        vertical-align: middle;\n",
       "    }\n",
       "\n",
       "    .dataframe tbody tr th {\n",
       "        vertical-align: top;\n",
       "    }\n",
       "\n",
       "    .dataframe thead th {\n",
       "        text-align: right;\n",
       "    }\n",
       "</style>\n",
       "<table border=\"1\" class=\"dataframe\">\n",
       "  <thead>\n",
       "    <tr style=\"text-align: right;\">\n",
       "      <th></th>\n",
       "      <th>job_description</th>\n",
       "      <th>years_required</th>\n",
       "    </tr>\n",
       "  </thead>\n",
       "  <tbody>\n",
       "    <tr>\n",
       "      <th>0</th>\n",
       "      <td>Amyx is seeking to hire an Information Securit...</td>\n",
       "      <td>5</td>\n",
       "    </tr>\n",
       "    <tr>\n",
       "      <th>1</th>\n",
       "      <td>Job Description\\nThe Customer Engineering Oper...</td>\n",
       "      <td>NA</td>\n",
       "    </tr>\n",
       "    <tr>\n",
       "      <th>2</th>\n",
       "      <td>Nintendo of America Inc.\\n\\nThe worldwide pion...</td>\n",
       "      <td>3</td>\n",
       "    </tr>\n",
       "    <tr>\n",
       "      <th>3</th>\n",
       "      <td>System1 is looking for a driven data analyst w...</td>\n",
       "      <td>3</td>\n",
       "    </tr>\n",
       "    <tr>\n",
       "      <th>4</th>\n",
       "      <td>Job Title: Data Analyst (1)\\n\\nPosition Type: ...</td>\n",
       "      <td>5</td>\n",
       "    </tr>\n",
       "  </tbody>\n",
       "</table>\n",
       "</div>"
      ],
      "text/plain": [
       "                                     job_description years_required\n",
       "0  Amyx is seeking to hire an Information Securit...              5\n",
       "1  Job Description\\nThe Customer Engineering Oper...             NA\n",
       "2  Nintendo of America Inc.\\n\\nThe worldwide pion...              3\n",
       "3  System1 is looking for a driven data analyst w...              3\n",
       "4  Job Title: Data Analyst (1)\\n\\nPosition Type: ...              5"
      ]
     },
     "execution_count": 17,
     "metadata": {},
     "output_type": "execute_result"
    }
   ],
   "source": [
    "def yrs_exp(description):\n",
    "    prompt = f\"\"\"\n",
    "    Extract the minimum years of experience required from this job description. \n",
    "    Return ONLY a number. If a range is given, return the lower number.\n",
    "    If no years of experience are explicitly mentioned, return 'NA'.\n",
    "    Here's the job description:\n",
    "    {description}\n",
    "    \"\"\"\n",
    "    return llm_chat(prompt)\n",
    "\n",
    "# Vectorize the function and test it on the first few rows\n",
    "yrs_exp_vec = np.vectorize(yrs_exp)\n",
    "years_of_exp[\"years_required\"] = yrs_exp_vec(years_of_exp[\"job_description\"])\n",
    "years_of_exp.head()"
   ]
  },
  {
   "cell_type": "code",
   "execution_count": 18,
   "id": "06305f5a-9d35-4c09-b8ea-67ba19529ad6",
   "metadata": {
    "vscode": {
     "languageId": "quarto"
    }
   },
   "outputs": [],
   "source": [
    "years_of_exp.to_csv(\"outputs/years_of_exp.csv\")"
   ]
  },
  {
   "cell_type": "code",
   "execution_count": 19,
   "id": "82149eea-9f2e-4991-a393-db3453eec3e0",
   "metadata": {
    "vscode": {
     "languageId": "quarto"
    }
   },
   "outputs": [
    {
     "data": {
      "text/html": [
       "<div>\n",
       "<style scoped>\n",
       "    .dataframe tbody tr th:only-of-type {\n",
       "        vertical-align: middle;\n",
       "    }\n",
       "\n",
       "    .dataframe tbody tr th {\n",
       "        vertical-align: top;\n",
       "    }\n",
       "\n",
       "    .dataframe thead th {\n",
       "        text-align: right;\n",
       "    }\n",
       "</style>\n",
       "<table border=\"1\" class=\"dataframe\">\n",
       "  <thead>\n",
       "    <tr style=\"text-align: right;\">\n",
       "      <th></th>\n",
       "      <th>job_title</th>\n",
       "      <th>salary_estimate</th>\n",
       "      <th>midpoint_salary_estimate</th>\n",
       "      <th>job_description</th>\n",
       "      <th>company_name</th>\n",
       "      <th>location</th>\n",
       "      <th>size</th>\n",
       "      <th>type_of_ownership</th>\n",
       "      <th>industry</th>\n",
       "      <th>year_experience</th>\n",
       "    </tr>\n",
       "  </thead>\n",
       "  <tbody>\n",
       "    <tr>\n",
       "      <th>0</th>\n",
       "      <td>Information Security and Data Protection Analyst</td>\n",
       "      <td>$28K-$52K (Glassdoor est.)</td>\n",
       "      <td>40000</td>\n",
       "      <td>Amyx is seeking to hire an Information Securit...</td>\n",
       "      <td>Amyx, Inc.\\n4.0</td>\n",
       "      <td>Columbus, OH</td>\n",
       "      <td>501 to 1000 employees</td>\n",
       "      <td>Company - Private</td>\n",
       "      <td>IT Services</td>\n",
       "      <td>5</td>\n",
       "    </tr>\n",
       "    <tr>\n",
       "      <th>1</th>\n",
       "      <td>Data Analyst</td>\n",
       "      <td>$76K-$122K (Glassdoor est.)</td>\n",
       "      <td>99000</td>\n",
       "      <td>Job Description\\nThe Customer Engineering Oper...</td>\n",
       "      <td>ProMedia\\n4.4</td>\n",
       "      <td>San Diego, CA</td>\n",
       "      <td>1 to 50 employees</td>\n",
       "      <td>Company - Private</td>\n",
       "      <td>Advertising &amp; Marketing</td>\n",
       "      <td>NA</td>\n",
       "    </tr>\n",
       "    <tr>\n",
       "      <th>2</th>\n",
       "      <td>Bilingual Senior Data Analyst (Japanese / Engl...</td>\n",
       "      <td>$55K-$101K (Glassdoor est.)</td>\n",
       "      <td>78000</td>\n",
       "      <td>Nintendo of America Inc.\\n\\nThe worldwide pion...</td>\n",
       "      <td>Nintendo\\n4.0</td>\n",
       "      <td>Redmond, WA</td>\n",
       "      <td>5001 to 10000 employees</td>\n",
       "      <td>Company - Public</td>\n",
       "      <td>Video Games</td>\n",
       "      <td>3</td>\n",
       "    </tr>\n",
       "    <tr>\n",
       "      <th>3</th>\n",
       "      <td>Sr. Data Analyst, Ad Operations</td>\n",
       "      <td>$57K-$103K (Glassdoor est.)</td>\n",
       "      <td>80000</td>\n",
       "      <td>System1 is looking for a driven data analyst w...</td>\n",
       "      <td>System1\\n3.8</td>\n",
       "      <td>Venice, CA</td>\n",
       "      <td>201 to 500 employees</td>\n",
       "      <td>Company - Private</td>\n",
       "      <td>Internet</td>\n",
       "      <td>3</td>\n",
       "    </tr>\n",
       "    <tr>\n",
       "      <th>4</th>\n",
       "      <td>Data Analyst</td>\n",
       "      <td>$43K-$69K (Glassdoor est.)</td>\n",
       "      <td>56000</td>\n",
       "      <td>Job Title: Data Analyst (1)\\n\\nPosition Type: ...</td>\n",
       "      <td>Bluemont Technology &amp; Research, Inc.\\n1.0</td>\n",
       "      <td>Norfolk, VA</td>\n",
       "      <td>1 to 50 employees</td>\n",
       "      <td>Company - Private</td>\n",
       "      <td>-1</td>\n",
       "      <td>5</td>\n",
       "    </tr>\n",
       "  </tbody>\n",
       "</table>\n",
       "</div>"
      ],
      "text/plain": [
       "                                           job_title  \\\n",
       "0   Information Security and Data Protection Analyst   \n",
       "1                                       Data Analyst   \n",
       "2  Bilingual Senior Data Analyst (Japanese / Engl...   \n",
       "3                    Sr. Data Analyst, Ad Operations   \n",
       "4                                       Data Analyst   \n",
       "\n",
       "               salary_estimate  midpoint_salary_estimate  \\\n",
       "0   $28K-$52K (Glassdoor est.)                     40000   \n",
       "1  $76K-$122K (Glassdoor est.)                     99000   \n",
       "2  $55K-$101K (Glassdoor est.)                     78000   \n",
       "3  $57K-$103K (Glassdoor est.)                     80000   \n",
       "4   $43K-$69K (Glassdoor est.)                     56000   \n",
       "\n",
       "                                     job_description  \\\n",
       "0  Amyx is seeking to hire an Information Securit...   \n",
       "1  Job Description\\nThe Customer Engineering Oper...   \n",
       "2  Nintendo of America Inc.\\n\\nThe worldwide pion...   \n",
       "3  System1 is looking for a driven data analyst w...   \n",
       "4  Job Title: Data Analyst (1)\\n\\nPosition Type: ...   \n",
       "\n",
       "                                company_name       location  \\\n",
       "0                            Amyx, Inc.\\n4.0   Columbus, OH   \n",
       "1                              ProMedia\\n4.4  San Diego, CA   \n",
       "2                              Nintendo\\n4.0    Redmond, WA   \n",
       "3                               System1\\n3.8     Venice, CA   \n",
       "4  Bluemont Technology & Research, Inc.\\n1.0    Norfolk, VA   \n",
       "\n",
       "                      size  type_of_ownership                 industry  \\\n",
       "0    501 to 1000 employees  Company - Private              IT Services   \n",
       "1        1 to 50 employees  Company - Private  Advertising & Marketing   \n",
       "2  5001 to 10000 employees   Company - Public              Video Games   \n",
       "3     201 to 500 employees  Company - Private                 Internet   \n",
       "4        1 to 50 employees  Company - Private                       -1   \n",
       "\n",
       "  year_experience  \n",
       "0               5  \n",
       "1              NA  \n",
       "2               3  \n",
       "3               3  \n",
       "4               5  "
      ]
     },
     "execution_count": 19,
     "metadata": {},
     "output_type": "execute_result"
    }
   ],
   "source": [
    "# Apply the vectorized function to the full dataset\n",
    "jobs_data[\"year_experience\"] = yrs_exp_vec(jobs_data[\"job_description\"])\n",
    "jobs_data.head()"
   ]
  },
  {
   "cell_type": "code",
   "execution_count": 20,
   "id": "398153c2-5d46-4e2a-8614-2d2cb0ae2455",
   "metadata": {
    "vscode": {
     "languageId": "quarto"
    }
   },
   "outputs": [
    {
     "data": {
      "text/html": [
       "<div>\n",
       "<style scoped>\n",
       "    .dataframe tbody tr th:only-of-type {\n",
       "        vertical-align: middle;\n",
       "    }\n",
       "\n",
       "    .dataframe tbody tr th {\n",
       "        vertical-align: top;\n",
       "    }\n",
       "\n",
       "    .dataframe thead th {\n",
       "        text-align: right;\n",
       "    }\n",
       "</style>\n",
       "<table border=\"1\" class=\"dataframe\">\n",
       "  <thead>\n",
       "    <tr style=\"text-align: right;\">\n",
       "      <th></th>\n",
       "      <th>job_title</th>\n",
       "      <th>salary_estimate</th>\n",
       "      <th>midpoint_salary_estimate</th>\n",
       "      <th>job_description</th>\n",
       "      <th>company_name</th>\n",
       "      <th>location</th>\n",
       "      <th>size</th>\n",
       "      <th>type_of_ownership</th>\n",
       "      <th>industry</th>\n",
       "      <th>year_experience</th>\n",
       "      <th>years_required</th>\n",
       "    </tr>\n",
       "  </thead>\n",
       "  <tbody>\n",
       "    <tr>\n",
       "      <th>0</th>\n",
       "      <td>Information Security and Data Protection Analyst</td>\n",
       "      <td>$28K-$52K (Glassdoor est.)</td>\n",
       "      <td>40000</td>\n",
       "      <td>Amyx is seeking to hire an Information Securit...</td>\n",
       "      <td>Amyx, Inc.\\n4.0</td>\n",
       "      <td>Columbus, OH</td>\n",
       "      <td>501 to 1000 employees</td>\n",
       "      <td>Company - Private</td>\n",
       "      <td>IT Services</td>\n",
       "      <td>5</td>\n",
       "      <td>5</td>\n",
       "    </tr>\n",
       "    <tr>\n",
       "      <th>1</th>\n",
       "      <td>Data Analyst</td>\n",
       "      <td>$76K-$122K (Glassdoor est.)</td>\n",
       "      <td>99000</td>\n",
       "      <td>Job Description\\nThe Customer Engineering Oper...</td>\n",
       "      <td>ProMedia\\n4.4</td>\n",
       "      <td>San Diego, CA</td>\n",
       "      <td>1 to 50 employees</td>\n",
       "      <td>Company - Private</td>\n",
       "      <td>Advertising &amp; Marketing</td>\n",
       "      <td>NA</td>\n",
       "      <td>NA</td>\n",
       "    </tr>\n",
       "    <tr>\n",
       "      <th>2</th>\n",
       "      <td>Bilingual Senior Data Analyst (Japanese / Engl...</td>\n",
       "      <td>$55K-$101K (Glassdoor est.)</td>\n",
       "      <td>78000</td>\n",
       "      <td>Nintendo of America Inc.\\n\\nThe worldwide pion...</td>\n",
       "      <td>Nintendo\\n4.0</td>\n",
       "      <td>Redmond, WA</td>\n",
       "      <td>5001 to 10000 employees</td>\n",
       "      <td>Company - Public</td>\n",
       "      <td>Video Games</td>\n",
       "      <td>3</td>\n",
       "      <td>3</td>\n",
       "    </tr>\n",
       "    <tr>\n",
       "      <th>3</th>\n",
       "      <td>Sr. Data Analyst, Ad Operations</td>\n",
       "      <td>$57K-$103K (Glassdoor est.)</td>\n",
       "      <td>80000</td>\n",
       "      <td>System1 is looking for a driven data analyst w...</td>\n",
       "      <td>System1\\n3.8</td>\n",
       "      <td>Venice, CA</td>\n",
       "      <td>201 to 500 employees</td>\n",
       "      <td>Company - Private</td>\n",
       "      <td>Internet</td>\n",
       "      <td>3</td>\n",
       "      <td>3</td>\n",
       "    </tr>\n",
       "    <tr>\n",
       "      <th>4</th>\n",
       "      <td>Data Analyst</td>\n",
       "      <td>$43K-$69K (Glassdoor est.)</td>\n",
       "      <td>56000</td>\n",
       "      <td>Job Title: Data Analyst (1)\\n\\nPosition Type: ...</td>\n",
       "      <td>Bluemont Technology &amp; Research, Inc.\\n1.0</td>\n",
       "      <td>Norfolk, VA</td>\n",
       "      <td>1 to 50 employees</td>\n",
       "      <td>Company - Private</td>\n",
       "      <td>-1</td>\n",
       "      <td>5</td>\n",
       "      <td>5</td>\n",
       "    </tr>\n",
       "  </tbody>\n",
       "</table>\n",
       "</div>"
      ],
      "text/plain": [
       "                                           job_title  \\\n",
       "0   Information Security and Data Protection Analyst   \n",
       "1                                       Data Analyst   \n",
       "2  Bilingual Senior Data Analyst (Japanese / Engl...   \n",
       "3                    Sr. Data Analyst, Ad Operations   \n",
       "4                                       Data Analyst   \n",
       "\n",
       "               salary_estimate  midpoint_salary_estimate  \\\n",
       "0   $28K-$52K (Glassdoor est.)                     40000   \n",
       "1  $76K-$122K (Glassdoor est.)                     99000   \n",
       "2  $55K-$101K (Glassdoor est.)                     78000   \n",
       "3  $57K-$103K (Glassdoor est.)                     80000   \n",
       "4   $43K-$69K (Glassdoor est.)                     56000   \n",
       "\n",
       "                                     job_description  \\\n",
       "0  Amyx is seeking to hire an Information Securit...   \n",
       "1  Job Description\\nThe Customer Engineering Oper...   \n",
       "2  Nintendo of America Inc.\\n\\nThe worldwide pion...   \n",
       "3  System1 is looking for a driven data analyst w...   \n",
       "4  Job Title: Data Analyst (1)\\n\\nPosition Type: ...   \n",
       "\n",
       "                                company_name       location  \\\n",
       "0                            Amyx, Inc.\\n4.0   Columbus, OH   \n",
       "1                              ProMedia\\n4.4  San Diego, CA   \n",
       "2                              Nintendo\\n4.0    Redmond, WA   \n",
       "3                               System1\\n3.8     Venice, CA   \n",
       "4  Bluemont Technology & Research, Inc.\\n1.0    Norfolk, VA   \n",
       "\n",
       "                      size  type_of_ownership                 industry  \\\n",
       "0    501 to 1000 employees  Company - Private              IT Services   \n",
       "1        1 to 50 employees  Company - Private  Advertising & Marketing   \n",
       "2  5001 to 10000 employees   Company - Public              Video Games   \n",
       "3     201 to 500 employees  Company - Private                 Internet   \n",
       "4        1 to 50 employees  Company - Private                       -1   \n",
       "\n",
       "  year_experience years_required  \n",
       "0               5              5  \n",
       "1              NA             NA  \n",
       "2               3              3  \n",
       "3               3              3  \n",
       "4               5              5  "
      ]
     },
     "execution_count": 20,
     "metadata": {},
     "output_type": "execute_result"
    }
   ],
   "source": [
    "# Apply the vectorized function to the full dataset\n",
    "jobs_data[\"years_required\"] = yrs_exp_vec(jobs_data[\"job_description\"])\n",
    "jobs_data.head()"
   ]
  },
  {
   "cell_type": "code",
   "execution_count": 21,
   "id": "43983140-a0ea-4b57-8515-ec2eb1a80e58",
   "metadata": {
    "vscode": {
     "languageId": "quarto"
    }
   },
   "outputs": [
    {
     "data": {
      "application/vnd.plotly.v1+json": {
       "config": {
        "plotlyServerURL": "https://plot.ly"
       },
       "data": [
        {
         "hovertemplate": "Years of Experience=%{x}<br>Salary estimate=%{y}<extra></extra>",
         "legendgroup": "",
         "marker": {
          "color": "#636efa",
          "symbol": "circle"
         },
         "mode": "markers",
         "name": "",
         "orientation": "v",
         "showlegend": false,
         "type": "scatter",
         "x": [
          "5",
          "NA",
          "3",
          "3",
          "5",
          "4",
          "3",
          "2",
          "2",
          "NA",
          "3",
          "NA",
          "2",
          "2",
          "3",
          "NA",
          "3",
          "1",
          "12",
          "5",
          "3",
          "6",
          "NA",
          "1",
          "NA",
          "4",
          "1",
          "5",
          "1.5",
          "2",
          "5",
          "NA",
          "3",
          "5",
          "5",
          "5",
          "4",
          "2",
          "NA",
          "6",
          "1",
          "NA",
          "NA",
          "NA",
          "3",
          "3",
          "2",
          "8",
          "NA",
          "2",
          "8",
          "5",
          "1",
          "3",
          "NA",
          "1",
          "2",
          "2",
          "6",
          "2",
          "2",
          "5",
          "2",
          "10",
          "5",
          "NA",
          "2",
          "3",
          "4",
          "NA",
          "NA",
          "3"
         ],
         "xaxis": "x",
         "y": [
          40000,
          99000,
          78000,
          80000,
          56000,
          99000,
          68000,
          126000,
          72000,
          99000,
          72000,
          40000,
          85000,
          36000,
          138500,
          99000,
          47500,
          36500,
          72000,
          61500,
          68000,
          66500,
          56000,
          40000,
          63000,
          68000,
          59000,
          88500,
          85000,
          51000,
          41500,
          47500,
          113000,
          99000,
          62000,
          75500,
          150000,
          47500,
          120000,
          66500,
          53000,
          71500,
          104500,
          59500,
          80000,
          138500,
          59500,
          87000,
          54000,
          59000,
          72000,
          60500,
          66500,
          92000,
          60500,
          78500,
          77500,
          59500,
          70000,
          59000,
          69000,
          60000,
          42000,
          72000,
          74000,
          69000,
          61500,
          40000,
          63000,
          60500,
          69000,
          59500
         ],
         "yaxis": "y"
        }
       ],
       "layout": {
        "legend": {
         "tracegroupgap": 0
        },
        "margin": {
         "t": 60
        },
        "template": {
         "data": {
          "bar": [
           {
            "error_x": {
             "color": "#2a3f5f"
            },
            "error_y": {
             "color": "#2a3f5f"
            },
            "marker": {
             "line": {
              "color": "#E5ECF6",
              "width": 0.5
             },
             "pattern": {
              "fillmode": "overlay",
              "size": 10,
              "solidity": 0.2
             }
            },
            "type": "bar"
           }
          ],
          "barpolar": [
           {
            "marker": {
             "line": {
              "color": "#E5ECF6",
              "width": 0.5
             },
             "pattern": {
              "fillmode": "overlay",
              "size": 10,
              "solidity": 0.2
             }
            },
            "type": "barpolar"
           }
          ],
          "carpet": [
           {
            "aaxis": {
             "endlinecolor": "#2a3f5f",
             "gridcolor": "white",
             "linecolor": "white",
             "minorgridcolor": "white",
             "startlinecolor": "#2a3f5f"
            },
            "baxis": {
             "endlinecolor": "#2a3f5f",
             "gridcolor": "white",
             "linecolor": "white",
             "minorgridcolor": "white",
             "startlinecolor": "#2a3f5f"
            },
            "type": "carpet"
           }
          ],
          "choropleth": [
           {
            "colorbar": {
             "outlinewidth": 0,
             "ticks": ""
            },
            "type": "choropleth"
           }
          ],
          "contour": [
           {
            "colorbar": {
             "outlinewidth": 0,
             "ticks": ""
            },
            "colorscale": [
             [
              0,
              "#0d0887"
             ],
             [
              0.1111111111111111,
              "#46039f"
             ],
             [
              0.2222222222222222,
              "#7201a8"
             ],
             [
              0.3333333333333333,
              "#9c179e"
             ],
             [
              0.4444444444444444,
              "#bd3786"
             ],
             [
              0.5555555555555556,
              "#d8576b"
             ],
             [
              0.6666666666666666,
              "#ed7953"
             ],
             [
              0.7777777777777778,
              "#fb9f3a"
             ],
             [
              0.8888888888888888,
              "#fdca26"
             ],
             [
              1,
              "#f0f921"
             ]
            ],
            "type": "contour"
           }
          ],
          "contourcarpet": [
           {
            "colorbar": {
             "outlinewidth": 0,
             "ticks": ""
            },
            "type": "contourcarpet"
           }
          ],
          "heatmap": [
           {
            "colorbar": {
             "outlinewidth": 0,
             "ticks": ""
            },
            "colorscale": [
             [
              0,
              "#0d0887"
             ],
             [
              0.1111111111111111,
              "#46039f"
             ],
             [
              0.2222222222222222,
              "#7201a8"
             ],
             [
              0.3333333333333333,
              "#9c179e"
             ],
             [
              0.4444444444444444,
              "#bd3786"
             ],
             [
              0.5555555555555556,
              "#d8576b"
             ],
             [
              0.6666666666666666,
              "#ed7953"
             ],
             [
              0.7777777777777778,
              "#fb9f3a"
             ],
             [
              0.8888888888888888,
              "#fdca26"
             ],
             [
              1,
              "#f0f921"
             ]
            ],
            "type": "heatmap"
           }
          ],
          "heatmapgl": [
           {
            "colorbar": {
             "outlinewidth": 0,
             "ticks": ""
            },
            "colorscale": [
             [
              0,
              "#0d0887"
             ],
             [
              0.1111111111111111,
              "#46039f"
             ],
             [
              0.2222222222222222,
              "#7201a8"
             ],
             [
              0.3333333333333333,
              "#9c179e"
             ],
             [
              0.4444444444444444,
              "#bd3786"
             ],
             [
              0.5555555555555556,
              "#d8576b"
             ],
             [
              0.6666666666666666,
              "#ed7953"
             ],
             [
              0.7777777777777778,
              "#fb9f3a"
             ],
             [
              0.8888888888888888,
              "#fdca26"
             ],
             [
              1,
              "#f0f921"
             ]
            ],
            "type": "heatmapgl"
           }
          ],
          "histogram": [
           {
            "marker": {
             "pattern": {
              "fillmode": "overlay",
              "size": 10,
              "solidity": 0.2
             }
            },
            "type": "histogram"
           }
          ],
          "histogram2d": [
           {
            "colorbar": {
             "outlinewidth": 0,
             "ticks": ""
            },
            "colorscale": [
             [
              0,
              "#0d0887"
             ],
             [
              0.1111111111111111,
              "#46039f"
             ],
             [
              0.2222222222222222,
              "#7201a8"
             ],
             [
              0.3333333333333333,
              "#9c179e"
             ],
             [
              0.4444444444444444,
              "#bd3786"
             ],
             [
              0.5555555555555556,
              "#d8576b"
             ],
             [
              0.6666666666666666,
              "#ed7953"
             ],
             [
              0.7777777777777778,
              "#fb9f3a"
             ],
             [
              0.8888888888888888,
              "#fdca26"
             ],
             [
              1,
              "#f0f921"
             ]
            ],
            "type": "histogram2d"
           }
          ],
          "histogram2dcontour": [
           {
            "colorbar": {
             "outlinewidth": 0,
             "ticks": ""
            },
            "colorscale": [
             [
              0,
              "#0d0887"
             ],
             [
              0.1111111111111111,
              "#46039f"
             ],
             [
              0.2222222222222222,
              "#7201a8"
             ],
             [
              0.3333333333333333,
              "#9c179e"
             ],
             [
              0.4444444444444444,
              "#bd3786"
             ],
             [
              0.5555555555555556,
              "#d8576b"
             ],
             [
              0.6666666666666666,
              "#ed7953"
             ],
             [
              0.7777777777777778,
              "#fb9f3a"
             ],
             [
              0.8888888888888888,
              "#fdca26"
             ],
             [
              1,
              "#f0f921"
             ]
            ],
            "type": "histogram2dcontour"
           }
          ],
          "mesh3d": [
           {
            "colorbar": {
             "outlinewidth": 0,
             "ticks": ""
            },
            "type": "mesh3d"
           }
          ],
          "parcoords": [
           {
            "line": {
             "colorbar": {
              "outlinewidth": 0,
              "ticks": ""
             }
            },
            "type": "parcoords"
           }
          ],
          "pie": [
           {
            "automargin": true,
            "type": "pie"
           }
          ],
          "scatter": [
           {
            "fillpattern": {
             "fillmode": "overlay",
             "size": 10,
             "solidity": 0.2
            },
            "type": "scatter"
           }
          ],
          "scatter3d": [
           {
            "line": {
             "colorbar": {
              "outlinewidth": 0,
              "ticks": ""
             }
            },
            "marker": {
             "colorbar": {
              "outlinewidth": 0,
              "ticks": ""
             }
            },
            "type": "scatter3d"
           }
          ],
          "scattercarpet": [
           {
            "marker": {
             "colorbar": {
              "outlinewidth": 0,
              "ticks": ""
             }
            },
            "type": "scattercarpet"
           }
          ],
          "scattergeo": [
           {
            "marker": {
             "colorbar": {
              "outlinewidth": 0,
              "ticks": ""
             }
            },
            "type": "scattergeo"
           }
          ],
          "scattergl": [
           {
            "marker": {
             "colorbar": {
              "outlinewidth": 0,
              "ticks": ""
             }
            },
            "type": "scattergl"
           }
          ],
          "scattermapbox": [
           {
            "marker": {
             "colorbar": {
              "outlinewidth": 0,
              "ticks": ""
             }
            },
            "type": "scattermapbox"
           }
          ],
          "scatterpolar": [
           {
            "marker": {
             "colorbar": {
              "outlinewidth": 0,
              "ticks": ""
             }
            },
            "type": "scatterpolar"
           }
          ],
          "scatterpolargl": [
           {
            "marker": {
             "colorbar": {
              "outlinewidth": 0,
              "ticks": ""
             }
            },
            "type": "scatterpolargl"
           }
          ],
          "scatterternary": [
           {
            "marker": {
             "colorbar": {
              "outlinewidth": 0,
              "ticks": ""
             }
            },
            "type": "scatterternary"
           }
          ],
          "surface": [
           {
            "colorbar": {
             "outlinewidth": 0,
             "ticks": ""
            },
            "colorscale": [
             [
              0,
              "#0d0887"
             ],
             [
              0.1111111111111111,
              "#46039f"
             ],
             [
              0.2222222222222222,
              "#7201a8"
             ],
             [
              0.3333333333333333,
              "#9c179e"
             ],
             [
              0.4444444444444444,
              "#bd3786"
             ],
             [
              0.5555555555555556,
              "#d8576b"
             ],
             [
              0.6666666666666666,
              "#ed7953"
             ],
             [
              0.7777777777777778,
              "#fb9f3a"
             ],
             [
              0.8888888888888888,
              "#fdca26"
             ],
             [
              1,
              "#f0f921"
             ]
            ],
            "type": "surface"
           }
          ],
          "table": [
           {
            "cells": {
             "fill": {
              "color": "#EBF0F8"
             },
             "line": {
              "color": "white"
             }
            },
            "header": {
             "fill": {
              "color": "#C8D4E3"
             },
             "line": {
              "color": "white"
             }
            },
            "type": "table"
           }
          ]
         },
         "layout": {
          "annotationdefaults": {
           "arrowcolor": "#2a3f5f",
           "arrowhead": 0,
           "arrowwidth": 1
          },
          "autotypenumbers": "strict",
          "coloraxis": {
           "colorbar": {
            "outlinewidth": 0,
            "ticks": ""
           }
          },
          "colorscale": {
           "diverging": [
            [
             0,
             "#8e0152"
            ],
            [
             0.1,
             "#c51b7d"
            ],
            [
             0.2,
             "#de77ae"
            ],
            [
             0.3,
             "#f1b6da"
            ],
            [
             0.4,
             "#fde0ef"
            ],
            [
             0.5,
             "#f7f7f7"
            ],
            [
             0.6,
             "#e6f5d0"
            ],
            [
             0.7,
             "#b8e186"
            ],
            [
             0.8,
             "#7fbc41"
            ],
            [
             0.9,
             "#4d9221"
            ],
            [
             1,
             "#276419"
            ]
           ],
           "sequential": [
            [
             0,
             "#0d0887"
            ],
            [
             0.1111111111111111,
             "#46039f"
            ],
            [
             0.2222222222222222,
             "#7201a8"
            ],
            [
             0.3333333333333333,
             "#9c179e"
            ],
            [
             0.4444444444444444,
             "#bd3786"
            ],
            [
             0.5555555555555556,
             "#d8576b"
            ],
            [
             0.6666666666666666,
             "#ed7953"
            ],
            [
             0.7777777777777778,
             "#fb9f3a"
            ],
            [
             0.8888888888888888,
             "#fdca26"
            ],
            [
             1,
             "#f0f921"
            ]
           ],
           "sequentialminus": [
            [
             0,
             "#0d0887"
            ],
            [
             0.1111111111111111,
             "#46039f"
            ],
            [
             0.2222222222222222,
             "#7201a8"
            ],
            [
             0.3333333333333333,
             "#9c179e"
            ],
            [
             0.4444444444444444,
             "#bd3786"
            ],
            [
             0.5555555555555556,
             "#d8576b"
            ],
            [
             0.6666666666666666,
             "#ed7953"
            ],
            [
             0.7777777777777778,
             "#fb9f3a"
            ],
            [
             0.8888888888888888,
             "#fdca26"
            ],
            [
             1,
             "#f0f921"
            ]
           ]
          },
          "colorway": [
           "#636efa",
           "#EF553B",
           "#00cc96",
           "#ab63fa",
           "#FFA15A",
           "#19d3f3",
           "#FF6692",
           "#B6E880",
           "#FF97FF",
           "#FECB52"
          ],
          "font": {
           "color": "#2a3f5f"
          },
          "geo": {
           "bgcolor": "white",
           "lakecolor": "white",
           "landcolor": "#E5ECF6",
           "showlakes": true,
           "showland": true,
           "subunitcolor": "white"
          },
          "hoverlabel": {
           "align": "left"
          },
          "hovermode": "closest",
          "mapbox": {
           "style": "light"
          },
          "paper_bgcolor": "white",
          "plot_bgcolor": "#E5ECF6",
          "polar": {
           "angularaxis": {
            "gridcolor": "white",
            "linecolor": "white",
            "ticks": ""
           },
           "bgcolor": "#E5ECF6",
           "radialaxis": {
            "gridcolor": "white",
            "linecolor": "white",
            "ticks": ""
           }
          },
          "scene": {
           "xaxis": {
            "backgroundcolor": "#E5ECF6",
            "gridcolor": "white",
            "gridwidth": 2,
            "linecolor": "white",
            "showbackground": true,
            "ticks": "",
            "zerolinecolor": "white"
           },
           "yaxis": {
            "backgroundcolor": "#E5ECF6",
            "gridcolor": "white",
            "gridwidth": 2,
            "linecolor": "white",
            "showbackground": true,
            "ticks": "",
            "zerolinecolor": "white"
           },
           "zaxis": {
            "backgroundcolor": "#E5ECF6",
            "gridcolor": "white",
            "gridwidth": 2,
            "linecolor": "white",
            "showbackground": true,
            "ticks": "",
            "zerolinecolor": "white"
           }
          },
          "shapedefaults": {
           "line": {
            "color": "#2a3f5f"
           }
          },
          "ternary": {
           "aaxis": {
            "gridcolor": "white",
            "linecolor": "white",
            "ticks": ""
           },
           "baxis": {
            "gridcolor": "white",
            "linecolor": "white",
            "ticks": ""
           },
           "bgcolor": "#E5ECF6",
           "caxis": {
            "gridcolor": "white",
            "linecolor": "white",
            "ticks": ""
           }
          },
          "title": {
           "x": 0.05
          },
          "xaxis": {
           "automargin": true,
           "gridcolor": "white",
           "linecolor": "white",
           "ticks": "",
           "title": {
            "standoff": 15
           },
           "zerolinecolor": "white",
           "zerolinewidth": 2
          },
          "yaxis": {
           "automargin": true,
           "gridcolor": "white",
           "linecolor": "white",
           "ticks": "",
           "title": {
            "standoff": 15
           },
           "zerolinecolor": "white",
           "zerolinewidth": 2
          }
         }
        },
        "xaxis": {
         "anchor": "y",
         "domain": [
          0,
          1
         ],
         "title": {
          "text": "Years of Experience"
         }
        },
        "yaxis": {
         "anchor": "x",
         "domain": [
          0,
          1
         ],
         "title": {
          "text": "Salary estimate"
         }
        }
       }
      }
     },
     "metadata": {},
     "output_type": "display_data"
    }
   ],
   "source": [
    "# Create a scatter plot\n",
    "plot = px.scatter(jobs_data, x = \"year_experience\", y = \"midpoint_salary_estimate\",\n",
    "labels= {\"year_experience\" : \"Years of Experience\",\n",
    "\"midpoint_salary_estimate\": \"Salary estimate\"})\n",
    "plot.show()"
   ]
  },
  {
   "cell_type": "code",
   "execution_count": 22,
   "id": "0e7f9346-f78c-4c23-9a38-9b155ff72708",
   "metadata": {
    "vscode": {
     "languageId": "quarto"
    }
   },
   "outputs": [
    {
     "ename": "TypeError",
     "evalue": "arg must be a list, tuple, 1-d array, or Series",
     "output_type": "error",
     "traceback": [
      "\u001b[1;31m---------------------------------------------------------------------------\u001b[0m",
      "\u001b[1;31mTypeError\u001b[0m                                 Traceback (most recent call last)",
      "File \u001b[1;32mc:\\Users\\ester.nepolo.GFP-PMU\\Desktop\\Desktop 2024\\My Courses\\Python\\graph_courses_python\\week_07_workshop_instructions.qmd:4\u001b[0m\n\u001b[0;32m      1\u001b[0m \u001b[39m# Convert 'years_required' to numeric\u001b[39;00m\n\u001b[0;32m      2\u001b[0m \u001b[39m## First rename the variable\u001b[39;00m\n\u001b[0;32m      3\u001b[0m jobs_data \u001b[39m=\u001b[39m jobs_data\u001b[39m.\u001b[39mrename(columns \u001b[39m=\u001b[39m {\u001b[39m\"\u001b[39m\u001b[39myear_experience\u001b[39m\u001b[39m\"\u001b[39m: \u001b[39m\"\u001b[39m\u001b[39myears_required\u001b[39m\u001b[39m\"\u001b[39m})\n\u001b[1;32m----> 4\u001b[0m jobs_data[\u001b[39m\"\u001b[39m\u001b[39myears_required\u001b[39m\u001b[39m\"\u001b[39m] \u001b[39m=\u001b[39m pd\u001b[39m.\u001b[39;49mto_numeric(jobs_data[\u001b[39m\"\u001b[39;49m\u001b[39myears_required\u001b[39;49m\u001b[39m\"\u001b[39;49m], errors\u001b[39m=\u001b[39;49m\u001b[39m\"\u001b[39;49m\u001b[39mcoerce\u001b[39;49m\u001b[39m\"\u001b[39;49m)\n\u001b[0;32m      6\u001b[0m jobs_data\u001b[39m.\u001b[39minfo()\n",
      "File \u001b[1;32mc:\\Users\\ester.nepolo.GFP-PMU\\Desktop\\Desktop 2024\\My Courses\\Python\\graph_courses_python\\.venv\\Lib\\site-packages\\pandas\\core\\tools\\numeric.py:206\u001b[0m, in \u001b[0;36mto_numeric\u001b[1;34m(arg, errors, downcast, dtype_backend)\u001b[0m\n\u001b[0;32m    204\u001b[0m     values \u001b[39m=\u001b[39m np\u001b[39m.\u001b[39marray([arg], dtype\u001b[39m=\u001b[39m\u001b[39m\"\u001b[39m\u001b[39mO\u001b[39m\u001b[39m\"\u001b[39m)\n\u001b[0;32m    205\u001b[0m \u001b[39melif\u001b[39;00m \u001b[39mgetattr\u001b[39m(arg, \u001b[39m\"\u001b[39m\u001b[39mndim\u001b[39m\u001b[39m\"\u001b[39m, \u001b[39m1\u001b[39m) \u001b[39m>\u001b[39m \u001b[39m1\u001b[39m:\n\u001b[1;32m--> 206\u001b[0m     \u001b[39mraise\u001b[39;00m \u001b[39mTypeError\u001b[39;00m(\u001b[39m\"\u001b[39m\u001b[39marg must be a list, tuple, 1-d array, or Series\u001b[39m\u001b[39m\"\u001b[39m)\n\u001b[0;32m    207\u001b[0m \u001b[39melse\u001b[39;00m:\n\u001b[0;32m    208\u001b[0m     values \u001b[39m=\u001b[39m arg\n",
      "\u001b[1;31mTypeError\u001b[0m: arg must be a list, tuple, 1-d array, or Series"
     ]
    }
   ],
   "source": [
    "# Convert 'years_required' to numeric\n",
    "## First rename the variable\n",
    "jobs_data = jobs_data.rename(columns = {\"year_experience\": \"years_required\"})\n",
    "jobs_data[\"years_required\"] = pd.to_numeric(jobs_data[\"years_required\"], errors=\"coerce\")\n",
    "\n",
    "jobs_data.info()"
   ]
  },
  {
   "cell_type": "code",
   "execution_count": 23,
   "id": "437b4b6d-fd48-4930-8d4c-32676b786c6b",
   "metadata": {
    "vscode": {
     "languageId": "quarto"
    }
   },
   "outputs": [
    {
     "ename": "TypeError",
     "evalue": "arg must be a list, tuple, 1-d array, or Series",
     "output_type": "error",
     "traceback": [
      "\u001b[1;31m---------------------------------------------------------------------------\u001b[0m",
      "\u001b[1;31mTypeError\u001b[0m                                 Traceback (most recent call last)",
      "File \u001b[1;32mc:\\Users\\ester.nepolo.GFP-PMU\\Desktop\\Desktop 2024\\My Courses\\Python\\graph_courses_python\\week_07_workshop_instructions.qmd:4\u001b[0m\n\u001b[0;32m      1\u001b[0m \u001b[39m# Convert 'years_required' to numeric\u001b[39;00m\n\u001b[0;32m      2\u001b[0m \u001b[39m## First rename the variable\u001b[39;00m\n\u001b[0;32m      3\u001b[0m jobs_data \u001b[39m=\u001b[39m jobs_data\u001b[39m.\u001b[39mrename(columns \u001b[39m=\u001b[39m {\u001b[39m\"\u001b[39m\u001b[39myear_experience\u001b[39m\u001b[39m\"\u001b[39m: \u001b[39m\"\u001b[39m\u001b[39myears_required\u001b[39m\u001b[39m\"\u001b[39m})\n\u001b[1;32m----> 4\u001b[0m jobs_data[\u001b[39m\"\u001b[39m\u001b[39myears_required\u001b[39m\u001b[39m\"\u001b[39m] \u001b[39m=\u001b[39m pd\u001b[39m.\u001b[39;49mto_numeric(jobs_data[\u001b[39m\"\u001b[39;49m\u001b[39myears_required\u001b[39;49m\u001b[39m\"\u001b[39;49m], errors\u001b[39m=\u001b[39;49m\u001b[39m\"\u001b[39;49m\u001b[39mcoerce\u001b[39;49m\u001b[39m\"\u001b[39;49m)\n\u001b[0;32m      6\u001b[0m jobs_data\u001b[39m.\u001b[39minfo()\n",
      "File \u001b[1;32mc:\\Users\\ester.nepolo.GFP-PMU\\Desktop\\Desktop 2024\\My Courses\\Python\\graph_courses_python\\.venv\\Lib\\site-packages\\pandas\\core\\tools\\numeric.py:206\u001b[0m, in \u001b[0;36mto_numeric\u001b[1;34m(arg, errors, downcast, dtype_backend)\u001b[0m\n\u001b[0;32m    204\u001b[0m     values \u001b[39m=\u001b[39m np\u001b[39m.\u001b[39marray([arg], dtype\u001b[39m=\u001b[39m\u001b[39m\"\u001b[39m\u001b[39mO\u001b[39m\u001b[39m\"\u001b[39m)\n\u001b[0;32m    205\u001b[0m \u001b[39melif\u001b[39;00m \u001b[39mgetattr\u001b[39m(arg, \u001b[39m\"\u001b[39m\u001b[39mndim\u001b[39m\u001b[39m\"\u001b[39m, \u001b[39m1\u001b[39m) \u001b[39m>\u001b[39m \u001b[39m1\u001b[39m:\n\u001b[1;32m--> 206\u001b[0m     \u001b[39mraise\u001b[39;00m \u001b[39mTypeError\u001b[39;00m(\u001b[39m\"\u001b[39m\u001b[39marg must be a list, tuple, 1-d array, or Series\u001b[39m\u001b[39m\"\u001b[39m)\n\u001b[0;32m    207\u001b[0m \u001b[39melse\u001b[39;00m:\n\u001b[0;32m    208\u001b[0m     values \u001b[39m=\u001b[39m arg\n",
      "\u001b[1;31mTypeError\u001b[0m: arg must be a list, tuple, 1-d array, or Series"
     ]
    }
   ],
   "source": [
    "# Convert 'years_required' to numeric\n",
    "## First rename the variable\n",
    "jobs_data = jobs_data.rename(columns = {\"year_experience\": \"years_required\"})\n",
    "jobs_data[\"years_required\"] = pd.to_numeric(jobs_data[\"years_required\"], errors=\"coerce\")\n",
    "\n",
    "jobs_data.info()"
   ]
  },
  {
   "cell_type": "code",
   "execution_count": 24,
   "id": "7937e4e7-c2a8-4fb0-bd84-2cdedbe4b868",
   "metadata": {
    "vscode": {
     "languageId": "quarto"
    }
   },
   "outputs": [
    {
     "ename": "ValueError",
     "evalue": "Value of 'x' is not the name of a column in 'data_frame'. Expected one of ['job_title', 'salary_estimate', 'midpoint_salary_estimate', 'job_description', 'company_name', 'location', 'size', 'type_of_ownership', 'industry', 'years_required', 'years_required'] but received: year_experience",
     "output_type": "error",
     "traceback": [
      "\u001b[1;31m---------------------------------------------------------------------------\u001b[0m",
      "\u001b[1;31mValueError\u001b[0m                                Traceback (most recent call last)",
      "File \u001b[1;32mc:\\Users\\ester.nepolo.GFP-PMU\\Desktop\\Desktop 2024\\My Courses\\Python\\graph_courses_python\\week_07_workshop_instructions.qmd:2\u001b[0m\n\u001b[0;32m      1\u001b[0m \u001b[39m# Create a scatter plot\u001b[39;00m\n\u001b[1;32m----> 2\u001b[0m plot \u001b[39m=\u001b[39m px\u001b[39m.\u001b[39;49mscatter(jobs_data, x \u001b[39m=\u001b[39;49m \u001b[39m\"\u001b[39;49m\u001b[39myear_experience\u001b[39;49m\u001b[39m\"\u001b[39;49m, y \u001b[39m=\u001b[39;49m \u001b[39m\"\u001b[39;49m\u001b[39mmidpoint_salary_estimate\u001b[39;49m\u001b[39m\"\u001b[39;49m,\n\u001b[0;32m      3\u001b[0m labels\u001b[39m=\u001b[39;49m {\u001b[39m\"\u001b[39;49m\u001b[39myear_experience\u001b[39;49m\u001b[39m\"\u001b[39;49m : \u001b[39m\"\u001b[39;49m\u001b[39mYears of Experience\u001b[39;49m\u001b[39m\"\u001b[39;49m,\n\u001b[0;32m      4\u001b[0m \u001b[39m\"\u001b[39;49m\u001b[39mmidpoint_salary_estimate\u001b[39;49m\u001b[39m\"\u001b[39;49m: \u001b[39m\"\u001b[39;49m\u001b[39mSalary estimate\u001b[39;49m\u001b[39m\"\u001b[39;49m})\n\u001b[0;32m      5\u001b[0m plot\u001b[39m.\u001b[39mshow()\n",
      "File \u001b[1;32mc:\\Users\\ester.nepolo.GFP-PMU\\Desktop\\Desktop 2024\\My Courses\\Python\\graph_courses_python\\.venv\\Lib\\site-packages\\plotly\\express\\_chart_types.py:66\u001b[0m, in \u001b[0;36mscatter\u001b[1;34m(data_frame, x, y, color, symbol, size, hover_name, hover_data, custom_data, text, facet_row, facet_col, facet_col_wrap, facet_row_spacing, facet_col_spacing, error_x, error_x_minus, error_y, error_y_minus, animation_frame, animation_group, category_orders, labels, orientation, color_discrete_sequence, color_discrete_map, color_continuous_scale, range_color, color_continuous_midpoint, symbol_sequence, symbol_map, opacity, size_max, marginal_x, marginal_y, trendline, trendline_options, trendline_color_override, trendline_scope, log_x, log_y, range_x, range_y, render_mode, title, template, width, height)\u001b[0m\n\u001b[0;32m     12\u001b[0m \u001b[39mdef\u001b[39;00m \u001b[39mscatter\u001b[39m(\n\u001b[0;32m     13\u001b[0m     data_frame\u001b[39m=\u001b[39m\u001b[39mNone\u001b[39;00m,\n\u001b[0;32m     14\u001b[0m     x\u001b[39m=\u001b[39m\u001b[39mNone\u001b[39;00m,\n\u001b[1;32m   (...)\u001b[0m\n\u001b[0;32m     60\u001b[0m     height\u001b[39m=\u001b[39m\u001b[39mNone\u001b[39;00m,\n\u001b[0;32m     61\u001b[0m ) \u001b[39m-\u001b[39m\u001b[39m>\u001b[39m go\u001b[39m.\u001b[39mFigure:\n\u001b[0;32m     62\u001b[0m \u001b[39m    \u001b[39m\u001b[39m\"\"\"\u001b[39;00m\n\u001b[0;32m     63\u001b[0m \u001b[39m    In a scatter plot, each row of `data_frame` is represented by a symbol\u001b[39;00m\n\u001b[0;32m     64\u001b[0m \u001b[39m    mark in 2D space.\u001b[39;00m\n\u001b[0;32m     65\u001b[0m \u001b[39m    \"\"\"\u001b[39;00m\n\u001b[1;32m---> 66\u001b[0m     \u001b[39mreturn\u001b[39;00m make_figure(args\u001b[39m=\u001b[39;49m\u001b[39mlocals\u001b[39;49m(), constructor\u001b[39m=\u001b[39;49mgo\u001b[39m.\u001b[39;49mScatter)\n",
      "File \u001b[1;32mc:\\Users\\ester.nepolo.GFP-PMU\\Desktop\\Desktop 2024\\My Courses\\Python\\graph_courses_python\\.venv\\Lib\\site-packages\\plotly\\express\\_core.py:2117\u001b[0m, in \u001b[0;36mmake_figure\u001b[1;34m(args, constructor, trace_patch, layout_patch)\u001b[0m\n\u001b[0;32m   2114\u001b[0m layout_patch \u001b[39m=\u001b[39m layout_patch \u001b[39mor\u001b[39;00m {}\n\u001b[0;32m   2115\u001b[0m apply_default_cascade(args)\n\u001b[1;32m-> 2117\u001b[0m args \u001b[39m=\u001b[39m build_dataframe(args, constructor)\n\u001b[0;32m   2118\u001b[0m \u001b[39mif\u001b[39;00m constructor \u001b[39min\u001b[39;00m [go\u001b[39m.\u001b[39mTreemap, go\u001b[39m.\u001b[39mSunburst, go\u001b[39m.\u001b[39mIcicle] \u001b[39mand\u001b[39;00m args[\u001b[39m\"\u001b[39m\u001b[39mpath\u001b[39m\u001b[39m\"\u001b[39m] \u001b[39mis\u001b[39;00m \u001b[39mnot\u001b[39;00m \u001b[39mNone\u001b[39;00m:\n\u001b[0;32m   2119\u001b[0m     args \u001b[39m=\u001b[39m process_dataframe_hierarchy(args)\n",
      "File \u001b[1;32mc:\\Users\\ester.nepolo.GFP-PMU\\Desktop\\Desktop 2024\\My Courses\\Python\\graph_courses_python\\.venv\\Lib\\site-packages\\plotly\\express\\_core.py:1513\u001b[0m, in \u001b[0;36mbuild_dataframe\u001b[1;34m(args, constructor)\u001b[0m\n\u001b[0;32m   1510\u001b[0m     args[\u001b[39m\"\u001b[39m\u001b[39mcolor\u001b[39m\u001b[39m\"\u001b[39m] \u001b[39m=\u001b[39m \u001b[39mNone\u001b[39;00m\n\u001b[0;32m   1511\u001b[0m \u001b[39m# now that things have been prepped, we do the systematic rewriting of `args`\u001b[39;00m\n\u001b[1;32m-> 1513\u001b[0m df_output, wide_id_vars \u001b[39m=\u001b[39m process_args_into_dataframe(\n\u001b[0;32m   1514\u001b[0m     args, wide_mode, var_name, value_name\n\u001b[0;32m   1515\u001b[0m )\n\u001b[0;32m   1517\u001b[0m \u001b[39m# now that `df_output` exists and `args` contains only references, we complete\u001b[39;00m\n\u001b[0;32m   1518\u001b[0m \u001b[39m# the special-case and wide-mode handling by further rewriting args and/or mutating\u001b[39;00m\n\u001b[0;32m   1519\u001b[0m \u001b[39m# df_output\u001b[39;00m\n\u001b[0;32m   1521\u001b[0m count_name \u001b[39m=\u001b[39m _escape_col_name(df_output, \u001b[39m\"\u001b[39m\u001b[39mcount\u001b[39m\u001b[39m\"\u001b[39m, [var_name, value_name])\n",
      "File \u001b[1;32mc:\\Users\\ester.nepolo.GFP-PMU\\Desktop\\Desktop 2024\\My Courses\\Python\\graph_courses_python\\.venv\\Lib\\site-packages\\plotly\\express\\_core.py:1234\u001b[0m, in \u001b[0;36mprocess_args_into_dataframe\u001b[1;34m(args, wide_mode, var_name, value_name)\u001b[0m\n\u001b[0;32m   1232\u001b[0m         \u001b[39mif\u001b[39;00m argument \u001b[39m==\u001b[39m \u001b[39m\"\u001b[39m\u001b[39mindex\u001b[39m\u001b[39m\"\u001b[39m:\n\u001b[0;32m   1233\u001b[0m             err_msg \u001b[39m+\u001b[39m\u001b[39m=\u001b[39m \u001b[39m\"\u001b[39m\u001b[39m\\n\u001b[39;00m\u001b[39m To use the index, pass it in directly as `df.index`.\u001b[39m\u001b[39m\"\u001b[39m\n\u001b[1;32m-> 1234\u001b[0m         \u001b[39mraise\u001b[39;00m \u001b[39mValueError\u001b[39;00m(err_msg)\n\u001b[0;32m   1235\u001b[0m \u001b[39melif\u001b[39;00m length \u001b[39mand\u001b[39;00m \u001b[39mlen\u001b[39m(df_input[argument]) \u001b[39m!=\u001b[39m length:\n\u001b[0;32m   1236\u001b[0m     \u001b[39mraise\u001b[39;00m \u001b[39mValueError\u001b[39;00m(\n\u001b[0;32m   1237\u001b[0m         \u001b[39m\"\u001b[39m\u001b[39mAll arguments should have the same length. \u001b[39m\u001b[39m\"\u001b[39m\n\u001b[0;32m   1238\u001b[0m         \u001b[39m\"\u001b[39m\u001b[39mThe length of column argument `df[\u001b[39m\u001b[39m%s\u001b[39;00m\u001b[39m]` is \u001b[39m\u001b[39m%d\u001b[39;00m\u001b[39m, whereas the \u001b[39m\u001b[39m\"\u001b[39m\n\u001b[1;32m   (...)\u001b[0m\n\u001b[0;32m   1245\u001b[0m         )\n\u001b[0;32m   1246\u001b[0m     )\n",
      "\u001b[1;31mValueError\u001b[0m: Value of 'x' is not the name of a column in 'data_frame'. Expected one of ['job_title', 'salary_estimate', 'midpoint_salary_estimate', 'job_description', 'company_name', 'location', 'size', 'type_of_ownership', 'industry', 'years_required', 'years_required'] but received: year_experience"
     ]
    }
   ],
   "source": [
    "# Create a scatter plot\n",
    "plot = px.scatter(jobs_data, x = \"year_experience\", y = \"midpoint_salary_estimate\",\n",
    "labels= {\"year_experience\" : \"Years of Experience\",\n",
    "\"midpoint_salary_estimate\": \"Salary estimate\"})\n",
    "plot.show()"
   ]
  },
  {
   "cell_type": "code",
   "execution_count": 25,
   "id": "03baf934-0924-4a00-99ae-3800cafe30ea",
   "metadata": {
    "vscode": {
     "languageId": "quarto"
    }
   },
   "outputs": [
    {
     "data": {
      "text/html": [
       "<div>\n",
       "<style scoped>\n",
       "    .dataframe tbody tr th:only-of-type {\n",
       "        vertical-align: middle;\n",
       "    }\n",
       "\n",
       "    .dataframe tbody tr th {\n",
       "        vertical-align: top;\n",
       "    }\n",
       "\n",
       "    .dataframe thead th {\n",
       "        text-align: right;\n",
       "    }\n",
       "</style>\n",
       "<table border=\"1\" class=\"dataframe\">\n",
       "  <thead>\n",
       "    <tr style=\"text-align: right;\">\n",
       "      <th></th>\n",
       "      <th>job_title</th>\n",
       "      <th>salary_estimate</th>\n",
       "      <th>midpoint_salary_estimate</th>\n",
       "      <th>job_description</th>\n",
       "      <th>company_name</th>\n",
       "      <th>location</th>\n",
       "      <th>size</th>\n",
       "      <th>type_of_ownership</th>\n",
       "      <th>industry</th>\n",
       "      <th>years_required</th>\n",
       "      <th>years_required</th>\n",
       "    </tr>\n",
       "  </thead>\n",
       "  <tbody>\n",
       "    <tr>\n",
       "      <th>0</th>\n",
       "      <td>Information Security and Data Protection Analyst</td>\n",
       "      <td>$28K-$52K (Glassdoor est.)</td>\n",
       "      <td>40000</td>\n",
       "      <td>Amyx is seeking to hire an Information Securit...</td>\n",
       "      <td>Amyx, Inc.\\n4.0</td>\n",
       "      <td>Columbus, OH</td>\n",
       "      <td>501 to 1000 employees</td>\n",
       "      <td>Company - Private</td>\n",
       "      <td>IT Services</td>\n",
       "      <td>5</td>\n",
       "      <td>5</td>\n",
       "    </tr>\n",
       "    <tr>\n",
       "      <th>1</th>\n",
       "      <td>Data Analyst</td>\n",
       "      <td>$76K-$122K (Glassdoor est.)</td>\n",
       "      <td>99000</td>\n",
       "      <td>Job Description\\nThe Customer Engineering Oper...</td>\n",
       "      <td>ProMedia\\n4.4</td>\n",
       "      <td>San Diego, CA</td>\n",
       "      <td>1 to 50 employees</td>\n",
       "      <td>Company - Private</td>\n",
       "      <td>Advertising &amp; Marketing</td>\n",
       "      <td>NA</td>\n",
       "      <td>NA</td>\n",
       "    </tr>\n",
       "    <tr>\n",
       "      <th>2</th>\n",
       "      <td>Bilingual Senior Data Analyst (Japanese / Engl...</td>\n",
       "      <td>$55K-$101K (Glassdoor est.)</td>\n",
       "      <td>78000</td>\n",
       "      <td>Nintendo of America Inc.\\n\\nThe worldwide pion...</td>\n",
       "      <td>Nintendo\\n4.0</td>\n",
       "      <td>Redmond, WA</td>\n",
       "      <td>5001 to 10000 employees</td>\n",
       "      <td>Company - Public</td>\n",
       "      <td>Video Games</td>\n",
       "      <td>3</td>\n",
       "      <td>3</td>\n",
       "    </tr>\n",
       "    <tr>\n",
       "      <th>3</th>\n",
       "      <td>Sr. Data Analyst, Ad Operations</td>\n",
       "      <td>$57K-$103K (Glassdoor est.)</td>\n",
       "      <td>80000</td>\n",
       "      <td>System1 is looking for a driven data analyst w...</td>\n",
       "      <td>System1\\n3.8</td>\n",
       "      <td>Venice, CA</td>\n",
       "      <td>201 to 500 employees</td>\n",
       "      <td>Company - Private</td>\n",
       "      <td>Internet</td>\n",
       "      <td>3</td>\n",
       "      <td>3</td>\n",
       "    </tr>\n",
       "    <tr>\n",
       "      <th>4</th>\n",
       "      <td>Data Analyst</td>\n",
       "      <td>$43K-$69K (Glassdoor est.)</td>\n",
       "      <td>56000</td>\n",
       "      <td>Job Title: Data Analyst (1)\\n\\nPosition Type: ...</td>\n",
       "      <td>Bluemont Technology &amp; Research, Inc.\\n1.0</td>\n",
       "      <td>Norfolk, VA</td>\n",
       "      <td>1 to 50 employees</td>\n",
       "      <td>Company - Private</td>\n",
       "      <td>-1</td>\n",
       "      <td>5</td>\n",
       "      <td>5</td>\n",
       "    </tr>\n",
       "  </tbody>\n",
       "</table>\n",
       "</div>"
      ],
      "text/plain": [
       "                                           job_title  \\\n",
       "0   Information Security and Data Protection Analyst   \n",
       "1                                       Data Analyst   \n",
       "2  Bilingual Senior Data Analyst (Japanese / Engl...   \n",
       "3                    Sr. Data Analyst, Ad Operations   \n",
       "4                                       Data Analyst   \n",
       "\n",
       "               salary_estimate  midpoint_salary_estimate  \\\n",
       "0   $28K-$52K (Glassdoor est.)                     40000   \n",
       "1  $76K-$122K (Glassdoor est.)                     99000   \n",
       "2  $55K-$101K (Glassdoor est.)                     78000   \n",
       "3  $57K-$103K (Glassdoor est.)                     80000   \n",
       "4   $43K-$69K (Glassdoor est.)                     56000   \n",
       "\n",
       "                                     job_description  \\\n",
       "0  Amyx is seeking to hire an Information Securit...   \n",
       "1  Job Description\\nThe Customer Engineering Oper...   \n",
       "2  Nintendo of America Inc.\\n\\nThe worldwide pion...   \n",
       "3  System1 is looking for a driven data analyst w...   \n",
       "4  Job Title: Data Analyst (1)\\n\\nPosition Type: ...   \n",
       "\n",
       "                                company_name       location  \\\n",
       "0                            Amyx, Inc.\\n4.0   Columbus, OH   \n",
       "1                              ProMedia\\n4.4  San Diego, CA   \n",
       "2                              Nintendo\\n4.0    Redmond, WA   \n",
       "3                               System1\\n3.8     Venice, CA   \n",
       "4  Bluemont Technology & Research, Inc.\\n1.0    Norfolk, VA   \n",
       "\n",
       "                      size  type_of_ownership                 industry  \\\n",
       "0    501 to 1000 employees  Company - Private              IT Services   \n",
       "1        1 to 50 employees  Company - Private  Advertising & Marketing   \n",
       "2  5001 to 10000 employees   Company - Public              Video Games   \n",
       "3     201 to 500 employees  Company - Private                 Internet   \n",
       "4        1 to 50 employees  Company - Private                       -1   \n",
       "\n",
       "  years_required years_required  \n",
       "0              5              5  \n",
       "1             NA             NA  \n",
       "2              3              3  \n",
       "3              3              3  \n",
       "4              5              5  "
      ]
     },
     "execution_count": 25,
     "metadata": {},
     "output_type": "execute_result"
    }
   ],
   "source": [
    "# Apply the vectorized function to the full dataset\n",
    "jobs_data[\"years_required\"] = yrs_exp_vec(jobs_data[\"job_description\"])\n",
    "jobs_data.head()"
   ]
  },
  {
   "cell_type": "code",
   "execution_count": 26,
   "id": "dbf0aa3e-f618-4a51-b75f-85ca728ccdce",
   "metadata": {
    "vscode": {
     "languageId": "quarto"
    }
   },
   "outputs": [
    {
     "data": {
      "text/html": [
       "<div>\n",
       "<style scoped>\n",
       "    .dataframe tbody tr th:only-of-type {\n",
       "        vertical-align: middle;\n",
       "    }\n",
       "\n",
       "    .dataframe tbody tr th {\n",
       "        vertical-align: top;\n",
       "    }\n",
       "\n",
       "    .dataframe thead th {\n",
       "        text-align: right;\n",
       "    }\n",
       "</style>\n",
       "<table border=\"1\" class=\"dataframe\">\n",
       "  <thead>\n",
       "    <tr style=\"text-align: right;\">\n",
       "      <th></th>\n",
       "      <th>job_title</th>\n",
       "      <th>salary_estimate</th>\n",
       "      <th>midpoint_salary_estimate</th>\n",
       "      <th>job_description</th>\n",
       "      <th>company_name</th>\n",
       "      <th>location</th>\n",
       "      <th>size</th>\n",
       "      <th>type_of_ownership</th>\n",
       "      <th>industry</th>\n",
       "    </tr>\n",
       "  </thead>\n",
       "  <tbody>\n",
       "    <tr>\n",
       "      <th>0</th>\n",
       "      <td>Information Security and Data Protection Analyst</td>\n",
       "      <td>$28K-$52K (Glassdoor est.)</td>\n",
       "      <td>40000</td>\n",
       "      <td>Amyx is seeking to hire an Information Securit...</td>\n",
       "      <td>Amyx, Inc.\\n4.0</td>\n",
       "      <td>Columbus, OH</td>\n",
       "      <td>501 to 1000 employees</td>\n",
       "      <td>Company - Private</td>\n",
       "      <td>IT Services</td>\n",
       "    </tr>\n",
       "    <tr>\n",
       "      <th>1</th>\n",
       "      <td>Data Analyst</td>\n",
       "      <td>$76K-$122K (Glassdoor est.)</td>\n",
       "      <td>99000</td>\n",
       "      <td>Job Description\\nThe Customer Engineering Oper...</td>\n",
       "      <td>ProMedia\\n4.4</td>\n",
       "      <td>San Diego, CA</td>\n",
       "      <td>1 to 50 employees</td>\n",
       "      <td>Company - Private</td>\n",
       "      <td>Advertising &amp; Marketing</td>\n",
       "    </tr>\n",
       "    <tr>\n",
       "      <th>2</th>\n",
       "      <td>Bilingual Senior Data Analyst (Japanese / Engl...</td>\n",
       "      <td>$55K-$101K (Glassdoor est.)</td>\n",
       "      <td>78000</td>\n",
       "      <td>Nintendo of America Inc.\\n\\nThe worldwide pion...</td>\n",
       "      <td>Nintendo\\n4.0</td>\n",
       "      <td>Redmond, WA</td>\n",
       "      <td>5001 to 10000 employees</td>\n",
       "      <td>Company - Public</td>\n",
       "      <td>Video Games</td>\n",
       "    </tr>\n",
       "    <tr>\n",
       "      <th>3</th>\n",
       "      <td>Sr. Data Analyst, Ad Operations</td>\n",
       "      <td>$57K-$103K (Glassdoor est.)</td>\n",
       "      <td>80000</td>\n",
       "      <td>System1 is looking for a driven data analyst w...</td>\n",
       "      <td>System1\\n3.8</td>\n",
       "      <td>Venice, CA</td>\n",
       "      <td>201 to 500 employees</td>\n",
       "      <td>Company - Private</td>\n",
       "      <td>Internet</td>\n",
       "    </tr>\n",
       "    <tr>\n",
       "      <th>4</th>\n",
       "      <td>Data Analyst</td>\n",
       "      <td>$43K-$69K (Glassdoor est.)</td>\n",
       "      <td>56000</td>\n",
       "      <td>Job Title: Data Analyst (1)\\n\\nPosition Type: ...</td>\n",
       "      <td>Bluemont Technology &amp; Research, Inc.\\n1.0</td>\n",
       "      <td>Norfolk, VA</td>\n",
       "      <td>1 to 50 employees</td>\n",
       "      <td>Company - Private</td>\n",
       "      <td>-1</td>\n",
       "    </tr>\n",
       "    <tr>\n",
       "      <th>...</th>\n",
       "      <td>...</td>\n",
       "      <td>...</td>\n",
       "      <td>...</td>\n",
       "      <td>...</td>\n",
       "      <td>...</td>\n",
       "      <td>...</td>\n",
       "      <td>...</td>\n",
       "      <td>...</td>\n",
       "      <td>...</td>\n",
       "    </tr>\n",
       "    <tr>\n",
       "      <th>67</th>\n",
       "      <td>Sr. Business Analyst, Data Science and Analytics</td>\n",
       "      <td>$35K-$45K (Glassdoor est.)</td>\n",
       "      <td>40000</td>\n",
       "      <td>One by one, we are leading a movement to a fut...</td>\n",
       "      <td>Beautycounter\\n3.0</td>\n",
       "      <td>Santa Monica, CA</td>\n",
       "      <td>201 to 500 employees</td>\n",
       "      <td>Company - Private</td>\n",
       "      <td>Health, Beauty, &amp; Fitness</td>\n",
       "    </tr>\n",
       "    <tr>\n",
       "      <th>68</th>\n",
       "      <td>Healthcare Data Analyst - Remote</td>\n",
       "      <td>$60K-$66K (Glassdoor est.)</td>\n",
       "      <td>63000</td>\n",
       "      <td>Overview\\n\\nAbout Pulse8, Inc.\\n\\nPulse8 is an...</td>\n",
       "      <td>Allscripts\\n3.3</td>\n",
       "      <td>Chicago, IL</td>\n",
       "      <td>5001 to 10000 employees</td>\n",
       "      <td>Company - Public</td>\n",
       "      <td>Computer Hardware &amp; Software</td>\n",
       "    </tr>\n",
       "    <tr>\n",
       "      <th>69</th>\n",
       "      <td>Sr. Process Analyst - Data Privacy Project</td>\n",
       "      <td>$47K-$74K (Glassdoor est.)</td>\n",
       "      <td>60500</td>\n",
       "      <td>Our client is a global leader in software serv...</td>\n",
       "      <td>The Ascent Services Group\\n4.6</td>\n",
       "      <td>San Rafael, CA</td>\n",
       "      <td>1001 to 5000 employees</td>\n",
       "      <td>Company - Private</td>\n",
       "      <td>Staffing &amp; Outsourcing</td>\n",
       "    </tr>\n",
       "    <tr>\n",
       "      <th>70</th>\n",
       "      <td>Data Analyst</td>\n",
       "      <td>$51K-$87K (Glassdoor est.)</td>\n",
       "      <td>69000</td>\n",
       "      <td>The Fund for Public Health in New York City (F...</td>\n",
       "      <td>Fund for Public Health</td>\n",
       "      <td>Long Island City, NY</td>\n",
       "      <td>201 to 500 employees</td>\n",
       "      <td>Nonprofit Organization</td>\n",
       "      <td>Social Assistance</td>\n",
       "    </tr>\n",
       "    <tr>\n",
       "      <th>71</th>\n",
       "      <td>Data Analyst II, Division of Gastroenterology ...</td>\n",
       "      <td>$43K-$76K (Glassdoor est.)</td>\n",
       "      <td>59500</td>\n",
       "      <td>Strength Through\\nDiversity\\n\\nGround breaking...</td>\n",
       "      <td>Mount Sinai Health System</td>\n",
       "      <td>New York, NY</td>\n",
       "      <td>10000+ employees</td>\n",
       "      <td>Hospital</td>\n",
       "      <td>Health Care Services &amp; Hospitals</td>\n",
       "    </tr>\n",
       "  </tbody>\n",
       "</table>\n",
       "<p>72 rows × 9 columns</p>\n",
       "</div>"
      ],
      "text/plain": [
       "                                            job_title  \\\n",
       "0    Information Security and Data Protection Analyst   \n",
       "1                                        Data Analyst   \n",
       "2   Bilingual Senior Data Analyst (Japanese / Engl...   \n",
       "3                     Sr. Data Analyst, Ad Operations   \n",
       "4                                        Data Analyst   \n",
       "..                                                ...   \n",
       "67   Sr. Business Analyst, Data Science and Analytics   \n",
       "68                   Healthcare Data Analyst - Remote   \n",
       "69         Sr. Process Analyst - Data Privacy Project   \n",
       "70                                       Data Analyst   \n",
       "71  Data Analyst II, Division of Gastroenterology ...   \n",
       "\n",
       "                salary_estimate  midpoint_salary_estimate  \\\n",
       "0    $28K-$52K (Glassdoor est.)                     40000   \n",
       "1   $76K-$122K (Glassdoor est.)                     99000   \n",
       "2   $55K-$101K (Glassdoor est.)                     78000   \n",
       "3   $57K-$103K (Glassdoor est.)                     80000   \n",
       "4    $43K-$69K (Glassdoor est.)                     56000   \n",
       "..                          ...                       ...   \n",
       "67   $35K-$45K (Glassdoor est.)                     40000   \n",
       "68   $60K-$66K (Glassdoor est.)                     63000   \n",
       "69   $47K-$74K (Glassdoor est.)                     60500   \n",
       "70   $51K-$87K (Glassdoor est.)                     69000   \n",
       "71   $43K-$76K (Glassdoor est.)                     59500   \n",
       "\n",
       "                                      job_description  \\\n",
       "0   Amyx is seeking to hire an Information Securit...   \n",
       "1   Job Description\\nThe Customer Engineering Oper...   \n",
       "2   Nintendo of America Inc.\\n\\nThe worldwide pion...   \n",
       "3   System1 is looking for a driven data analyst w...   \n",
       "4   Job Title: Data Analyst (1)\\n\\nPosition Type: ...   \n",
       "..                                                ...   \n",
       "67  One by one, we are leading a movement to a fut...   \n",
       "68  Overview\\n\\nAbout Pulse8, Inc.\\n\\nPulse8 is an...   \n",
       "69  Our client is a global leader in software serv...   \n",
       "70  The Fund for Public Health in New York City (F...   \n",
       "71  Strength Through\\nDiversity\\n\\nGround breaking...   \n",
       "\n",
       "                                 company_name              location  \\\n",
       "0                             Amyx, Inc.\\n4.0          Columbus, OH   \n",
       "1                               ProMedia\\n4.4         San Diego, CA   \n",
       "2                               Nintendo\\n4.0           Redmond, WA   \n",
       "3                                System1\\n3.8            Venice, CA   \n",
       "4   Bluemont Technology & Research, Inc.\\n1.0           Norfolk, VA   \n",
       "..                                        ...                   ...   \n",
       "67                         Beautycounter\\n3.0      Santa Monica, CA   \n",
       "68                            Allscripts\\n3.3           Chicago, IL   \n",
       "69             The Ascent Services Group\\n4.6        San Rafael, CA   \n",
       "70                     Fund for Public Health  Long Island City, NY   \n",
       "71                  Mount Sinai Health System          New York, NY   \n",
       "\n",
       "                       size       type_of_ownership  \\\n",
       "0     501 to 1000 employees       Company - Private   \n",
       "1         1 to 50 employees       Company - Private   \n",
       "2   5001 to 10000 employees        Company - Public   \n",
       "3      201 to 500 employees       Company - Private   \n",
       "4         1 to 50 employees       Company - Private   \n",
       "..                      ...                     ...   \n",
       "67     201 to 500 employees       Company - Private   \n",
       "68  5001 to 10000 employees        Company - Public   \n",
       "69   1001 to 5000 employees       Company - Private   \n",
       "70     201 to 500 employees  Nonprofit Organization   \n",
       "71         10000+ employees                Hospital   \n",
       "\n",
       "                            industry  \n",
       "0                        IT Services  \n",
       "1            Advertising & Marketing  \n",
       "2                        Video Games  \n",
       "3                           Internet  \n",
       "4                                 -1  \n",
       "..                               ...  \n",
       "67         Health, Beauty, & Fitness  \n",
       "68      Computer Hardware & Software  \n",
       "69            Staffing & Outsourcing  \n",
       "70                 Social Assistance  \n",
       "71  Health Care Services & Hospitals  \n",
       "\n",
       "[72 rows x 9 columns]"
      ]
     },
     "execution_count": 26,
     "metadata": {},
     "output_type": "execute_result"
    }
   ],
   "source": [
    "# Load the data into a pandas DataFrame\n",
    "jobs_data = pd.read_csv(\"data/glassdoor_jobs_sample.csv\")\n",
    "jobs_data"
   ]
  },
  {
   "cell_type": "code",
   "execution_count": 27,
   "id": "726e2ab8-45bb-4612-80af-ca82660a9921",
   "metadata": {
    "vscode": {
     "languageId": "quarto"
    }
   },
   "outputs": [
    {
     "data": {
      "text/html": [
       "<div>\n",
       "<style scoped>\n",
       "    .dataframe tbody tr th:only-of-type {\n",
       "        vertical-align: middle;\n",
       "    }\n",
       "\n",
       "    .dataframe tbody tr th {\n",
       "        vertical-align: top;\n",
       "    }\n",
       "\n",
       "    .dataframe thead th {\n",
       "        text-align: right;\n",
       "    }\n",
       "</style>\n",
       "<table border=\"1\" class=\"dataframe\">\n",
       "  <thead>\n",
       "    <tr style=\"text-align: right;\">\n",
       "      <th></th>\n",
       "      <th>job_description</th>\n",
       "      <th>years_required</th>\n",
       "    </tr>\n",
       "  </thead>\n",
       "  <tbody>\n",
       "    <tr>\n",
       "      <th>0</th>\n",
       "      <td>Amyx is seeking to hire an Information Securit...</td>\n",
       "      <td>5</td>\n",
       "    </tr>\n",
       "    <tr>\n",
       "      <th>1</th>\n",
       "      <td>Job Description\\nThe Customer Engineering Oper...</td>\n",
       "      <td>NA</td>\n",
       "    </tr>\n",
       "    <tr>\n",
       "      <th>2</th>\n",
       "      <td>Nintendo of America Inc.\\n\\nThe worldwide pion...</td>\n",
       "      <td>5</td>\n",
       "    </tr>\n",
       "    <tr>\n",
       "      <th>3</th>\n",
       "      <td>System1 is looking for a driven data analyst w...</td>\n",
       "      <td>3</td>\n",
       "    </tr>\n",
       "    <tr>\n",
       "      <th>4</th>\n",
       "      <td>Job Title: Data Analyst (1)\\n\\nPosition Type: ...</td>\n",
       "      <td>5</td>\n",
       "    </tr>\n",
       "  </tbody>\n",
       "</table>\n",
       "</div>"
      ],
      "text/plain": [
       "                                     job_description years_required\n",
       "0  Amyx is seeking to hire an Information Securit...              5\n",
       "1  Job Description\\nThe Customer Engineering Oper...             NA\n",
       "2  Nintendo of America Inc.\\n\\nThe worldwide pion...              5\n",
       "3  System1 is looking for a driven data analyst w...              3\n",
       "4  Job Title: Data Analyst (1)\\n\\nPosition Type: ...              5"
      ]
     },
     "execution_count": 27,
     "metadata": {},
     "output_type": "execute_result"
    }
   ],
   "source": [
    "def yrs_exp(description):\n",
    "    prompt = f\"\"\"\n",
    "    Extract the minimum years of experience required from this job description. \n",
    "    Return ONLY a number. If a range is given, return the lower number.\n",
    "    If no years of experience are explicitly mentioned, return 'NA'.\n",
    "    Here's the job description:\n",
    "    {description}\n",
    "    \"\"\"\n",
    "    return llm_chat(prompt)\n",
    "\n",
    "# Vectorize the function and test it on the first few rows\n",
    "yrs_exp_vec = np.vectorize(yrs_exp)\n",
    "years_of_exp[\"years_required\"] = yrs_exp_vec(years_of_exp[\"job_description\"])\n",
    "years_of_exp.head()"
   ]
  },
  {
   "cell_type": "code",
   "execution_count": 28,
   "id": "e9a781ea-a07e-45e6-ae05-016cb5eeef50",
   "metadata": {
    "vscode": {
     "languageId": "quarto"
    }
   },
   "outputs": [
    {
     "data": {
      "text/html": [
       "<div>\n",
       "<style scoped>\n",
       "    .dataframe tbody tr th:only-of-type {\n",
       "        vertical-align: middle;\n",
       "    }\n",
       "\n",
       "    .dataframe tbody tr th {\n",
       "        vertical-align: top;\n",
       "    }\n",
       "\n",
       "    .dataframe thead th {\n",
       "        text-align: right;\n",
       "    }\n",
       "</style>\n",
       "<table border=\"1\" class=\"dataframe\">\n",
       "  <thead>\n",
       "    <tr style=\"text-align: right;\">\n",
       "      <th></th>\n",
       "      <th>job_title</th>\n",
       "      <th>salary_estimate</th>\n",
       "      <th>midpoint_salary_estimate</th>\n",
       "      <th>job_description</th>\n",
       "      <th>company_name</th>\n",
       "      <th>location</th>\n",
       "      <th>size</th>\n",
       "      <th>type_of_ownership</th>\n",
       "      <th>industry</th>\n",
       "      <th>years_required</th>\n",
       "    </tr>\n",
       "  </thead>\n",
       "  <tbody>\n",
       "    <tr>\n",
       "      <th>0</th>\n",
       "      <td>Information Security and Data Protection Analyst</td>\n",
       "      <td>$28K-$52K (Glassdoor est.)</td>\n",
       "      <td>40000</td>\n",
       "      <td>Amyx is seeking to hire an Information Securit...</td>\n",
       "      <td>Amyx, Inc.\\n4.0</td>\n",
       "      <td>Columbus, OH</td>\n",
       "      <td>501 to 1000 employees</td>\n",
       "      <td>Company - Private</td>\n",
       "      <td>IT Services</td>\n",
       "      <td>5</td>\n",
       "    </tr>\n",
       "    <tr>\n",
       "      <th>1</th>\n",
       "      <td>Data Analyst</td>\n",
       "      <td>$76K-$122K (Glassdoor est.)</td>\n",
       "      <td>99000</td>\n",
       "      <td>Job Description\\nThe Customer Engineering Oper...</td>\n",
       "      <td>ProMedia\\n4.4</td>\n",
       "      <td>San Diego, CA</td>\n",
       "      <td>1 to 50 employees</td>\n",
       "      <td>Company - Private</td>\n",
       "      <td>Advertising &amp; Marketing</td>\n",
       "      <td>NA</td>\n",
       "    </tr>\n",
       "    <tr>\n",
       "      <th>2</th>\n",
       "      <td>Bilingual Senior Data Analyst (Japanese / Engl...</td>\n",
       "      <td>$55K-$101K (Glassdoor est.)</td>\n",
       "      <td>78000</td>\n",
       "      <td>Nintendo of America Inc.\\n\\nThe worldwide pion...</td>\n",
       "      <td>Nintendo\\n4.0</td>\n",
       "      <td>Redmond, WA</td>\n",
       "      <td>5001 to 10000 employees</td>\n",
       "      <td>Company - Public</td>\n",
       "      <td>Video Games</td>\n",
       "      <td>5</td>\n",
       "    </tr>\n",
       "    <tr>\n",
       "      <th>3</th>\n",
       "      <td>Sr. Data Analyst, Ad Operations</td>\n",
       "      <td>$57K-$103K (Glassdoor est.)</td>\n",
       "      <td>80000</td>\n",
       "      <td>System1 is looking for a driven data analyst w...</td>\n",
       "      <td>System1\\n3.8</td>\n",
       "      <td>Venice, CA</td>\n",
       "      <td>201 to 500 employees</td>\n",
       "      <td>Company - Private</td>\n",
       "      <td>Internet</td>\n",
       "      <td>3</td>\n",
       "    </tr>\n",
       "    <tr>\n",
       "      <th>4</th>\n",
       "      <td>Data Analyst</td>\n",
       "      <td>$43K-$69K (Glassdoor est.)</td>\n",
       "      <td>56000</td>\n",
       "      <td>Job Title: Data Analyst (1)\\n\\nPosition Type: ...</td>\n",
       "      <td>Bluemont Technology &amp; Research, Inc.\\n1.0</td>\n",
       "      <td>Norfolk, VA</td>\n",
       "      <td>1 to 50 employees</td>\n",
       "      <td>Company - Private</td>\n",
       "      <td>-1</td>\n",
       "      <td>5</td>\n",
       "    </tr>\n",
       "  </tbody>\n",
       "</table>\n",
       "</div>"
      ],
      "text/plain": [
       "                                           job_title  \\\n",
       "0   Information Security and Data Protection Analyst   \n",
       "1                                       Data Analyst   \n",
       "2  Bilingual Senior Data Analyst (Japanese / Engl...   \n",
       "3                    Sr. Data Analyst, Ad Operations   \n",
       "4                                       Data Analyst   \n",
       "\n",
       "               salary_estimate  midpoint_salary_estimate  \\\n",
       "0   $28K-$52K (Glassdoor est.)                     40000   \n",
       "1  $76K-$122K (Glassdoor est.)                     99000   \n",
       "2  $55K-$101K (Glassdoor est.)                     78000   \n",
       "3  $57K-$103K (Glassdoor est.)                     80000   \n",
       "4   $43K-$69K (Glassdoor est.)                     56000   \n",
       "\n",
       "                                     job_description  \\\n",
       "0  Amyx is seeking to hire an Information Securit...   \n",
       "1  Job Description\\nThe Customer Engineering Oper...   \n",
       "2  Nintendo of America Inc.\\n\\nThe worldwide pion...   \n",
       "3  System1 is looking for a driven data analyst w...   \n",
       "4  Job Title: Data Analyst (1)\\n\\nPosition Type: ...   \n",
       "\n",
       "                                company_name       location  \\\n",
       "0                            Amyx, Inc.\\n4.0   Columbus, OH   \n",
       "1                              ProMedia\\n4.4  San Diego, CA   \n",
       "2                              Nintendo\\n4.0    Redmond, WA   \n",
       "3                               System1\\n3.8     Venice, CA   \n",
       "4  Bluemont Technology & Research, Inc.\\n1.0    Norfolk, VA   \n",
       "\n",
       "                      size  type_of_ownership                 industry  \\\n",
       "0    501 to 1000 employees  Company - Private              IT Services   \n",
       "1        1 to 50 employees  Company - Private  Advertising & Marketing   \n",
       "2  5001 to 10000 employees   Company - Public              Video Games   \n",
       "3     201 to 500 employees  Company - Private                 Internet   \n",
       "4        1 to 50 employees  Company - Private                       -1   \n",
       "\n",
       "  years_required  \n",
       "0              5  \n",
       "1             NA  \n",
       "2              5  \n",
       "3              3  \n",
       "4              5  "
      ]
     },
     "execution_count": 28,
     "metadata": {},
     "output_type": "execute_result"
    }
   ],
   "source": [
    "# Apply the vectorized function to the full dataset\n",
    "jobs_data[\"years_required\"] = yrs_exp_vec(jobs_data[\"job_description\"])\n",
    "jobs_data.head()"
   ]
  },
  {
   "cell_type": "code",
   "execution_count": 29,
   "id": "435821f7-ea53-4432-be64-b73ce6cc88ae",
   "metadata": {
    "vscode": {
     "languageId": "quarto"
    }
   },
   "outputs": [
    {
     "name": "stdout",
     "output_type": "stream",
     "text": [
      "<class 'pandas.core.frame.DataFrame'>\n",
      "RangeIndex: 72 entries, 0 to 71\n",
      "Data columns (total 10 columns):\n",
      " #   Column                    Non-Null Count  Dtype  \n",
      "---  ------                    --------------  -----  \n",
      " 0   job_title                 72 non-null     object \n",
      " 1   salary_estimate           72 non-null     object \n",
      " 2   midpoint_salary_estimate  72 non-null     int64  \n",
      " 3   job_description           72 non-null     object \n",
      " 4   company_name              72 non-null     object \n",
      " 5   location                  72 non-null     object \n",
      " 6   size                      72 non-null     object \n",
      " 7   type_of_ownership         72 non-null     object \n",
      " 8   industry                  72 non-null     object \n",
      " 9   years_required            56 non-null     float64\n",
      "dtypes: float64(1), int64(1), object(8)\n",
      "memory usage: 5.8+ KB\n"
     ]
    }
   ],
   "source": [
    "# Convert 'years_required' to numeric\n",
    "## First rename the variable\n",
    "jobs_data = jobs_data.rename(columns = {\"year_experience\": \"years_required\"})\n",
    "jobs_data[\"years_required\"] = pd.to_numeric(jobs_data[\"years_required\"], errors=\"coerce\")\n",
    "\n",
    "jobs_data.info()"
   ]
  },
  {
   "cell_type": "code",
   "execution_count": 30,
   "id": "0c951fc8-49bf-4034-8d95-994aaf5ece77",
   "metadata": {
    "vscode": {
     "languageId": "quarto"
    }
   },
   "outputs": [
    {
     "ename": "ValueError",
     "evalue": "Value of 'x' is not the name of a column in 'data_frame'. Expected one of ['job_title', 'salary_estimate', 'midpoint_salary_estimate', 'job_description', 'company_name', 'location', 'size', 'type_of_ownership', 'industry', 'years_required'] but received: year_experience",
     "output_type": "error",
     "traceback": [
      "\u001b[1;31m---------------------------------------------------------------------------\u001b[0m",
      "\u001b[1;31mValueError\u001b[0m                                Traceback (most recent call last)",
      "File \u001b[1;32mc:\\Users\\ester.nepolo.GFP-PMU\\Desktop\\Desktop 2024\\My Courses\\Python\\graph_courses_python\\week_07_workshop_instructions.qmd:2\u001b[0m\n\u001b[0;32m      1\u001b[0m \u001b[39m# Create a scatter plot\u001b[39;00m\n\u001b[1;32m----> 2\u001b[0m plot \u001b[39m=\u001b[39m px\u001b[39m.\u001b[39;49mscatter(jobs_data, x \u001b[39m=\u001b[39;49m \u001b[39m\"\u001b[39;49m\u001b[39myear_experience\u001b[39;49m\u001b[39m\"\u001b[39;49m, y \u001b[39m=\u001b[39;49m \u001b[39m\"\u001b[39;49m\u001b[39mmidpoint_salary_estimate\u001b[39;49m\u001b[39m\"\u001b[39;49m,\n\u001b[0;32m      3\u001b[0m labels\u001b[39m=\u001b[39;49m {\u001b[39m\"\u001b[39;49m\u001b[39myear_experience\u001b[39;49m\u001b[39m\"\u001b[39;49m : \u001b[39m\"\u001b[39;49m\u001b[39mYears of Experience\u001b[39;49m\u001b[39m\"\u001b[39;49m,\n\u001b[0;32m      4\u001b[0m \u001b[39m\"\u001b[39;49m\u001b[39mmidpoint_salary_estimate\u001b[39;49m\u001b[39m\"\u001b[39;49m: \u001b[39m\"\u001b[39;49m\u001b[39mSalary estimate\u001b[39;49m\u001b[39m\"\u001b[39;49m})\n\u001b[0;32m      5\u001b[0m plot\u001b[39m.\u001b[39mshow()\n",
      "File \u001b[1;32mc:\\Users\\ester.nepolo.GFP-PMU\\Desktop\\Desktop 2024\\My Courses\\Python\\graph_courses_python\\.venv\\Lib\\site-packages\\plotly\\express\\_chart_types.py:66\u001b[0m, in \u001b[0;36mscatter\u001b[1;34m(data_frame, x, y, color, symbol, size, hover_name, hover_data, custom_data, text, facet_row, facet_col, facet_col_wrap, facet_row_spacing, facet_col_spacing, error_x, error_x_minus, error_y, error_y_minus, animation_frame, animation_group, category_orders, labels, orientation, color_discrete_sequence, color_discrete_map, color_continuous_scale, range_color, color_continuous_midpoint, symbol_sequence, symbol_map, opacity, size_max, marginal_x, marginal_y, trendline, trendline_options, trendline_color_override, trendline_scope, log_x, log_y, range_x, range_y, render_mode, title, template, width, height)\u001b[0m\n\u001b[0;32m     12\u001b[0m \u001b[39mdef\u001b[39;00m \u001b[39mscatter\u001b[39m(\n\u001b[0;32m     13\u001b[0m     data_frame\u001b[39m=\u001b[39m\u001b[39mNone\u001b[39;00m,\n\u001b[0;32m     14\u001b[0m     x\u001b[39m=\u001b[39m\u001b[39mNone\u001b[39;00m,\n\u001b[1;32m   (...)\u001b[0m\n\u001b[0;32m     60\u001b[0m     height\u001b[39m=\u001b[39m\u001b[39mNone\u001b[39;00m,\n\u001b[0;32m     61\u001b[0m ) \u001b[39m-\u001b[39m\u001b[39m>\u001b[39m go\u001b[39m.\u001b[39mFigure:\n\u001b[0;32m     62\u001b[0m \u001b[39m    \u001b[39m\u001b[39m\"\"\"\u001b[39;00m\n\u001b[0;32m     63\u001b[0m \u001b[39m    In a scatter plot, each row of `data_frame` is represented by a symbol\u001b[39;00m\n\u001b[0;32m     64\u001b[0m \u001b[39m    mark in 2D space.\u001b[39;00m\n\u001b[0;32m     65\u001b[0m \u001b[39m    \"\"\"\u001b[39;00m\n\u001b[1;32m---> 66\u001b[0m     \u001b[39mreturn\u001b[39;00m make_figure(args\u001b[39m=\u001b[39;49m\u001b[39mlocals\u001b[39;49m(), constructor\u001b[39m=\u001b[39;49mgo\u001b[39m.\u001b[39;49mScatter)\n",
      "File \u001b[1;32mc:\\Users\\ester.nepolo.GFP-PMU\\Desktop\\Desktop 2024\\My Courses\\Python\\graph_courses_python\\.venv\\Lib\\site-packages\\plotly\\express\\_core.py:2117\u001b[0m, in \u001b[0;36mmake_figure\u001b[1;34m(args, constructor, trace_patch, layout_patch)\u001b[0m\n\u001b[0;32m   2114\u001b[0m layout_patch \u001b[39m=\u001b[39m layout_patch \u001b[39mor\u001b[39;00m {}\n\u001b[0;32m   2115\u001b[0m apply_default_cascade(args)\n\u001b[1;32m-> 2117\u001b[0m args \u001b[39m=\u001b[39m build_dataframe(args, constructor)\n\u001b[0;32m   2118\u001b[0m \u001b[39mif\u001b[39;00m constructor \u001b[39min\u001b[39;00m [go\u001b[39m.\u001b[39mTreemap, go\u001b[39m.\u001b[39mSunburst, go\u001b[39m.\u001b[39mIcicle] \u001b[39mand\u001b[39;00m args[\u001b[39m\"\u001b[39m\u001b[39mpath\u001b[39m\u001b[39m\"\u001b[39m] \u001b[39mis\u001b[39;00m \u001b[39mnot\u001b[39;00m \u001b[39mNone\u001b[39;00m:\n\u001b[0;32m   2119\u001b[0m     args \u001b[39m=\u001b[39m process_dataframe_hierarchy(args)\n",
      "File \u001b[1;32mc:\\Users\\ester.nepolo.GFP-PMU\\Desktop\\Desktop 2024\\My Courses\\Python\\graph_courses_python\\.venv\\Lib\\site-packages\\plotly\\express\\_core.py:1513\u001b[0m, in \u001b[0;36mbuild_dataframe\u001b[1;34m(args, constructor)\u001b[0m\n\u001b[0;32m   1510\u001b[0m     args[\u001b[39m\"\u001b[39m\u001b[39mcolor\u001b[39m\u001b[39m\"\u001b[39m] \u001b[39m=\u001b[39m \u001b[39mNone\u001b[39;00m\n\u001b[0;32m   1511\u001b[0m \u001b[39m# now that things have been prepped, we do the systematic rewriting of `args`\u001b[39;00m\n\u001b[1;32m-> 1513\u001b[0m df_output, wide_id_vars \u001b[39m=\u001b[39m process_args_into_dataframe(\n\u001b[0;32m   1514\u001b[0m     args, wide_mode, var_name, value_name\n\u001b[0;32m   1515\u001b[0m )\n\u001b[0;32m   1517\u001b[0m \u001b[39m# now that `df_output` exists and `args` contains only references, we complete\u001b[39;00m\n\u001b[0;32m   1518\u001b[0m \u001b[39m# the special-case and wide-mode handling by further rewriting args and/or mutating\u001b[39;00m\n\u001b[0;32m   1519\u001b[0m \u001b[39m# df_output\u001b[39;00m\n\u001b[0;32m   1521\u001b[0m count_name \u001b[39m=\u001b[39m _escape_col_name(df_output, \u001b[39m\"\u001b[39m\u001b[39mcount\u001b[39m\u001b[39m\"\u001b[39m, [var_name, value_name])\n",
      "File \u001b[1;32mc:\\Users\\ester.nepolo.GFP-PMU\\Desktop\\Desktop 2024\\My Courses\\Python\\graph_courses_python\\.venv\\Lib\\site-packages\\plotly\\express\\_core.py:1234\u001b[0m, in \u001b[0;36mprocess_args_into_dataframe\u001b[1;34m(args, wide_mode, var_name, value_name)\u001b[0m\n\u001b[0;32m   1232\u001b[0m         \u001b[39mif\u001b[39;00m argument \u001b[39m==\u001b[39m \u001b[39m\"\u001b[39m\u001b[39mindex\u001b[39m\u001b[39m\"\u001b[39m:\n\u001b[0;32m   1233\u001b[0m             err_msg \u001b[39m+\u001b[39m\u001b[39m=\u001b[39m \u001b[39m\"\u001b[39m\u001b[39m\\n\u001b[39;00m\u001b[39m To use the index, pass it in directly as `df.index`.\u001b[39m\u001b[39m\"\u001b[39m\n\u001b[1;32m-> 1234\u001b[0m         \u001b[39mraise\u001b[39;00m \u001b[39mValueError\u001b[39;00m(err_msg)\n\u001b[0;32m   1235\u001b[0m \u001b[39melif\u001b[39;00m length \u001b[39mand\u001b[39;00m \u001b[39mlen\u001b[39m(df_input[argument]) \u001b[39m!=\u001b[39m length:\n\u001b[0;32m   1236\u001b[0m     \u001b[39mraise\u001b[39;00m \u001b[39mValueError\u001b[39;00m(\n\u001b[0;32m   1237\u001b[0m         \u001b[39m\"\u001b[39m\u001b[39mAll arguments should have the same length. \u001b[39m\u001b[39m\"\u001b[39m\n\u001b[0;32m   1238\u001b[0m         \u001b[39m\"\u001b[39m\u001b[39mThe length of column argument `df[\u001b[39m\u001b[39m%s\u001b[39;00m\u001b[39m]` is \u001b[39m\u001b[39m%d\u001b[39;00m\u001b[39m, whereas the \u001b[39m\u001b[39m\"\u001b[39m\n\u001b[1;32m   (...)\u001b[0m\n\u001b[0;32m   1245\u001b[0m         )\n\u001b[0;32m   1246\u001b[0m     )\n",
      "\u001b[1;31mValueError\u001b[0m: Value of 'x' is not the name of a column in 'data_frame'. Expected one of ['job_title', 'salary_estimate', 'midpoint_salary_estimate', 'job_description', 'company_name', 'location', 'size', 'type_of_ownership', 'industry', 'years_required'] but received: year_experience"
     ]
    }
   ],
   "source": [
    "# Create a scatter plot\n",
    "plot = px.scatter(jobs_data, x = \"year_experience\", y = \"midpoint_salary_estimate\",\n",
    "labels= {\"year_experience\" : \"Years of Experience\",\n",
    "\"midpoint_salary_estimate\": \"Salary estimate\"})\n",
    "plot.show()"
   ]
  },
  {
   "cell_type": "code",
   "execution_count": 31,
   "id": "4b751d38-2db1-4695-9f15-e9d25031748d",
   "metadata": {
    "vscode": {
     "languageId": "quarto"
    }
   },
   "outputs": [
    {
     "name": "stdout",
     "output_type": "stream",
     "text": [
      "<class 'pandas.core.frame.DataFrame'>\n",
      "RangeIndex: 72 entries, 0 to 71\n",
      "Data columns (total 10 columns):\n",
      " #   Column                    Non-Null Count  Dtype  \n",
      "---  ------                    --------------  -----  \n",
      " 0   job_title                 72 non-null     object \n",
      " 1   salary_estimate           72 non-null     object \n",
      " 2   midpoint_salary_estimate  72 non-null     int64  \n",
      " 3   job_description           72 non-null     object \n",
      " 4   company_name              72 non-null     object \n",
      " 5   location                  72 non-null     object \n",
      " 6   size                      72 non-null     object \n",
      " 7   type_of_ownership         72 non-null     object \n",
      " 8   industry                  72 non-null     object \n",
      " 9   years_required            56 non-null     float64\n",
      "dtypes: float64(1), int64(1), object(8)\n",
      "memory usage: 5.8+ KB\n"
     ]
    }
   ],
   "source": [
    "# Convert 'years_required' to numeric\n",
    "## First rename the variable\n",
    "jobs_data = jobs_data.rename(columns = {\"year_required\": \"years_experience\"})\n",
    "jobs_data[\"years_required\"] = pd.to_numeric(jobs_data[\"years_required\"], errors=\"coerce\")\n",
    "\n",
    "jobs_data.info()"
   ]
  },
  {
   "cell_type": "code",
   "execution_count": 32,
   "id": "56783951-f458-40ac-8b06-1877ee995547",
   "metadata": {
    "vscode": {
     "languageId": "quarto"
    }
   },
   "outputs": [
    {
     "name": "stdout",
     "output_type": "stream",
     "text": [
      "<class 'pandas.core.frame.DataFrame'>\n",
      "RangeIndex: 72 entries, 0 to 71\n",
      "Data columns (total 11 columns):\n",
      " #   Column                    Non-Null Count  Dtype  \n",
      "---  ------                    --------------  -----  \n",
      " 0   job_title                 72 non-null     object \n",
      " 1   salary_estimate           72 non-null     object \n",
      " 2   midpoint_salary_estimate  72 non-null     int64  \n",
      " 3   job_description           72 non-null     object \n",
      " 4   company_name              72 non-null     object \n",
      " 5   location                  72 non-null     object \n",
      " 6   size                      72 non-null     object \n",
      " 7   type_of_ownership         72 non-null     object \n",
      " 8   industry                  72 non-null     object \n",
      " 9   years_required            56 non-null     float64\n",
      " 10  years_experience          56 non-null     float64\n",
      "dtypes: float64(2), int64(1), object(8)\n",
      "memory usage: 6.3+ KB\n"
     ]
    }
   ],
   "source": [
    "# Convert 'years_required' to numeric\n",
    "## First rename the variable\n",
    "jobs_data = jobs_data.rename(columns = {\"year_required\": \"years_experience\"})\n",
    "jobs_data[\"years_experience\"] = pd.to_numeric(jobs_data[\"years_required\"], errors=\"coerce\")\n",
    "\n",
    "jobs_data.info()"
   ]
  },
  {
   "cell_type": "code",
   "execution_count": 33,
   "id": "8fd3c22b-fe5b-49e7-bcb3-4c00614e0dba",
   "metadata": {
    "vscode": {
     "languageId": "quarto"
    }
   },
   "outputs": [
    {
     "name": "stdout",
     "output_type": "stream",
     "text": [
      "<class 'pandas.core.frame.DataFrame'>\n",
      "RangeIndex: 72 entries, 0 to 71\n",
      "Data columns (total 11 columns):\n",
      " #   Column                    Non-Null Count  Dtype  \n",
      "---  ------                    --------------  -----  \n",
      " 0   job_title                 72 non-null     object \n",
      " 1   salary_estimate           72 non-null     object \n",
      " 2   midpoint_salary_estimate  72 non-null     int64  \n",
      " 3   job_description           72 non-null     object \n",
      " 4   company_name              72 non-null     object \n",
      " 5   location                  72 non-null     object \n",
      " 6   size                      72 non-null     object \n",
      " 7   type_of_ownership         72 non-null     object \n",
      " 8   industry                  72 non-null     object \n",
      " 9   years_required            56 non-null     float64\n",
      " 10  years_experience          56 non-null     float64\n",
      "dtypes: float64(2), int64(1), object(8)\n",
      "memory usage: 6.3+ KB\n"
     ]
    }
   ],
   "source": [
    "# Convert 'years_required' to numeric\n",
    "## First rename the variable\n",
    "jobs_data = jobs_data.rename(columns = {\"year_required\": \"years_experience\"})\n",
    "jobs_data[\"years_experience\"] = pd.to_numeric(jobs_data[\"years_experience\"], errors=\"coerce\")\n",
    "\n",
    "jobs_data.info()"
   ]
  },
  {
   "cell_type": "code",
   "execution_count": 34,
   "id": "3ae8df9c-2426-4b08-85ea-f7384424179b",
   "metadata": {
    "vscode": {
     "languageId": "quarto"
    }
   },
   "outputs": [
    {
     "data": {
      "application/vnd.plotly.v1+json": {
       "config": {
        "plotlyServerURL": "https://plot.ly"
       },
       "data": [
        {
         "hovertemplate": "Years of Experience=%{x}<br>Salary estimate=%{y}<extra></extra>",
         "legendgroup": "",
         "marker": {
          "color": "#636efa",
          "symbol": "circle"
         },
         "mode": "markers",
         "name": "",
         "orientation": "v",
         "showlegend": false,
         "type": "scatter",
         "x": [
          5,
          null,
          5,
          3,
          5,
          4,
          3,
          2,
          2,
          null,
          3,
          null,
          2,
          2,
          3,
          null,
          3,
          1,
          12,
          5,
          3,
          6,
          null,
          1,
          null,
          4,
          1,
          5,
          1.5,
          2,
          5,
          null,
          3,
          5,
          5,
          5,
          4,
          2,
          null,
          6,
          1,
          null,
          null,
          null,
          3,
          3,
          2,
          8,
          null,
          2,
          8,
          5,
          1,
          3,
          null,
          1,
          2,
          2,
          6,
          2,
          2,
          5,
          2,
          10,
          5,
          null,
          4,
          3,
          4,
          null,
          null,
          3
         ],
         "xaxis": "x",
         "y": [
          40000,
          99000,
          78000,
          80000,
          56000,
          99000,
          68000,
          126000,
          72000,
          99000,
          72000,
          40000,
          85000,
          36000,
          138500,
          99000,
          47500,
          36500,
          72000,
          61500,
          68000,
          66500,
          56000,
          40000,
          63000,
          68000,
          59000,
          88500,
          85000,
          51000,
          41500,
          47500,
          113000,
          99000,
          62000,
          75500,
          150000,
          47500,
          120000,
          66500,
          53000,
          71500,
          104500,
          59500,
          80000,
          138500,
          59500,
          87000,
          54000,
          59000,
          72000,
          60500,
          66500,
          92000,
          60500,
          78500,
          77500,
          59500,
          70000,
          59000,
          69000,
          60000,
          42000,
          72000,
          74000,
          69000,
          61500,
          40000,
          63000,
          60500,
          69000,
          59500
         ],
         "yaxis": "y"
        }
       ],
       "layout": {
        "legend": {
         "tracegroupgap": 0
        },
        "margin": {
         "t": 60
        },
        "template": {
         "data": {
          "bar": [
           {
            "error_x": {
             "color": "#2a3f5f"
            },
            "error_y": {
             "color": "#2a3f5f"
            },
            "marker": {
             "line": {
              "color": "#E5ECF6",
              "width": 0.5
             },
             "pattern": {
              "fillmode": "overlay",
              "size": 10,
              "solidity": 0.2
             }
            },
            "type": "bar"
           }
          ],
          "barpolar": [
           {
            "marker": {
             "line": {
              "color": "#E5ECF6",
              "width": 0.5
             },
             "pattern": {
              "fillmode": "overlay",
              "size": 10,
              "solidity": 0.2
             }
            },
            "type": "barpolar"
           }
          ],
          "carpet": [
           {
            "aaxis": {
             "endlinecolor": "#2a3f5f",
             "gridcolor": "white",
             "linecolor": "white",
             "minorgridcolor": "white",
             "startlinecolor": "#2a3f5f"
            },
            "baxis": {
             "endlinecolor": "#2a3f5f",
             "gridcolor": "white",
             "linecolor": "white",
             "minorgridcolor": "white",
             "startlinecolor": "#2a3f5f"
            },
            "type": "carpet"
           }
          ],
          "choropleth": [
           {
            "colorbar": {
             "outlinewidth": 0,
             "ticks": ""
            },
            "type": "choropleth"
           }
          ],
          "contour": [
           {
            "colorbar": {
             "outlinewidth": 0,
             "ticks": ""
            },
            "colorscale": [
             [
              0,
              "#0d0887"
             ],
             [
              0.1111111111111111,
              "#46039f"
             ],
             [
              0.2222222222222222,
              "#7201a8"
             ],
             [
              0.3333333333333333,
              "#9c179e"
             ],
             [
              0.4444444444444444,
              "#bd3786"
             ],
             [
              0.5555555555555556,
              "#d8576b"
             ],
             [
              0.6666666666666666,
              "#ed7953"
             ],
             [
              0.7777777777777778,
              "#fb9f3a"
             ],
             [
              0.8888888888888888,
              "#fdca26"
             ],
             [
              1,
              "#f0f921"
             ]
            ],
            "type": "contour"
           }
          ],
          "contourcarpet": [
           {
            "colorbar": {
             "outlinewidth": 0,
             "ticks": ""
            },
            "type": "contourcarpet"
           }
          ],
          "heatmap": [
           {
            "colorbar": {
             "outlinewidth": 0,
             "ticks": ""
            },
            "colorscale": [
             [
              0,
              "#0d0887"
             ],
             [
              0.1111111111111111,
              "#46039f"
             ],
             [
              0.2222222222222222,
              "#7201a8"
             ],
             [
              0.3333333333333333,
              "#9c179e"
             ],
             [
              0.4444444444444444,
              "#bd3786"
             ],
             [
              0.5555555555555556,
              "#d8576b"
             ],
             [
              0.6666666666666666,
              "#ed7953"
             ],
             [
              0.7777777777777778,
              "#fb9f3a"
             ],
             [
              0.8888888888888888,
              "#fdca26"
             ],
             [
              1,
              "#f0f921"
             ]
            ],
            "type": "heatmap"
           }
          ],
          "heatmapgl": [
           {
            "colorbar": {
             "outlinewidth": 0,
             "ticks": ""
            },
            "colorscale": [
             [
              0,
              "#0d0887"
             ],
             [
              0.1111111111111111,
              "#46039f"
             ],
             [
              0.2222222222222222,
              "#7201a8"
             ],
             [
              0.3333333333333333,
              "#9c179e"
             ],
             [
              0.4444444444444444,
              "#bd3786"
             ],
             [
              0.5555555555555556,
              "#d8576b"
             ],
             [
              0.6666666666666666,
              "#ed7953"
             ],
             [
              0.7777777777777778,
              "#fb9f3a"
             ],
             [
              0.8888888888888888,
              "#fdca26"
             ],
             [
              1,
              "#f0f921"
             ]
            ],
            "type": "heatmapgl"
           }
          ],
          "histogram": [
           {
            "marker": {
             "pattern": {
              "fillmode": "overlay",
              "size": 10,
              "solidity": 0.2
             }
            },
            "type": "histogram"
           }
          ],
          "histogram2d": [
           {
            "colorbar": {
             "outlinewidth": 0,
             "ticks": ""
            },
            "colorscale": [
             [
              0,
              "#0d0887"
             ],
             [
              0.1111111111111111,
              "#46039f"
             ],
             [
              0.2222222222222222,
              "#7201a8"
             ],
             [
              0.3333333333333333,
              "#9c179e"
             ],
             [
              0.4444444444444444,
              "#bd3786"
             ],
             [
              0.5555555555555556,
              "#d8576b"
             ],
             [
              0.6666666666666666,
              "#ed7953"
             ],
             [
              0.7777777777777778,
              "#fb9f3a"
             ],
             [
              0.8888888888888888,
              "#fdca26"
             ],
             [
              1,
              "#f0f921"
             ]
            ],
            "type": "histogram2d"
           }
          ],
          "histogram2dcontour": [
           {
            "colorbar": {
             "outlinewidth": 0,
             "ticks": ""
            },
            "colorscale": [
             [
              0,
              "#0d0887"
             ],
             [
              0.1111111111111111,
              "#46039f"
             ],
             [
              0.2222222222222222,
              "#7201a8"
             ],
             [
              0.3333333333333333,
              "#9c179e"
             ],
             [
              0.4444444444444444,
              "#bd3786"
             ],
             [
              0.5555555555555556,
              "#d8576b"
             ],
             [
              0.6666666666666666,
              "#ed7953"
             ],
             [
              0.7777777777777778,
              "#fb9f3a"
             ],
             [
              0.8888888888888888,
              "#fdca26"
             ],
             [
              1,
              "#f0f921"
             ]
            ],
            "type": "histogram2dcontour"
           }
          ],
          "mesh3d": [
           {
            "colorbar": {
             "outlinewidth": 0,
             "ticks": ""
            },
            "type": "mesh3d"
           }
          ],
          "parcoords": [
           {
            "line": {
             "colorbar": {
              "outlinewidth": 0,
              "ticks": ""
             }
            },
            "type": "parcoords"
           }
          ],
          "pie": [
           {
            "automargin": true,
            "type": "pie"
           }
          ],
          "scatter": [
           {
            "fillpattern": {
             "fillmode": "overlay",
             "size": 10,
             "solidity": 0.2
            },
            "type": "scatter"
           }
          ],
          "scatter3d": [
           {
            "line": {
             "colorbar": {
              "outlinewidth": 0,
              "ticks": ""
             }
            },
            "marker": {
             "colorbar": {
              "outlinewidth": 0,
              "ticks": ""
             }
            },
            "type": "scatter3d"
           }
          ],
          "scattercarpet": [
           {
            "marker": {
             "colorbar": {
              "outlinewidth": 0,
              "ticks": ""
             }
            },
            "type": "scattercarpet"
           }
          ],
          "scattergeo": [
           {
            "marker": {
             "colorbar": {
              "outlinewidth": 0,
              "ticks": ""
             }
            },
            "type": "scattergeo"
           }
          ],
          "scattergl": [
           {
            "marker": {
             "colorbar": {
              "outlinewidth": 0,
              "ticks": ""
             }
            },
            "type": "scattergl"
           }
          ],
          "scattermapbox": [
           {
            "marker": {
             "colorbar": {
              "outlinewidth": 0,
              "ticks": ""
             }
            },
            "type": "scattermapbox"
           }
          ],
          "scatterpolar": [
           {
            "marker": {
             "colorbar": {
              "outlinewidth": 0,
              "ticks": ""
             }
            },
            "type": "scatterpolar"
           }
          ],
          "scatterpolargl": [
           {
            "marker": {
             "colorbar": {
              "outlinewidth": 0,
              "ticks": ""
             }
            },
            "type": "scatterpolargl"
           }
          ],
          "scatterternary": [
           {
            "marker": {
             "colorbar": {
              "outlinewidth": 0,
              "ticks": ""
             }
            },
            "type": "scatterternary"
           }
          ],
          "surface": [
           {
            "colorbar": {
             "outlinewidth": 0,
             "ticks": ""
            },
            "colorscale": [
             [
              0,
              "#0d0887"
             ],
             [
              0.1111111111111111,
              "#46039f"
             ],
             [
              0.2222222222222222,
              "#7201a8"
             ],
             [
              0.3333333333333333,
              "#9c179e"
             ],
             [
              0.4444444444444444,
              "#bd3786"
             ],
             [
              0.5555555555555556,
              "#d8576b"
             ],
             [
              0.6666666666666666,
              "#ed7953"
             ],
             [
              0.7777777777777778,
              "#fb9f3a"
             ],
             [
              0.8888888888888888,
              "#fdca26"
             ],
             [
              1,
              "#f0f921"
             ]
            ],
            "type": "surface"
           }
          ],
          "table": [
           {
            "cells": {
             "fill": {
              "color": "#EBF0F8"
             },
             "line": {
              "color": "white"
             }
            },
            "header": {
             "fill": {
              "color": "#C8D4E3"
             },
             "line": {
              "color": "white"
             }
            },
            "type": "table"
           }
          ]
         },
         "layout": {
          "annotationdefaults": {
           "arrowcolor": "#2a3f5f",
           "arrowhead": 0,
           "arrowwidth": 1
          },
          "autotypenumbers": "strict",
          "coloraxis": {
           "colorbar": {
            "outlinewidth": 0,
            "ticks": ""
           }
          },
          "colorscale": {
           "diverging": [
            [
             0,
             "#8e0152"
            ],
            [
             0.1,
             "#c51b7d"
            ],
            [
             0.2,
             "#de77ae"
            ],
            [
             0.3,
             "#f1b6da"
            ],
            [
             0.4,
             "#fde0ef"
            ],
            [
             0.5,
             "#f7f7f7"
            ],
            [
             0.6,
             "#e6f5d0"
            ],
            [
             0.7,
             "#b8e186"
            ],
            [
             0.8,
             "#7fbc41"
            ],
            [
             0.9,
             "#4d9221"
            ],
            [
             1,
             "#276419"
            ]
           ],
           "sequential": [
            [
             0,
             "#0d0887"
            ],
            [
             0.1111111111111111,
             "#46039f"
            ],
            [
             0.2222222222222222,
             "#7201a8"
            ],
            [
             0.3333333333333333,
             "#9c179e"
            ],
            [
             0.4444444444444444,
             "#bd3786"
            ],
            [
             0.5555555555555556,
             "#d8576b"
            ],
            [
             0.6666666666666666,
             "#ed7953"
            ],
            [
             0.7777777777777778,
             "#fb9f3a"
            ],
            [
             0.8888888888888888,
             "#fdca26"
            ],
            [
             1,
             "#f0f921"
            ]
           ],
           "sequentialminus": [
            [
             0,
             "#0d0887"
            ],
            [
             0.1111111111111111,
             "#46039f"
            ],
            [
             0.2222222222222222,
             "#7201a8"
            ],
            [
             0.3333333333333333,
             "#9c179e"
            ],
            [
             0.4444444444444444,
             "#bd3786"
            ],
            [
             0.5555555555555556,
             "#d8576b"
            ],
            [
             0.6666666666666666,
             "#ed7953"
            ],
            [
             0.7777777777777778,
             "#fb9f3a"
            ],
            [
             0.8888888888888888,
             "#fdca26"
            ],
            [
             1,
             "#f0f921"
            ]
           ]
          },
          "colorway": [
           "#636efa",
           "#EF553B",
           "#00cc96",
           "#ab63fa",
           "#FFA15A",
           "#19d3f3",
           "#FF6692",
           "#B6E880",
           "#FF97FF",
           "#FECB52"
          ],
          "font": {
           "color": "#2a3f5f"
          },
          "geo": {
           "bgcolor": "white",
           "lakecolor": "white",
           "landcolor": "#E5ECF6",
           "showlakes": true,
           "showland": true,
           "subunitcolor": "white"
          },
          "hoverlabel": {
           "align": "left"
          },
          "hovermode": "closest",
          "mapbox": {
           "style": "light"
          },
          "paper_bgcolor": "white",
          "plot_bgcolor": "#E5ECF6",
          "polar": {
           "angularaxis": {
            "gridcolor": "white",
            "linecolor": "white",
            "ticks": ""
           },
           "bgcolor": "#E5ECF6",
           "radialaxis": {
            "gridcolor": "white",
            "linecolor": "white",
            "ticks": ""
           }
          },
          "scene": {
           "xaxis": {
            "backgroundcolor": "#E5ECF6",
            "gridcolor": "white",
            "gridwidth": 2,
            "linecolor": "white",
            "showbackground": true,
            "ticks": "",
            "zerolinecolor": "white"
           },
           "yaxis": {
            "backgroundcolor": "#E5ECF6",
            "gridcolor": "white",
            "gridwidth": 2,
            "linecolor": "white",
            "showbackground": true,
            "ticks": "",
            "zerolinecolor": "white"
           },
           "zaxis": {
            "backgroundcolor": "#E5ECF6",
            "gridcolor": "white",
            "gridwidth": 2,
            "linecolor": "white",
            "showbackground": true,
            "ticks": "",
            "zerolinecolor": "white"
           }
          },
          "shapedefaults": {
           "line": {
            "color": "#2a3f5f"
           }
          },
          "ternary": {
           "aaxis": {
            "gridcolor": "white",
            "linecolor": "white",
            "ticks": ""
           },
           "baxis": {
            "gridcolor": "white",
            "linecolor": "white",
            "ticks": ""
           },
           "bgcolor": "#E5ECF6",
           "caxis": {
            "gridcolor": "white",
            "linecolor": "white",
            "ticks": ""
           }
          },
          "title": {
           "x": 0.05
          },
          "xaxis": {
           "automargin": true,
           "gridcolor": "white",
           "linecolor": "white",
           "ticks": "",
           "title": {
            "standoff": 15
           },
           "zerolinecolor": "white",
           "zerolinewidth": 2
          },
          "yaxis": {
           "automargin": true,
           "gridcolor": "white",
           "linecolor": "white",
           "ticks": "",
           "title": {
            "standoff": 15
           },
           "zerolinecolor": "white",
           "zerolinewidth": 2
          }
         }
        },
        "xaxis": {
         "anchor": "y",
         "domain": [
          0,
          1
         ],
         "title": {
          "text": "Years of Experience"
         }
        },
        "yaxis": {
         "anchor": "x",
         "domain": [
          0,
          1
         ],
         "title": {
          "text": "Salary estimate"
         }
        }
       }
      }
     },
     "metadata": {},
     "output_type": "display_data"
    }
   ],
   "source": [
    "# Create a scatter plot\n",
    "plot = px.scatter(jobs_data, x = \"years_experience\", y = \"midpoint_salary_estimate\",\n",
    "labels= {\"years_experience\" : \"Years of Experience\",\n",
    "\"midpoint_salary_estimate\": \"Salary estimate\"})\n",
    "plot.show()"
   ]
  },
  {
   "cell_type": "code",
   "execution_count": 35,
   "id": "2030d43d-a8e9-4b2b-85bc-97c11421b26e",
   "metadata": {
    "vscode": {
     "languageId": "quarto"
    }
   },
   "outputs": [
    {
     "data": {
      "application/vnd.plotly.v1+json": {
       "config": {
        "plotlyServerURL": "https://plot.ly"
       },
       "data": [
        {
         "hovertemplate": "Years of Experience=%{x}<br>Salary estimate=%{y}<extra></extra>",
         "legendgroup": "",
         "marker": {
          "color": "#636efa",
          "symbol": "circle"
         },
         "mode": "markers",
         "name": "",
         "orientation": "v",
         "showlegend": false,
         "type": "scatter",
         "x": [
          5,
          null,
          5,
          3,
          5,
          4,
          3,
          2,
          2,
          null,
          3,
          null,
          2,
          2,
          3,
          null,
          3,
          1,
          12,
          5,
          3,
          6,
          null,
          1,
          null,
          4,
          1,
          5,
          1.5,
          2,
          5,
          null,
          3,
          5,
          5,
          5,
          4,
          2,
          null,
          6,
          1,
          null,
          null,
          null,
          3,
          3,
          2,
          8,
          null,
          2,
          8,
          5,
          1,
          3,
          null,
          1,
          2,
          2,
          6,
          2,
          2,
          5,
          2,
          10,
          5,
          null,
          4,
          3,
          4,
          null,
          null,
          3
         ],
         "xaxis": "x",
         "y": [
          40000,
          99000,
          78000,
          80000,
          56000,
          99000,
          68000,
          126000,
          72000,
          99000,
          72000,
          40000,
          85000,
          36000,
          138500,
          99000,
          47500,
          36500,
          72000,
          61500,
          68000,
          66500,
          56000,
          40000,
          63000,
          68000,
          59000,
          88500,
          85000,
          51000,
          41500,
          47500,
          113000,
          99000,
          62000,
          75500,
          150000,
          47500,
          120000,
          66500,
          53000,
          71500,
          104500,
          59500,
          80000,
          138500,
          59500,
          87000,
          54000,
          59000,
          72000,
          60500,
          66500,
          92000,
          60500,
          78500,
          77500,
          59500,
          70000,
          59000,
          69000,
          60000,
          42000,
          72000,
          74000,
          69000,
          61500,
          40000,
          63000,
          60500,
          69000,
          59500
         ],
         "yaxis": "y"
        }
       ],
       "layout": {
        "legend": {
         "tracegroupgap": 0
        },
        "margin": {
         "t": 60
        },
        "template": {
         "data": {
          "bar": [
           {
            "error_x": {
             "color": "#2a3f5f"
            },
            "error_y": {
             "color": "#2a3f5f"
            },
            "marker": {
             "line": {
              "color": "#E5ECF6",
              "width": 0.5
             },
             "pattern": {
              "fillmode": "overlay",
              "size": 10,
              "solidity": 0.2
             }
            },
            "type": "bar"
           }
          ],
          "barpolar": [
           {
            "marker": {
             "line": {
              "color": "#E5ECF6",
              "width": 0.5
             },
             "pattern": {
              "fillmode": "overlay",
              "size": 10,
              "solidity": 0.2
             }
            },
            "type": "barpolar"
           }
          ],
          "carpet": [
           {
            "aaxis": {
             "endlinecolor": "#2a3f5f",
             "gridcolor": "white",
             "linecolor": "white",
             "minorgridcolor": "white",
             "startlinecolor": "#2a3f5f"
            },
            "baxis": {
             "endlinecolor": "#2a3f5f",
             "gridcolor": "white",
             "linecolor": "white",
             "minorgridcolor": "white",
             "startlinecolor": "#2a3f5f"
            },
            "type": "carpet"
           }
          ],
          "choropleth": [
           {
            "colorbar": {
             "outlinewidth": 0,
             "ticks": ""
            },
            "type": "choropleth"
           }
          ],
          "contour": [
           {
            "colorbar": {
             "outlinewidth": 0,
             "ticks": ""
            },
            "colorscale": [
             [
              0,
              "#0d0887"
             ],
             [
              0.1111111111111111,
              "#46039f"
             ],
             [
              0.2222222222222222,
              "#7201a8"
             ],
             [
              0.3333333333333333,
              "#9c179e"
             ],
             [
              0.4444444444444444,
              "#bd3786"
             ],
             [
              0.5555555555555556,
              "#d8576b"
             ],
             [
              0.6666666666666666,
              "#ed7953"
             ],
             [
              0.7777777777777778,
              "#fb9f3a"
             ],
             [
              0.8888888888888888,
              "#fdca26"
             ],
             [
              1,
              "#f0f921"
             ]
            ],
            "type": "contour"
           }
          ],
          "contourcarpet": [
           {
            "colorbar": {
             "outlinewidth": 0,
             "ticks": ""
            },
            "type": "contourcarpet"
           }
          ],
          "heatmap": [
           {
            "colorbar": {
             "outlinewidth": 0,
             "ticks": ""
            },
            "colorscale": [
             [
              0,
              "#0d0887"
             ],
             [
              0.1111111111111111,
              "#46039f"
             ],
             [
              0.2222222222222222,
              "#7201a8"
             ],
             [
              0.3333333333333333,
              "#9c179e"
             ],
             [
              0.4444444444444444,
              "#bd3786"
             ],
             [
              0.5555555555555556,
              "#d8576b"
             ],
             [
              0.6666666666666666,
              "#ed7953"
             ],
             [
              0.7777777777777778,
              "#fb9f3a"
             ],
             [
              0.8888888888888888,
              "#fdca26"
             ],
             [
              1,
              "#f0f921"
             ]
            ],
            "type": "heatmap"
           }
          ],
          "heatmapgl": [
           {
            "colorbar": {
             "outlinewidth": 0,
             "ticks": ""
            },
            "colorscale": [
             [
              0,
              "#0d0887"
             ],
             [
              0.1111111111111111,
              "#46039f"
             ],
             [
              0.2222222222222222,
              "#7201a8"
             ],
             [
              0.3333333333333333,
              "#9c179e"
             ],
             [
              0.4444444444444444,
              "#bd3786"
             ],
             [
              0.5555555555555556,
              "#d8576b"
             ],
             [
              0.6666666666666666,
              "#ed7953"
             ],
             [
              0.7777777777777778,
              "#fb9f3a"
             ],
             [
              0.8888888888888888,
              "#fdca26"
             ],
             [
              1,
              "#f0f921"
             ]
            ],
            "type": "heatmapgl"
           }
          ],
          "histogram": [
           {
            "marker": {
             "pattern": {
              "fillmode": "overlay",
              "size": 10,
              "solidity": 0.2
             }
            },
            "type": "histogram"
           }
          ],
          "histogram2d": [
           {
            "colorbar": {
             "outlinewidth": 0,
             "ticks": ""
            },
            "colorscale": [
             [
              0,
              "#0d0887"
             ],
             [
              0.1111111111111111,
              "#46039f"
             ],
             [
              0.2222222222222222,
              "#7201a8"
             ],
             [
              0.3333333333333333,
              "#9c179e"
             ],
             [
              0.4444444444444444,
              "#bd3786"
             ],
             [
              0.5555555555555556,
              "#d8576b"
             ],
             [
              0.6666666666666666,
              "#ed7953"
             ],
             [
              0.7777777777777778,
              "#fb9f3a"
             ],
             [
              0.8888888888888888,
              "#fdca26"
             ],
             [
              1,
              "#f0f921"
             ]
            ],
            "type": "histogram2d"
           }
          ],
          "histogram2dcontour": [
           {
            "colorbar": {
             "outlinewidth": 0,
             "ticks": ""
            },
            "colorscale": [
             [
              0,
              "#0d0887"
             ],
             [
              0.1111111111111111,
              "#46039f"
             ],
             [
              0.2222222222222222,
              "#7201a8"
             ],
             [
              0.3333333333333333,
              "#9c179e"
             ],
             [
              0.4444444444444444,
              "#bd3786"
             ],
             [
              0.5555555555555556,
              "#d8576b"
             ],
             [
              0.6666666666666666,
              "#ed7953"
             ],
             [
              0.7777777777777778,
              "#fb9f3a"
             ],
             [
              0.8888888888888888,
              "#fdca26"
             ],
             [
              1,
              "#f0f921"
             ]
            ],
            "type": "histogram2dcontour"
           }
          ],
          "mesh3d": [
           {
            "colorbar": {
             "outlinewidth": 0,
             "ticks": ""
            },
            "type": "mesh3d"
           }
          ],
          "parcoords": [
           {
            "line": {
             "colorbar": {
              "outlinewidth": 0,
              "ticks": ""
             }
            },
            "type": "parcoords"
           }
          ],
          "pie": [
           {
            "automargin": true,
            "type": "pie"
           }
          ],
          "scatter": [
           {
            "fillpattern": {
             "fillmode": "overlay",
             "size": 10,
             "solidity": 0.2
            },
            "type": "scatter"
           }
          ],
          "scatter3d": [
           {
            "line": {
             "colorbar": {
              "outlinewidth": 0,
              "ticks": ""
             }
            },
            "marker": {
             "colorbar": {
              "outlinewidth": 0,
              "ticks": ""
             }
            },
            "type": "scatter3d"
           }
          ],
          "scattercarpet": [
           {
            "marker": {
             "colorbar": {
              "outlinewidth": 0,
              "ticks": ""
             }
            },
            "type": "scattercarpet"
           }
          ],
          "scattergeo": [
           {
            "marker": {
             "colorbar": {
              "outlinewidth": 0,
              "ticks": ""
             }
            },
            "type": "scattergeo"
           }
          ],
          "scattergl": [
           {
            "marker": {
             "colorbar": {
              "outlinewidth": 0,
              "ticks": ""
             }
            },
            "type": "scattergl"
           }
          ],
          "scattermapbox": [
           {
            "marker": {
             "colorbar": {
              "outlinewidth": 0,
              "ticks": ""
             }
            },
            "type": "scattermapbox"
           }
          ],
          "scatterpolar": [
           {
            "marker": {
             "colorbar": {
              "outlinewidth": 0,
              "ticks": ""
             }
            },
            "type": "scatterpolar"
           }
          ],
          "scatterpolargl": [
           {
            "marker": {
             "colorbar": {
              "outlinewidth": 0,
              "ticks": ""
             }
            },
            "type": "scatterpolargl"
           }
          ],
          "scatterternary": [
           {
            "marker": {
             "colorbar": {
              "outlinewidth": 0,
              "ticks": ""
             }
            },
            "type": "scatterternary"
           }
          ],
          "surface": [
           {
            "colorbar": {
             "outlinewidth": 0,
             "ticks": ""
            },
            "colorscale": [
             [
              0,
              "#0d0887"
             ],
             [
              0.1111111111111111,
              "#46039f"
             ],
             [
              0.2222222222222222,
              "#7201a8"
             ],
             [
              0.3333333333333333,
              "#9c179e"
             ],
             [
              0.4444444444444444,
              "#bd3786"
             ],
             [
              0.5555555555555556,
              "#d8576b"
             ],
             [
              0.6666666666666666,
              "#ed7953"
             ],
             [
              0.7777777777777778,
              "#fb9f3a"
             ],
             [
              0.8888888888888888,
              "#fdca26"
             ],
             [
              1,
              "#f0f921"
             ]
            ],
            "type": "surface"
           }
          ],
          "table": [
           {
            "cells": {
             "fill": {
              "color": "#EBF0F8"
             },
             "line": {
              "color": "white"
             }
            },
            "header": {
             "fill": {
              "color": "#C8D4E3"
             },
             "line": {
              "color": "white"
             }
            },
            "type": "table"
           }
          ]
         },
         "layout": {
          "annotationdefaults": {
           "arrowcolor": "#2a3f5f",
           "arrowhead": 0,
           "arrowwidth": 1
          },
          "autotypenumbers": "strict",
          "coloraxis": {
           "colorbar": {
            "outlinewidth": 0,
            "ticks": ""
           }
          },
          "colorscale": {
           "diverging": [
            [
             0,
             "#8e0152"
            ],
            [
             0.1,
             "#c51b7d"
            ],
            [
             0.2,
             "#de77ae"
            ],
            [
             0.3,
             "#f1b6da"
            ],
            [
             0.4,
             "#fde0ef"
            ],
            [
             0.5,
             "#f7f7f7"
            ],
            [
             0.6,
             "#e6f5d0"
            ],
            [
             0.7,
             "#b8e186"
            ],
            [
             0.8,
             "#7fbc41"
            ],
            [
             0.9,
             "#4d9221"
            ],
            [
             1,
             "#276419"
            ]
           ],
           "sequential": [
            [
             0,
             "#0d0887"
            ],
            [
             0.1111111111111111,
             "#46039f"
            ],
            [
             0.2222222222222222,
             "#7201a8"
            ],
            [
             0.3333333333333333,
             "#9c179e"
            ],
            [
             0.4444444444444444,
             "#bd3786"
            ],
            [
             0.5555555555555556,
             "#d8576b"
            ],
            [
             0.6666666666666666,
             "#ed7953"
            ],
            [
             0.7777777777777778,
             "#fb9f3a"
            ],
            [
             0.8888888888888888,
             "#fdca26"
            ],
            [
             1,
             "#f0f921"
            ]
           ],
           "sequentialminus": [
            [
             0,
             "#0d0887"
            ],
            [
             0.1111111111111111,
             "#46039f"
            ],
            [
             0.2222222222222222,
             "#7201a8"
            ],
            [
             0.3333333333333333,
             "#9c179e"
            ],
            [
             0.4444444444444444,
             "#bd3786"
            ],
            [
             0.5555555555555556,
             "#d8576b"
            ],
            [
             0.6666666666666666,
             "#ed7953"
            ],
            [
             0.7777777777777778,
             "#fb9f3a"
            ],
            [
             0.8888888888888888,
             "#fdca26"
            ],
            [
             1,
             "#f0f921"
            ]
           ]
          },
          "colorway": [
           "#636efa",
           "#EF553B",
           "#00cc96",
           "#ab63fa",
           "#FFA15A",
           "#19d3f3",
           "#FF6692",
           "#B6E880",
           "#FF97FF",
           "#FECB52"
          ],
          "font": {
           "color": "#2a3f5f"
          },
          "geo": {
           "bgcolor": "white",
           "lakecolor": "white",
           "landcolor": "#E5ECF6",
           "showlakes": true,
           "showland": true,
           "subunitcolor": "white"
          },
          "hoverlabel": {
           "align": "left"
          },
          "hovermode": "closest",
          "mapbox": {
           "style": "light"
          },
          "paper_bgcolor": "white",
          "plot_bgcolor": "#E5ECF6",
          "polar": {
           "angularaxis": {
            "gridcolor": "white",
            "linecolor": "white",
            "ticks": ""
           },
           "bgcolor": "#E5ECF6",
           "radialaxis": {
            "gridcolor": "white",
            "linecolor": "white",
            "ticks": ""
           }
          },
          "scene": {
           "xaxis": {
            "backgroundcolor": "#E5ECF6",
            "gridcolor": "white",
            "gridwidth": 2,
            "linecolor": "white",
            "showbackground": true,
            "ticks": "",
            "zerolinecolor": "white"
           },
           "yaxis": {
            "backgroundcolor": "#E5ECF6",
            "gridcolor": "white",
            "gridwidth": 2,
            "linecolor": "white",
            "showbackground": true,
            "ticks": "",
            "zerolinecolor": "white"
           },
           "zaxis": {
            "backgroundcolor": "#E5ECF6",
            "gridcolor": "white",
            "gridwidth": 2,
            "linecolor": "white",
            "showbackground": true,
            "ticks": "",
            "zerolinecolor": "white"
           }
          },
          "shapedefaults": {
           "line": {
            "color": "#2a3f5f"
           }
          },
          "ternary": {
           "aaxis": {
            "gridcolor": "white",
            "linecolor": "white",
            "ticks": ""
           },
           "baxis": {
            "gridcolor": "white",
            "linecolor": "white",
            "ticks": ""
           },
           "bgcolor": "#E5ECF6",
           "caxis": {
            "gridcolor": "white",
            "linecolor": "white",
            "ticks": ""
           }
          },
          "title": {
           "x": 0.05
          },
          "xaxis": {
           "automargin": true,
           "gridcolor": "white",
           "linecolor": "white",
           "ticks": "",
           "title": {
            "standoff": 15
           },
           "zerolinecolor": "white",
           "zerolinewidth": 2
          },
          "yaxis": {
           "automargin": true,
           "gridcolor": "white",
           "linecolor": "white",
           "ticks": "",
           "title": {
            "standoff": 15
           },
           "zerolinecolor": "white",
           "zerolinewidth": 2
          }
         }
        },
        "xaxis": {
         "anchor": "y",
         "domain": [
          0,
          1
         ],
         "title": {
          "text": "Years of Experience"
         }
        },
        "yaxis": {
         "anchor": "x",
         "domain": [
          0,
          1
         ],
         "title": {
          "text": "Salary estimate"
         }
        }
       }
      }
     },
     "metadata": {},
     "output_type": "display_data"
    }
   ],
   "source": [
    "# Create a scatter plot\n",
    "plot = px.scatter(jobs_data, x = \"years_experience\", y = \"midpoint_salary_estimate\",\n",
    "labels= {\"years_experience\" : \"Years of Experience\",\n",
    "\"midpoint_salary_estimate\": \"Salary estimate\"})\n",
    "plot.show()"
   ]
  },
  {
   "cell_type": "code",
   "execution_count": 36,
   "id": "73ce6a4b-c486-4269-9324-c09f7407e1ed",
   "metadata": {
    "vscode": {
     "languageId": "quarto"
    }
   },
   "outputs": [],
   "source": [
    "def lang_req(description):\n",
    "    prompt = f\"\"\"Return one of the four categories regarding the languages mentioned: R, Python, Both, or Neither. Here is the job description:\n",
    "    {description}\n",
    "    \"\"\"\n",
    "    return llm_chat(prompt)\n",
    "\n",
    "# Vectorize the function and test it on the first few rows\n",
    "lang_req_vec = np.vectorize(lang_req)"
   ]
  },
  {
   "cell_type": "code",
   "execution_count": 37,
   "id": "56d94e1f-aae6-4a63-9b99-35d3f778b352",
   "metadata": {
    "vscode": {
     "languageId": "quarto"
    }
   },
   "outputs": [
    {
     "data": {
      "text/plain": [
       "'Both'"
      ]
     },
     "execution_count": 37,
     "metadata": {},
     "output_type": "execute_result"
    }
   ],
   "source": [
    "# Example use\n",
    "lang_req(\"Most programming language required for Data Analysts\")"
   ]
  },
  {
   "cell_type": "code",
   "execution_count": 38,
   "id": "2693df31-addc-49c8-9f10-2f9a435e0732",
   "metadata": {
    "vscode": {
     "languageId": "quarto"
    }
   },
   "outputs": [],
   "source": [
    "# write to csv\n",
    "jobs_data.to_csv(\"outputs/jobs_data.csv\")"
   ]
  },
  {
   "cell_type": "code",
   "execution_count": 39,
   "id": "ef9619d6-45a8-4247-8c4e-f0965b625e14",
   "metadata": {
    "vscode": {
     "languageId": "quarto"
    }
   },
   "outputs": [
    {
     "data": {
      "text/html": [
       "<div>\n",
       "<style scoped>\n",
       "    .dataframe tbody tr th:only-of-type {\n",
       "        vertical-align: middle;\n",
       "    }\n",
       "\n",
       "    .dataframe tbody tr th {\n",
       "        vertical-align: top;\n",
       "    }\n",
       "\n",
       "    .dataframe thead th {\n",
       "        text-align: right;\n",
       "    }\n",
       "</style>\n",
       "<table border=\"1\" class=\"dataframe\">\n",
       "  <thead>\n",
       "    <tr style=\"text-align: right;\">\n",
       "      <th></th>\n",
       "      <th>job_title</th>\n",
       "      <th>salary_estimate</th>\n",
       "      <th>midpoint_salary_estimate</th>\n",
       "      <th>job_description</th>\n",
       "      <th>company_name</th>\n",
       "      <th>location</th>\n",
       "      <th>size</th>\n",
       "      <th>type_of_ownership</th>\n",
       "      <th>industry</th>\n",
       "      <th>years_required</th>\n",
       "      <th>years_experience</th>\n",
       "      <th>lang_required</th>\n",
       "    </tr>\n",
       "  </thead>\n",
       "  <tbody>\n",
       "    <tr>\n",
       "      <th>0</th>\n",
       "      <td>Information Security and Data Protection Analyst</td>\n",
       "      <td>$28K-$52K (Glassdoor est.)</td>\n",
       "      <td>40000</td>\n",
       "      <td>Amyx is seeking to hire an Information Securit...</td>\n",
       "      <td>Amyx, Inc.\\n4.0</td>\n",
       "      <td>Columbus, OH</td>\n",
       "      <td>501 to 1000 employees</td>\n",
       "      <td>Company - Private</td>\n",
       "      <td>IT Services</td>\n",
       "      <td>5.0</td>\n",
       "      <td>5.0</td>\n",
       "      <td>Neither</td>\n",
       "    </tr>\n",
       "    <tr>\n",
       "      <th>1</th>\n",
       "      <td>Data Analyst</td>\n",
       "      <td>$76K-$122K (Glassdoor est.)</td>\n",
       "      <td>99000</td>\n",
       "      <td>Job Description\\nThe Customer Engineering Oper...</td>\n",
       "      <td>ProMedia\\n4.4</td>\n",
       "      <td>San Diego, CA</td>\n",
       "      <td>1 to 50 employees</td>\n",
       "      <td>Company - Private</td>\n",
       "      <td>Advertising &amp; Marketing</td>\n",
       "      <td>NaN</td>\n",
       "      <td>NaN</td>\n",
       "      <td>Neither</td>\n",
       "    </tr>\n",
       "    <tr>\n",
       "      <th>2</th>\n",
       "      <td>Bilingual Senior Data Analyst (Japanese / Engl...</td>\n",
       "      <td>$55K-$101K (Glassdoor est.)</td>\n",
       "      <td>78000</td>\n",
       "      <td>Nintendo of America Inc.\\n\\nThe worldwide pion...</td>\n",
       "      <td>Nintendo\\n4.0</td>\n",
       "      <td>Redmond, WA</td>\n",
       "      <td>5001 to 10000 employees</td>\n",
       "      <td>Company - Public</td>\n",
       "      <td>Video Games</td>\n",
       "      <td>5.0</td>\n",
       "      <td>5.0</td>\n",
       "      <td>Neither</td>\n",
       "    </tr>\n",
       "    <tr>\n",
       "      <th>3</th>\n",
       "      <td>Sr. Data Analyst, Ad Operations</td>\n",
       "      <td>$57K-$103K (Glassdoor est.)</td>\n",
       "      <td>80000</td>\n",
       "      <td>System1 is looking for a driven data analyst w...</td>\n",
       "      <td>System1\\n3.8</td>\n",
       "      <td>Venice, CA</td>\n",
       "      <td>201 to 500 employees</td>\n",
       "      <td>Company - Private</td>\n",
       "      <td>Internet</td>\n",
       "      <td>3.0</td>\n",
       "      <td>3.0</td>\n",
       "      <td>Both</td>\n",
       "    </tr>\n",
       "    <tr>\n",
       "      <th>4</th>\n",
       "      <td>Data Analyst</td>\n",
       "      <td>$43K-$69K (Glassdoor est.)</td>\n",
       "      <td>56000</td>\n",
       "      <td>Job Title: Data Analyst (1)\\n\\nPosition Type: ...</td>\n",
       "      <td>Bluemont Technology &amp; Research, Inc.\\n1.0</td>\n",
       "      <td>Norfolk, VA</td>\n",
       "      <td>1 to 50 employees</td>\n",
       "      <td>Company - Private</td>\n",
       "      <td>-1</td>\n",
       "      <td>5.0</td>\n",
       "      <td>5.0</td>\n",
       "      <td>Neither</td>\n",
       "    </tr>\n",
       "  </tbody>\n",
       "</table>\n",
       "</div>"
      ],
      "text/plain": [
       "                                           job_title  \\\n",
       "0   Information Security and Data Protection Analyst   \n",
       "1                                       Data Analyst   \n",
       "2  Bilingual Senior Data Analyst (Japanese / Engl...   \n",
       "3                    Sr. Data Analyst, Ad Operations   \n",
       "4                                       Data Analyst   \n",
       "\n",
       "               salary_estimate  midpoint_salary_estimate  \\\n",
       "0   $28K-$52K (Glassdoor est.)                     40000   \n",
       "1  $76K-$122K (Glassdoor est.)                     99000   \n",
       "2  $55K-$101K (Glassdoor est.)                     78000   \n",
       "3  $57K-$103K (Glassdoor est.)                     80000   \n",
       "4   $43K-$69K (Glassdoor est.)                     56000   \n",
       "\n",
       "                                     job_description  \\\n",
       "0  Amyx is seeking to hire an Information Securit...   \n",
       "1  Job Description\\nThe Customer Engineering Oper...   \n",
       "2  Nintendo of America Inc.\\n\\nThe worldwide pion...   \n",
       "3  System1 is looking for a driven data analyst w...   \n",
       "4  Job Title: Data Analyst (1)\\n\\nPosition Type: ...   \n",
       "\n",
       "                                company_name       location  \\\n",
       "0                            Amyx, Inc.\\n4.0   Columbus, OH   \n",
       "1                              ProMedia\\n4.4  San Diego, CA   \n",
       "2                              Nintendo\\n4.0    Redmond, WA   \n",
       "3                               System1\\n3.8     Venice, CA   \n",
       "4  Bluemont Technology & Research, Inc.\\n1.0    Norfolk, VA   \n",
       "\n",
       "                      size  type_of_ownership                 industry  \\\n",
       "0    501 to 1000 employees  Company - Private              IT Services   \n",
       "1        1 to 50 employees  Company - Private  Advertising & Marketing   \n",
       "2  5001 to 10000 employees   Company - Public              Video Games   \n",
       "3     201 to 500 employees  Company - Private                 Internet   \n",
       "4        1 to 50 employees  Company - Private                       -1   \n",
       "\n",
       "   years_required  years_experience lang_required  \n",
       "0             5.0               5.0       Neither  \n",
       "1             NaN               NaN       Neither  \n",
       "2             5.0               5.0       Neither  \n",
       "3             3.0               3.0          Both  \n",
       "4             5.0               5.0       Neither  "
      ]
     },
     "execution_count": 39,
     "metadata": {},
     "output_type": "execute_result"
    }
   ],
   "source": [
    "# Apply the function to the full dataset\n",
    "jobs_data[\"lang_required\"] = lang_req_vec(jobs_data[\"job_description\"])\n",
    "jobs_data.head()"
   ]
  },
  {
   "cell_type": "code",
   "execution_count": 40,
   "id": "d5dde2e0-493e-484d-bc75-211cae8d409e",
   "metadata": {
    "vscode": {
     "languageId": "quarto"
    }
   },
   "outputs": [
    {
     "data": {
      "text/plain": [
       "lang_required\n",
       "Neither    41\n",
       "Both       24\n",
       "Python      5\n",
       "R           2\n",
       "Name: count, dtype: int64"
      ]
     },
     "execution_count": 40,
     "metadata": {},
     "output_type": "execute_result"
    }
   ],
   "source": [
    "# Count the occurrences of each category\n",
    "jobs_data.lang_required.value_counts()"
   ]
  },
  {
   "cell_type": "code",
   "execution_count": 41,
   "id": "e6ecc67c-3b7f-464d-83fd-85c69fffd7cb",
   "metadata": {
    "vscode": {
     "languageId": "quarto"
    }
   },
   "outputs": [
    {
     "data": {
      "application/vnd.plotly.v1+json": {
       "config": {
        "plotlyServerURL": "https://plot.ly"
       },
       "data": [
        {
         "alignmentgroup": "True",
         "hovertemplate": "Required language=%{x}<br>Salary distribution=%{y}<extra></extra>",
         "legendgroup": "",
         "marker": {
          "color": "#636efa"
         },
         "name": "",
         "notched": false,
         "offsetgroup": "",
         "orientation": "v",
         "showlegend": false,
         "type": "box",
         "x": [
          "Neither",
          "Neither",
          "Neither",
          "Both",
          "Neither",
          "Both",
          "Neither",
          "Neither",
          "Both",
          "Neither",
          "R",
          "Neither",
          "Both",
          "Neither",
          "Both",
          "Neither",
          "Both",
          "Neither",
          "Both",
          "Neither",
          "Neither",
          "Both",
          "Neither",
          "Neither",
          "Neither",
          "Both",
          "Neither",
          "Neither",
          "Neither",
          "Both",
          "Neither",
          "Neither",
          "Both",
          "Neither",
          "Python",
          "Neither",
          "Both",
          "Both",
          "Neither",
          "Python",
          "Neither",
          "Neither",
          "Both",
          "Neither",
          "Both",
          "Neither",
          "Both",
          "Neither",
          "Neither",
          "Python",
          "Neither",
          "Both",
          "Neither",
          "Python",
          "Neither",
          "Python",
          "Both",
          "Neither",
          "Neither",
          "Neither",
          "Both",
          "Neither",
          "Both",
          "Neither",
          "Neither",
          "Both",
          "Both",
          "Both",
          "Neither",
          "Neither",
          "R",
          "Both"
         ],
         "x0": " ",
         "xaxis": "x",
         "y": [
          40000,
          99000,
          78000,
          80000,
          56000,
          99000,
          68000,
          126000,
          72000,
          99000,
          72000,
          40000,
          85000,
          36000,
          138500,
          99000,
          47500,
          36500,
          72000,
          61500,
          68000,
          66500,
          56000,
          40000,
          63000,
          68000,
          59000,
          88500,
          85000,
          51000,
          41500,
          47500,
          113000,
          99000,
          62000,
          75500,
          150000,
          47500,
          120000,
          66500,
          53000,
          71500,
          104500,
          59500,
          80000,
          138500,
          59500,
          87000,
          54000,
          59000,
          72000,
          60500,
          66500,
          92000,
          60500,
          78500,
          77500,
          59500,
          70000,
          59000,
          69000,
          60000,
          42000,
          72000,
          74000,
          69000,
          61500,
          40000,
          63000,
          60500,
          69000,
          59500
         ],
         "y0": " ",
         "yaxis": "y"
        }
       ],
       "layout": {
        "boxmode": "group",
        "legend": {
         "tracegroupgap": 0
        },
        "margin": {
         "t": 60
        },
        "template": {
         "data": {
          "bar": [
           {
            "error_x": {
             "color": "#2a3f5f"
            },
            "error_y": {
             "color": "#2a3f5f"
            },
            "marker": {
             "line": {
              "color": "#E5ECF6",
              "width": 0.5
             },
             "pattern": {
              "fillmode": "overlay",
              "size": 10,
              "solidity": 0.2
             }
            },
            "type": "bar"
           }
          ],
          "barpolar": [
           {
            "marker": {
             "line": {
              "color": "#E5ECF6",
              "width": 0.5
             },
             "pattern": {
              "fillmode": "overlay",
              "size": 10,
              "solidity": 0.2
             }
            },
            "type": "barpolar"
           }
          ],
          "carpet": [
           {
            "aaxis": {
             "endlinecolor": "#2a3f5f",
             "gridcolor": "white",
             "linecolor": "white",
             "minorgridcolor": "white",
             "startlinecolor": "#2a3f5f"
            },
            "baxis": {
             "endlinecolor": "#2a3f5f",
             "gridcolor": "white",
             "linecolor": "white",
             "minorgridcolor": "white",
             "startlinecolor": "#2a3f5f"
            },
            "type": "carpet"
           }
          ],
          "choropleth": [
           {
            "colorbar": {
             "outlinewidth": 0,
             "ticks": ""
            },
            "type": "choropleth"
           }
          ],
          "contour": [
           {
            "colorbar": {
             "outlinewidth": 0,
             "ticks": ""
            },
            "colorscale": [
             [
              0,
              "#0d0887"
             ],
             [
              0.1111111111111111,
              "#46039f"
             ],
             [
              0.2222222222222222,
              "#7201a8"
             ],
             [
              0.3333333333333333,
              "#9c179e"
             ],
             [
              0.4444444444444444,
              "#bd3786"
             ],
             [
              0.5555555555555556,
              "#d8576b"
             ],
             [
              0.6666666666666666,
              "#ed7953"
             ],
             [
              0.7777777777777778,
              "#fb9f3a"
             ],
             [
              0.8888888888888888,
              "#fdca26"
             ],
             [
              1,
              "#f0f921"
             ]
            ],
            "type": "contour"
           }
          ],
          "contourcarpet": [
           {
            "colorbar": {
             "outlinewidth": 0,
             "ticks": ""
            },
            "type": "contourcarpet"
           }
          ],
          "heatmap": [
           {
            "colorbar": {
             "outlinewidth": 0,
             "ticks": ""
            },
            "colorscale": [
             [
              0,
              "#0d0887"
             ],
             [
              0.1111111111111111,
              "#46039f"
             ],
             [
              0.2222222222222222,
              "#7201a8"
             ],
             [
              0.3333333333333333,
              "#9c179e"
             ],
             [
              0.4444444444444444,
              "#bd3786"
             ],
             [
              0.5555555555555556,
              "#d8576b"
             ],
             [
              0.6666666666666666,
              "#ed7953"
             ],
             [
              0.7777777777777778,
              "#fb9f3a"
             ],
             [
              0.8888888888888888,
              "#fdca26"
             ],
             [
              1,
              "#f0f921"
             ]
            ],
            "type": "heatmap"
           }
          ],
          "heatmapgl": [
           {
            "colorbar": {
             "outlinewidth": 0,
             "ticks": ""
            },
            "colorscale": [
             [
              0,
              "#0d0887"
             ],
             [
              0.1111111111111111,
              "#46039f"
             ],
             [
              0.2222222222222222,
              "#7201a8"
             ],
             [
              0.3333333333333333,
              "#9c179e"
             ],
             [
              0.4444444444444444,
              "#bd3786"
             ],
             [
              0.5555555555555556,
              "#d8576b"
             ],
             [
              0.6666666666666666,
              "#ed7953"
             ],
             [
              0.7777777777777778,
              "#fb9f3a"
             ],
             [
              0.8888888888888888,
              "#fdca26"
             ],
             [
              1,
              "#f0f921"
             ]
            ],
            "type": "heatmapgl"
           }
          ],
          "histogram": [
           {
            "marker": {
             "pattern": {
              "fillmode": "overlay",
              "size": 10,
              "solidity": 0.2
             }
            },
            "type": "histogram"
           }
          ],
          "histogram2d": [
           {
            "colorbar": {
             "outlinewidth": 0,
             "ticks": ""
            },
            "colorscale": [
             [
              0,
              "#0d0887"
             ],
             [
              0.1111111111111111,
              "#46039f"
             ],
             [
              0.2222222222222222,
              "#7201a8"
             ],
             [
              0.3333333333333333,
              "#9c179e"
             ],
             [
              0.4444444444444444,
              "#bd3786"
             ],
             [
              0.5555555555555556,
              "#d8576b"
             ],
             [
              0.6666666666666666,
              "#ed7953"
             ],
             [
              0.7777777777777778,
              "#fb9f3a"
             ],
             [
              0.8888888888888888,
              "#fdca26"
             ],
             [
              1,
              "#f0f921"
             ]
            ],
            "type": "histogram2d"
           }
          ],
          "histogram2dcontour": [
           {
            "colorbar": {
             "outlinewidth": 0,
             "ticks": ""
            },
            "colorscale": [
             [
              0,
              "#0d0887"
             ],
             [
              0.1111111111111111,
              "#46039f"
             ],
             [
              0.2222222222222222,
              "#7201a8"
             ],
             [
              0.3333333333333333,
              "#9c179e"
             ],
             [
              0.4444444444444444,
              "#bd3786"
             ],
             [
              0.5555555555555556,
              "#d8576b"
             ],
             [
              0.6666666666666666,
              "#ed7953"
             ],
             [
              0.7777777777777778,
              "#fb9f3a"
             ],
             [
              0.8888888888888888,
              "#fdca26"
             ],
             [
              1,
              "#f0f921"
             ]
            ],
            "type": "histogram2dcontour"
           }
          ],
          "mesh3d": [
           {
            "colorbar": {
             "outlinewidth": 0,
             "ticks": ""
            },
            "type": "mesh3d"
           }
          ],
          "parcoords": [
           {
            "line": {
             "colorbar": {
              "outlinewidth": 0,
              "ticks": ""
             }
            },
            "type": "parcoords"
           }
          ],
          "pie": [
           {
            "automargin": true,
            "type": "pie"
           }
          ],
          "scatter": [
           {
            "fillpattern": {
             "fillmode": "overlay",
             "size": 10,
             "solidity": 0.2
            },
            "type": "scatter"
           }
          ],
          "scatter3d": [
           {
            "line": {
             "colorbar": {
              "outlinewidth": 0,
              "ticks": ""
             }
            },
            "marker": {
             "colorbar": {
              "outlinewidth": 0,
              "ticks": ""
             }
            },
            "type": "scatter3d"
           }
          ],
          "scattercarpet": [
           {
            "marker": {
             "colorbar": {
              "outlinewidth": 0,
              "ticks": ""
             }
            },
            "type": "scattercarpet"
           }
          ],
          "scattergeo": [
           {
            "marker": {
             "colorbar": {
              "outlinewidth": 0,
              "ticks": ""
             }
            },
            "type": "scattergeo"
           }
          ],
          "scattergl": [
           {
            "marker": {
             "colorbar": {
              "outlinewidth": 0,
              "ticks": ""
             }
            },
            "type": "scattergl"
           }
          ],
          "scattermapbox": [
           {
            "marker": {
             "colorbar": {
              "outlinewidth": 0,
              "ticks": ""
             }
            },
            "type": "scattermapbox"
           }
          ],
          "scatterpolar": [
           {
            "marker": {
             "colorbar": {
              "outlinewidth": 0,
              "ticks": ""
             }
            },
            "type": "scatterpolar"
           }
          ],
          "scatterpolargl": [
           {
            "marker": {
             "colorbar": {
              "outlinewidth": 0,
              "ticks": ""
             }
            },
            "type": "scatterpolargl"
           }
          ],
          "scatterternary": [
           {
            "marker": {
             "colorbar": {
              "outlinewidth": 0,
              "ticks": ""
             }
            },
            "type": "scatterternary"
           }
          ],
          "surface": [
           {
            "colorbar": {
             "outlinewidth": 0,
             "ticks": ""
            },
            "colorscale": [
             [
              0,
              "#0d0887"
             ],
             [
              0.1111111111111111,
              "#46039f"
             ],
             [
              0.2222222222222222,
              "#7201a8"
             ],
             [
              0.3333333333333333,
              "#9c179e"
             ],
             [
              0.4444444444444444,
              "#bd3786"
             ],
             [
              0.5555555555555556,
              "#d8576b"
             ],
             [
              0.6666666666666666,
              "#ed7953"
             ],
             [
              0.7777777777777778,
              "#fb9f3a"
             ],
             [
              0.8888888888888888,
              "#fdca26"
             ],
             [
              1,
              "#f0f921"
             ]
            ],
            "type": "surface"
           }
          ],
          "table": [
           {
            "cells": {
             "fill": {
              "color": "#EBF0F8"
             },
             "line": {
              "color": "white"
             }
            },
            "header": {
             "fill": {
              "color": "#C8D4E3"
             },
             "line": {
              "color": "white"
             }
            },
            "type": "table"
           }
          ]
         },
         "layout": {
          "annotationdefaults": {
           "arrowcolor": "#2a3f5f",
           "arrowhead": 0,
           "arrowwidth": 1
          },
          "autotypenumbers": "strict",
          "coloraxis": {
           "colorbar": {
            "outlinewidth": 0,
            "ticks": ""
           }
          },
          "colorscale": {
           "diverging": [
            [
             0,
             "#8e0152"
            ],
            [
             0.1,
             "#c51b7d"
            ],
            [
             0.2,
             "#de77ae"
            ],
            [
             0.3,
             "#f1b6da"
            ],
            [
             0.4,
             "#fde0ef"
            ],
            [
             0.5,
             "#f7f7f7"
            ],
            [
             0.6,
             "#e6f5d0"
            ],
            [
             0.7,
             "#b8e186"
            ],
            [
             0.8,
             "#7fbc41"
            ],
            [
             0.9,
             "#4d9221"
            ],
            [
             1,
             "#276419"
            ]
           ],
           "sequential": [
            [
             0,
             "#0d0887"
            ],
            [
             0.1111111111111111,
             "#46039f"
            ],
            [
             0.2222222222222222,
             "#7201a8"
            ],
            [
             0.3333333333333333,
             "#9c179e"
            ],
            [
             0.4444444444444444,
             "#bd3786"
            ],
            [
             0.5555555555555556,
             "#d8576b"
            ],
            [
             0.6666666666666666,
             "#ed7953"
            ],
            [
             0.7777777777777778,
             "#fb9f3a"
            ],
            [
             0.8888888888888888,
             "#fdca26"
            ],
            [
             1,
             "#f0f921"
            ]
           ],
           "sequentialminus": [
            [
             0,
             "#0d0887"
            ],
            [
             0.1111111111111111,
             "#46039f"
            ],
            [
             0.2222222222222222,
             "#7201a8"
            ],
            [
             0.3333333333333333,
             "#9c179e"
            ],
            [
             0.4444444444444444,
             "#bd3786"
            ],
            [
             0.5555555555555556,
             "#d8576b"
            ],
            [
             0.6666666666666666,
             "#ed7953"
            ],
            [
             0.7777777777777778,
             "#fb9f3a"
            ],
            [
             0.8888888888888888,
             "#fdca26"
            ],
            [
             1,
             "#f0f921"
            ]
           ]
          },
          "colorway": [
           "#636efa",
           "#EF553B",
           "#00cc96",
           "#ab63fa",
           "#FFA15A",
           "#19d3f3",
           "#FF6692",
           "#B6E880",
           "#FF97FF",
           "#FECB52"
          ],
          "font": {
           "color": "#2a3f5f"
          },
          "geo": {
           "bgcolor": "white",
           "lakecolor": "white",
           "landcolor": "#E5ECF6",
           "showlakes": true,
           "showland": true,
           "subunitcolor": "white"
          },
          "hoverlabel": {
           "align": "left"
          },
          "hovermode": "closest",
          "mapbox": {
           "style": "light"
          },
          "paper_bgcolor": "white",
          "plot_bgcolor": "#E5ECF6",
          "polar": {
           "angularaxis": {
            "gridcolor": "white",
            "linecolor": "white",
            "ticks": ""
           },
           "bgcolor": "#E5ECF6",
           "radialaxis": {
            "gridcolor": "white",
            "linecolor": "white",
            "ticks": ""
           }
          },
          "scene": {
           "xaxis": {
            "backgroundcolor": "#E5ECF6",
            "gridcolor": "white",
            "gridwidth": 2,
            "linecolor": "white",
            "showbackground": true,
            "ticks": "",
            "zerolinecolor": "white"
           },
           "yaxis": {
            "backgroundcolor": "#E5ECF6",
            "gridcolor": "white",
            "gridwidth": 2,
            "linecolor": "white",
            "showbackground": true,
            "ticks": "",
            "zerolinecolor": "white"
           },
           "zaxis": {
            "backgroundcolor": "#E5ECF6",
            "gridcolor": "white",
            "gridwidth": 2,
            "linecolor": "white",
            "showbackground": true,
            "ticks": "",
            "zerolinecolor": "white"
           }
          },
          "shapedefaults": {
           "line": {
            "color": "#2a3f5f"
           }
          },
          "ternary": {
           "aaxis": {
            "gridcolor": "white",
            "linecolor": "white",
            "ticks": ""
           },
           "baxis": {
            "gridcolor": "white",
            "linecolor": "white",
            "ticks": ""
           },
           "bgcolor": "#E5ECF6",
           "caxis": {
            "gridcolor": "white",
            "linecolor": "white",
            "ticks": ""
           }
          },
          "title": {
           "x": 0.05
          },
          "xaxis": {
           "automargin": true,
           "gridcolor": "white",
           "linecolor": "white",
           "ticks": "",
           "title": {
            "standoff": 15
           },
           "zerolinecolor": "white",
           "zerolinewidth": 2
          },
          "yaxis": {
           "automargin": true,
           "gridcolor": "white",
           "linecolor": "white",
           "ticks": "",
           "title": {
            "standoff": 15
           },
           "zerolinecolor": "white",
           "zerolinewidth": 2
          }
         }
        },
        "xaxis": {
         "anchor": "y",
         "domain": [
          0,
          1
         ],
         "title": {
          "text": "Required language"
         }
        },
        "yaxis": {
         "anchor": "x",
         "domain": [
          0,
          1
         ],
         "title": {
          "text": "Salary distribution"
         }
        }
       }
      }
     },
     "metadata": {},
     "output_type": "display_data"
    }
   ],
   "source": [
    "# Create a box plot using Plotly Express\n",
    "fig = px.box(jobs_data, x=\"lang_required\", \n",
    "y=\"midpoint_salary_estimate\",\n",
    "labels= {\"midpoint_salary_estimate\" : \"Salary distribution\",\n",
    "\"lang_required\": \"Required language\"}\n",
    ")\n",
    "fig.show()"
   ]
  },
  {
   "cell_type": "code",
   "execution_count": null,
   "metadata": {},
   "outputs": [],
   "source": []
  },
  {
   "cell_type": "code",
   "execution_count": 42,
   "id": "75d5e631-2448-480f-a9ca-18dab817fb56",
   "metadata": {
    "vscode": {
     "languageId": "quarto"
    }
   },
   "outputs": [
    {
     "data": {
      "application/vnd.plotly.v1+json": {
       "config": {
        "plotlyServerURL": "https://plot.ly"
       },
       "data": [
        {
         "alignmentgroup": "True",
         "hovertemplate": "Required language=%{x}<br>Salary distribution=%{y}<extra></extra>",
         "legendgroup": "",
         "marker": {
          "color": "#636efa"
         },
         "name": "",
         "notched": false,
         "offsetgroup": "",
         "orientation": "v",
         "showlegend": false,
         "type": "box",
         "x": [
          "Neither",
          "Neither",
          "Neither",
          "Both",
          "Neither",
          "Both",
          "Neither",
          "Neither",
          "Both",
          "Neither",
          "R",
          "Neither",
          "Both",
          "Neither",
          "Both",
          "Neither",
          "Both",
          "Neither",
          "Both",
          "Neither",
          "Neither",
          "Both",
          "Neither",
          "Neither",
          "Neither",
          "Both",
          "Neither",
          "Neither",
          "Neither",
          "Both",
          "Neither",
          "Neither",
          "Both",
          "Neither",
          "Python",
          "Neither",
          "Both",
          "Both",
          "Neither",
          "Python",
          "Neither",
          "Neither",
          "Both",
          "Neither",
          "Both",
          "Neither",
          "Both",
          "Neither",
          "Neither",
          "Python",
          "Neither",
          "Both",
          "Neither",
          "Python",
          "Neither",
          "Python",
          "Both",
          "Neither",
          "Neither",
          "Neither",
          "Both",
          "Neither",
          "Both",
          "Neither",
          "Neither",
          "Both",
          "Both",
          "Both",
          "Neither",
          "Neither",
          "R",
          "Both"
         ],
         "x0": " ",
         "xaxis": "x",
         "y": [
          40000,
          99000,
          78000,
          80000,
          56000,
          99000,
          68000,
          126000,
          72000,
          99000,
          72000,
          40000,
          85000,
          36000,
          138500,
          99000,
          47500,
          36500,
          72000,
          61500,
          68000,
          66500,
          56000,
          40000,
          63000,
          68000,
          59000,
          88500,
          85000,
          51000,
          41500,
          47500,
          113000,
          99000,
          62000,
          75500,
          150000,
          47500,
          120000,
          66500,
          53000,
          71500,
          104500,
          59500,
          80000,
          138500,
          59500,
          87000,
          54000,
          59000,
          72000,
          60500,
          66500,
          92000,
          60500,
          78500,
          77500,
          59500,
          70000,
          59000,
          69000,
          60000,
          42000,
          72000,
          74000,
          69000,
          61500,
          40000,
          63000,
          60500,
          69000,
          59500
         ],
         "y0": " ",
         "yaxis": "y"
        }
       ],
       "layout": {
        "boxmode": "group",
        "legend": {
         "tracegroupgap": 0
        },
        "margin": {
         "t": 60
        },
        "template": {
         "data": {
          "bar": [
           {
            "error_x": {
             "color": "#2a3f5f"
            },
            "error_y": {
             "color": "#2a3f5f"
            },
            "marker": {
             "line": {
              "color": "#E5ECF6",
              "width": 0.5
             },
             "pattern": {
              "fillmode": "overlay",
              "size": 10,
              "solidity": 0.2
             }
            },
            "type": "bar"
           }
          ],
          "barpolar": [
           {
            "marker": {
             "line": {
              "color": "#E5ECF6",
              "width": 0.5
             },
             "pattern": {
              "fillmode": "overlay",
              "size": 10,
              "solidity": 0.2
             }
            },
            "type": "barpolar"
           }
          ],
          "carpet": [
           {
            "aaxis": {
             "endlinecolor": "#2a3f5f",
             "gridcolor": "white",
             "linecolor": "white",
             "minorgridcolor": "white",
             "startlinecolor": "#2a3f5f"
            },
            "baxis": {
             "endlinecolor": "#2a3f5f",
             "gridcolor": "white",
             "linecolor": "white",
             "minorgridcolor": "white",
             "startlinecolor": "#2a3f5f"
            },
            "type": "carpet"
           }
          ],
          "choropleth": [
           {
            "colorbar": {
             "outlinewidth": 0,
             "ticks": ""
            },
            "type": "choropleth"
           }
          ],
          "contour": [
           {
            "colorbar": {
             "outlinewidth": 0,
             "ticks": ""
            },
            "colorscale": [
             [
              0,
              "#0d0887"
             ],
             [
              0.1111111111111111,
              "#46039f"
             ],
             [
              0.2222222222222222,
              "#7201a8"
             ],
             [
              0.3333333333333333,
              "#9c179e"
             ],
             [
              0.4444444444444444,
              "#bd3786"
             ],
             [
              0.5555555555555556,
              "#d8576b"
             ],
             [
              0.6666666666666666,
              "#ed7953"
             ],
             [
              0.7777777777777778,
              "#fb9f3a"
             ],
             [
              0.8888888888888888,
              "#fdca26"
             ],
             [
              1,
              "#f0f921"
             ]
            ],
            "type": "contour"
           }
          ],
          "contourcarpet": [
           {
            "colorbar": {
             "outlinewidth": 0,
             "ticks": ""
            },
            "type": "contourcarpet"
           }
          ],
          "heatmap": [
           {
            "colorbar": {
             "outlinewidth": 0,
             "ticks": ""
            },
            "colorscale": [
             [
              0,
              "#0d0887"
             ],
             [
              0.1111111111111111,
              "#46039f"
             ],
             [
              0.2222222222222222,
              "#7201a8"
             ],
             [
              0.3333333333333333,
              "#9c179e"
             ],
             [
              0.4444444444444444,
              "#bd3786"
             ],
             [
              0.5555555555555556,
              "#d8576b"
             ],
             [
              0.6666666666666666,
              "#ed7953"
             ],
             [
              0.7777777777777778,
              "#fb9f3a"
             ],
             [
              0.8888888888888888,
              "#fdca26"
             ],
             [
              1,
              "#f0f921"
             ]
            ],
            "type": "heatmap"
           }
          ],
          "heatmapgl": [
           {
            "colorbar": {
             "outlinewidth": 0,
             "ticks": ""
            },
            "colorscale": [
             [
              0,
              "#0d0887"
             ],
             [
              0.1111111111111111,
              "#46039f"
             ],
             [
              0.2222222222222222,
              "#7201a8"
             ],
             [
              0.3333333333333333,
              "#9c179e"
             ],
             [
              0.4444444444444444,
              "#bd3786"
             ],
             [
              0.5555555555555556,
              "#d8576b"
             ],
             [
              0.6666666666666666,
              "#ed7953"
             ],
             [
              0.7777777777777778,
              "#fb9f3a"
             ],
             [
              0.8888888888888888,
              "#fdca26"
             ],
             [
              1,
              "#f0f921"
             ]
            ],
            "type": "heatmapgl"
           }
          ],
          "histogram": [
           {
            "marker": {
             "pattern": {
              "fillmode": "overlay",
              "size": 10,
              "solidity": 0.2
             }
            },
            "type": "histogram"
           }
          ],
          "histogram2d": [
           {
            "colorbar": {
             "outlinewidth": 0,
             "ticks": ""
            },
            "colorscale": [
             [
              0,
              "#0d0887"
             ],
             [
              0.1111111111111111,
              "#46039f"
             ],
             [
              0.2222222222222222,
              "#7201a8"
             ],
             [
              0.3333333333333333,
              "#9c179e"
             ],
             [
              0.4444444444444444,
              "#bd3786"
             ],
             [
              0.5555555555555556,
              "#d8576b"
             ],
             [
              0.6666666666666666,
              "#ed7953"
             ],
             [
              0.7777777777777778,
              "#fb9f3a"
             ],
             [
              0.8888888888888888,
              "#fdca26"
             ],
             [
              1,
              "#f0f921"
             ]
            ],
            "type": "histogram2d"
           }
          ],
          "histogram2dcontour": [
           {
            "colorbar": {
             "outlinewidth": 0,
             "ticks": ""
            },
            "colorscale": [
             [
              0,
              "#0d0887"
             ],
             [
              0.1111111111111111,
              "#46039f"
             ],
             [
              0.2222222222222222,
              "#7201a8"
             ],
             [
              0.3333333333333333,
              "#9c179e"
             ],
             [
              0.4444444444444444,
              "#bd3786"
             ],
             [
              0.5555555555555556,
              "#d8576b"
             ],
             [
              0.6666666666666666,
              "#ed7953"
             ],
             [
              0.7777777777777778,
              "#fb9f3a"
             ],
             [
              0.8888888888888888,
              "#fdca26"
             ],
             [
              1,
              "#f0f921"
             ]
            ],
            "type": "histogram2dcontour"
           }
          ],
          "mesh3d": [
           {
            "colorbar": {
             "outlinewidth": 0,
             "ticks": ""
            },
            "type": "mesh3d"
           }
          ],
          "parcoords": [
           {
            "line": {
             "colorbar": {
              "outlinewidth": 0,
              "ticks": ""
             }
            },
            "type": "parcoords"
           }
          ],
          "pie": [
           {
            "automargin": true,
            "type": "pie"
           }
          ],
          "scatter": [
           {
            "fillpattern": {
             "fillmode": "overlay",
             "size": 10,
             "solidity": 0.2
            },
            "type": "scatter"
           }
          ],
          "scatter3d": [
           {
            "line": {
             "colorbar": {
              "outlinewidth": 0,
              "ticks": ""
             }
            },
            "marker": {
             "colorbar": {
              "outlinewidth": 0,
              "ticks": ""
             }
            },
            "type": "scatter3d"
           }
          ],
          "scattercarpet": [
           {
            "marker": {
             "colorbar": {
              "outlinewidth": 0,
              "ticks": ""
             }
            },
            "type": "scattercarpet"
           }
          ],
          "scattergeo": [
           {
            "marker": {
             "colorbar": {
              "outlinewidth": 0,
              "ticks": ""
             }
            },
            "type": "scattergeo"
           }
          ],
          "scattergl": [
           {
            "marker": {
             "colorbar": {
              "outlinewidth": 0,
              "ticks": ""
             }
            },
            "type": "scattergl"
           }
          ],
          "scattermapbox": [
           {
            "marker": {
             "colorbar": {
              "outlinewidth": 0,
              "ticks": ""
             }
            },
            "type": "scattermapbox"
           }
          ],
          "scatterpolar": [
           {
            "marker": {
             "colorbar": {
              "outlinewidth": 0,
              "ticks": ""
             }
            },
            "type": "scatterpolar"
           }
          ],
          "scatterpolargl": [
           {
            "marker": {
             "colorbar": {
              "outlinewidth": 0,
              "ticks": ""
             }
            },
            "type": "scatterpolargl"
           }
          ],
          "scatterternary": [
           {
            "marker": {
             "colorbar": {
              "outlinewidth": 0,
              "ticks": ""
             }
            },
            "type": "scatterternary"
           }
          ],
          "surface": [
           {
            "colorbar": {
             "outlinewidth": 0,
             "ticks": ""
            },
            "colorscale": [
             [
              0,
              "#0d0887"
             ],
             [
              0.1111111111111111,
              "#46039f"
             ],
             [
              0.2222222222222222,
              "#7201a8"
             ],
             [
              0.3333333333333333,
              "#9c179e"
             ],
             [
              0.4444444444444444,
              "#bd3786"
             ],
             [
              0.5555555555555556,
              "#d8576b"
             ],
             [
              0.6666666666666666,
              "#ed7953"
             ],
             [
              0.7777777777777778,
              "#fb9f3a"
             ],
             [
              0.8888888888888888,
              "#fdca26"
             ],
             [
              1,
              "#f0f921"
             ]
            ],
            "type": "surface"
           }
          ],
          "table": [
           {
            "cells": {
             "fill": {
              "color": "#EBF0F8"
             },
             "line": {
              "color": "white"
             }
            },
            "header": {
             "fill": {
              "color": "#C8D4E3"
             },
             "line": {
              "color": "white"
             }
            },
            "type": "table"
           }
          ]
         },
         "layout": {
          "annotationdefaults": {
           "arrowcolor": "#2a3f5f",
           "arrowhead": 0,
           "arrowwidth": 1
          },
          "autotypenumbers": "strict",
          "coloraxis": {
           "colorbar": {
            "outlinewidth": 0,
            "ticks": ""
           }
          },
          "colorscale": {
           "diverging": [
            [
             0,
             "#8e0152"
            ],
            [
             0.1,
             "#c51b7d"
            ],
            [
             0.2,
             "#de77ae"
            ],
            [
             0.3,
             "#f1b6da"
            ],
            [
             0.4,
             "#fde0ef"
            ],
            [
             0.5,
             "#f7f7f7"
            ],
            [
             0.6,
             "#e6f5d0"
            ],
            [
             0.7,
             "#b8e186"
            ],
            [
             0.8,
             "#7fbc41"
            ],
            [
             0.9,
             "#4d9221"
            ],
            [
             1,
             "#276419"
            ]
           ],
           "sequential": [
            [
             0,
             "#0d0887"
            ],
            [
             0.1111111111111111,
             "#46039f"
            ],
            [
             0.2222222222222222,
             "#7201a8"
            ],
            [
             0.3333333333333333,
             "#9c179e"
            ],
            [
             0.4444444444444444,
             "#bd3786"
            ],
            [
             0.5555555555555556,
             "#d8576b"
            ],
            [
             0.6666666666666666,
             "#ed7953"
            ],
            [
             0.7777777777777778,
             "#fb9f3a"
            ],
            [
             0.8888888888888888,
             "#fdca26"
            ],
            [
             1,
             "#f0f921"
            ]
           ],
           "sequentialminus": [
            [
             0,
             "#0d0887"
            ],
            [
             0.1111111111111111,
             "#46039f"
            ],
            [
             0.2222222222222222,
             "#7201a8"
            ],
            [
             0.3333333333333333,
             "#9c179e"
            ],
            [
             0.4444444444444444,
             "#bd3786"
            ],
            [
             0.5555555555555556,
             "#d8576b"
            ],
            [
             0.6666666666666666,
             "#ed7953"
            ],
            [
             0.7777777777777778,
             "#fb9f3a"
            ],
            [
             0.8888888888888888,
             "#fdca26"
            ],
            [
             1,
             "#f0f921"
            ]
           ]
          },
          "colorway": [
           "#636efa",
           "#EF553B",
           "#00cc96",
           "#ab63fa",
           "#FFA15A",
           "#19d3f3",
           "#FF6692",
           "#B6E880",
           "#FF97FF",
           "#FECB52"
          ],
          "font": {
           "color": "#2a3f5f"
          },
          "geo": {
           "bgcolor": "white",
           "lakecolor": "white",
           "landcolor": "#E5ECF6",
           "showlakes": true,
           "showland": true,
           "subunitcolor": "white"
          },
          "hoverlabel": {
           "align": "left"
          },
          "hovermode": "closest",
          "mapbox": {
           "style": "light"
          },
          "paper_bgcolor": "white",
          "plot_bgcolor": "#E5ECF6",
          "polar": {
           "angularaxis": {
            "gridcolor": "white",
            "linecolor": "white",
            "ticks": ""
           },
           "bgcolor": "#E5ECF6",
           "radialaxis": {
            "gridcolor": "white",
            "linecolor": "white",
            "ticks": ""
           }
          },
          "scene": {
           "xaxis": {
            "backgroundcolor": "#E5ECF6",
            "gridcolor": "white",
            "gridwidth": 2,
            "linecolor": "white",
            "showbackground": true,
            "ticks": "",
            "zerolinecolor": "white"
           },
           "yaxis": {
            "backgroundcolor": "#E5ECF6",
            "gridcolor": "white",
            "gridwidth": 2,
            "linecolor": "white",
            "showbackground": true,
            "ticks": "",
            "zerolinecolor": "white"
           },
           "zaxis": {
            "backgroundcolor": "#E5ECF6",
            "gridcolor": "white",
            "gridwidth": 2,
            "linecolor": "white",
            "showbackground": true,
            "ticks": "",
            "zerolinecolor": "white"
           }
          },
          "shapedefaults": {
           "line": {
            "color": "#2a3f5f"
           }
          },
          "ternary": {
           "aaxis": {
            "gridcolor": "white",
            "linecolor": "white",
            "ticks": ""
           },
           "baxis": {
            "gridcolor": "white",
            "linecolor": "white",
            "ticks": ""
           },
           "bgcolor": "#E5ECF6",
           "caxis": {
            "gridcolor": "white",
            "linecolor": "white",
            "ticks": ""
           }
          },
          "title": {
           "x": 0.05
          },
          "xaxis": {
           "automargin": true,
           "gridcolor": "white",
           "linecolor": "white",
           "ticks": "",
           "title": {
            "standoff": 15
           },
           "zerolinecolor": "white",
           "zerolinewidth": 2
          },
          "yaxis": {
           "automargin": true,
           "gridcolor": "white",
           "linecolor": "white",
           "ticks": "",
           "title": {
            "standoff": 15
           },
           "zerolinecolor": "white",
           "zerolinewidth": 2
          }
         }
        },
        "xaxis": {
         "anchor": "y",
         "domain": [
          0,
          1
         ],
         "title": {
          "text": "Required language"
         }
        },
        "yaxis": {
         "anchor": "x",
         "domain": [
          0,
          1
         ],
         "title": {
          "text": "Salary distribution"
         }
        }
       }
      }
     },
     "metadata": {},
     "output_type": "display_data"
    }
   ],
   "source": [
    "# Create a box plot using Plotly Express\n",
    "fig = px.box(jobs_data, x=\"lang_required\", \n",
    "y=\"midpoint_salary_estimate\",\n",
    "labels= {\"midpoint_salary_estimate\" : \"Salary distribution\",\n",
    "\"lang_required\": \"Required language\"}\n",
    ")\n",
    "fig.show()"
   ]
  },
  {
   "cell_type": "code",
   "execution_count": null,
   "metadata": {},
   "outputs": [],
   "source": []
  }
 ],
 "metadata": {
  "kernelspec": {
   "display_name": ".venv",
   "language": "python",
   "name": "python3"
  },
  "language_info": {
   "name": "python",
   "version": "3.12.0"
  }
 },
 "nbformat": 4,
 "nbformat_minor": 2
}
